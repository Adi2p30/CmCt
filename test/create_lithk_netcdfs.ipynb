{
 "cells": [
  {
   "cell_type": "markdown",
   "id": "f32131a4-466c-46eb-84f4-358489f19e40",
   "metadata": {},
   "source": [
    "# Create netcdfs to test CmCt\n",
    "This notebook creates test data for running CmCt scripts."
   ]
  },
  {
   "cell_type": "markdown",
   "id": "ab3e5429-ce4b-423c-a14f-ac869a393318",
   "metadata": {},
   "source": [
    "### Setup"
   ]
  },
  {
   "cell_type": "code",
   "execution_count": null,
   "id": "df71465a-617d-4699-a7be-6587805eb48a",
   "metadata": {},
   "outputs": [],
   "source": [
    "import rasterio\n",
    "import numpy as np\n",
    "import netCDF4 as nc\n",
    "import os\n",
    "from matplotlib import pyplot as plt"
   ]
  },
  {
   "cell_type": "code",
   "execution_count": null,
   "id": "d804ddea-adf0-4004-95bb-34ce87a5310f",
   "metadata": {},
   "outputs": [],
   "source": [
    "def tif2netcdf(fname):\n",
    "    # Open the GeoTIFF file\n",
    "    with rasterio.open(fname) as dataset:\n",
    "        # Read the data as a numpy array\n",
    "        data = dataset.read(1)  # Read the first band\n",
    "    \n",
    "        # Access metadata\n",
    "        print(\"Number of bands:\", dataset.count)\n",
    "        print(\"CRS:\", dataset.crs)\n",
    "        print(\"Bounds:\", dataset.bounds)\n",
    "    \n",
    "        height = data.shape[0]\n",
    "        width = data.shape[1]\n",
    "        cols, rows = np.meshgrid(np.arange(width), np.arange(height))\n",
    "        xs, ys = rasterio.transform.xy(dataset.transform, rows, cols)\n",
    "        #print(xs, ys)\n",
    "    \n",
    "        # Print the data array\n",
    "        print(data)\n",
    "\n",
    "    # Create a new NetCDF file\n",
    "    fname_nc = fname.split('.')[0] + '.nc'\n",
    "    try:\n",
    "        os.remove(fname_nc)\n",
    "    except:\n",
    "        pass\n",
    "        \n",
    "    dataset = nc.Dataset(fname_nc, 'w', format='NETCDF4')\n",
    "    \n",
    "    # Create dimensions\n",
    "    x_dim = dataset.createDimension('x', width)\n",
    "    y_dim = dataset.createDimension('y', height)\n",
    "    time_dim = dataset.createDimension('time', 21)  # Unlimited dimension\n",
    "    \n",
    "    # Create variables\n",
    "    x_ds = dataset.createVariable('x', np.float32, ('x',))\n",
    "    y_ds = dataset.createVariable('y', np.float32, ('y',))\n",
    "    time_ds = dataset.createVariable('time', np.float64, ('time',))\n",
    "    lithk_ds = dataset.createVariable('lithk', np.float32, ('time', 'y', 'x'))\n",
    "    \n",
    "    # Write attributes\n",
    "    time_ds.calendar = '360_day'\n",
    "    time_ds.units = 'days since 2000-1-1 00:00:00'\n",
    "    \n",
    "    # Write data to variables\n",
    "    x_ds[:] = np.array(xs)[0,:]\n",
    "    y_ds[:] = np.array(ys)[:,0]\n",
    "    time_ds[:] = np.arange(0, 360*21, 360)\n",
    "    lithk_ds[:, :, :] = np.zeros( (21, height, width) )\n",
    "    for i in range(1,21):\n",
    "        lithk_ds[i, :, :] = data*i\n",
    "    \n",
    "    # Close the dataset\n",
    "    dataset.close()\n",
    "    \n",
    "    return None\n"
   ]
  },
  {
   "cell_type": "markdown",
   "id": "44f43670-835e-4d77-8a4c-f2ea8d3b4767",
   "metadata": {},
   "source": [
    "---"
   ]
  },
  {
   "cell_type": "markdown",
   "id": "185cf53d-ac95-4bb3-a1e0-53086411346c",
   "metadata": {},
   "source": [
    "### AIS and GIS `lithk` netcdfs\n",
    "The code below will write netcdfs for the `lithk` variable for both Antarctica and Greenland. These are produced from [Smith et al., 2020](https://doi.org/10.1126/science.aaz5845), which provides gridded rates of mass change for both ice sheets. The rates are used to calculate annual ice sheet thickness change through time over 2000-2020. Note that the output netcdfs start with zero ice sheet thickness in 2000. These output netcdfs can be used in the IMBIE and gravimetry comparison notebooks because those use ice sheet change over time in their comparisons against observations."
   ]
  },
  {
   "cell_type": "code",
   "execution_count": null,
   "id": "167dfcd4-af93-4108-bb29-06c6ee53b0c8",
   "metadata": {},
   "outputs": [],
   "source": [
    "# NOTE that this will overwrite the netcdfs\n",
    "tif2netcdf('ais_dmdt_grounded_filt.tif')\n",
    "tif2netcdf('gris_dmdt_filt.tif')\n"
   ]
  },
  {
   "cell_type": "code",
   "execution_count": null,
   "id": "efdc9a26-ca01-4860-85d7-7c85eedb40c1",
   "metadata": {},
   "outputs": [],
   "source": []
  },
  {
   "cell_type": "code",
   "execution_count": null,
   "id": "935a5101-b9c5-42ef-9ce0-dbafed45eb84",
   "metadata": {},
   "outputs": [],
   "source": [
    "# As a check, read in the AIS netcdf and plot\n",
    "dataset = nc.Dataset('ais_dmdt_grounded_filt.nc')\n",
    "plt.imshow(dataset['lithk'][5,:,:], cmap='RdBu', vmin=-1, vmax=+1)\n",
    "plt.colorbar()\n",
    "dataset.close()\n"
   ]
  },
  {
   "cell_type": "code",
   "execution_count": null,
   "id": "0e94cd6e-8fb2-4c20-b1bd-b9af4457bc8c",
   "metadata": {},
   "outputs": [],
   "source": [
    "# As a check, read in the GIS netcdf and plot\n",
    "dataset = nc.Dataset('gris_dmdt_filt.nc')\n",
    "plt.imshow(dataset['lithk'][5,:,:], cmap='RdBu', vmin=-5, vmax=+5)\n",
    "plt.colorbar()\n",
    "dataset.close()\n"
   ]
  },
  {
   "cell_type": "code",
   "execution_count": null,
   "id": "c4924d68-1e10-4cc7-85ce-7b6d9523d27f",
   "metadata": {},
   "outputs": [],
   "source": []
  }
 ],
 "metadata": {
  "kernelspec": {
   "display_name": "Python 3 (ipykernel)",
   "language": "python",
   "name": "python3"
  },
  "language_info": {
   "codemirror_mode": {
    "name": "ipython",
    "version": 3
   },
   "file_extension": ".py",
   "mimetype": "text/x-python",
   "name": "python",
   "nbconvert_exporter": "python",
   "pygments_lexer": "ipython3",
   "version": "3.11.9"
  }
 },
 "nbformat": 4,
 "nbformat_minor": 5
}
