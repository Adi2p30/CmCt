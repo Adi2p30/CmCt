{
 "cells": [
  {
   "cell_type": "markdown",
   "metadata": {},
   "source": [
    "## Input data requirements"
   ]
  },
  {
   "cell_type": "markdown",
   "metadata": {},
   "source": [
    "The input ice sheet model should be saved as a netCDF file. There are several requirements for the comparison:\n",
    "\n",
    "### `Lithk` variable\n",
    "\n",
    "The uploaded model to contain thickness data (the `lithk` variable) for the comparison.\n",
    "\n",
    "### Rectangular grid\n",
    "\n",
    "At time of writing, models *must* be defined on a rectangular X-Y grid in the ISMIP6 standard projected polar-stereographic space. (Note, NOT a lat-lon grid!) The ISMIP6 standard projection is defined [here](http://www.climate-cryosphere.org/wiki/index.php?title=ISMIP6_wiki_page). \n"
   ]
  },
  {
   "cell_type": "code",
   "execution_count": 1,
   "metadata": {
    "code_folding": []
   },
   "outputs": [],
   "source": [
    "# set geospatial python3 kernel to provide needed packages\n",
    "import os,sys\n",
    "import glob as glob\n",
    "import numpy as np\n",
    "import h5py\n",
    "import xarray as xr\n",
    "import glob as glob\n",
    "import geopandas as gpd\n",
    "import pandas as pd\n",
    "import matplotlib.pyplot as plt\n",
    "from shapely.geometry import Point\n",
    "\n",
    "\n",
    "\n",
    "import cartopy\n",
    "import cartopy.crs as ccrs\n",
    "import cartopy.io.shapereader as shpreader\n",
    "\n",
    "# note: suppress numpy.dtype size changed warnings\n",
    "import warnings\n",
    "warnings.filterwarnings(\"ignore\", message=\"numpy.dtype size changed\")\n",
    "\n",
    "warnings.filterwarnings('ignore')"
   ]
  },
  {
   "cell_type": "markdown",
   "metadata": {},
   "source": [
    "### Set model dir path, ice sheet region and start and end date"
   ]
  },
  {
   "cell_type": "code",
   "execution_count": 2,
   "metadata": {},
   "outputs": [],
   "source": [
    "#Set the model data dir path\n",
    "nc_filename='/home/jovyan/CmCt/notebooks/Gravimetry/lithk_GIS_JPL_ISSM_asmb.nc'\n",
    "\n",
    "# Define the flag for the ice sheet region Greenland or Antarctica\n",
    "icesheet = \"Greenland\" # Change to \"Antarctica\" Or \"Greenland\"\n",
    "\n",
    "# Define start and end dates\n",
    "start_date = np.datetime64('2000-01-01')\n",
    "end_date = np.datetime64('2015-01-01')"
   ]
  },
  {
   "cell_type": "markdown",
   "metadata": {},
   "source": [
    "### Select projection, shapefile and csv file for imbie"
   ]
  },
  {
   "cell_type": "code",
   "execution_count": 3,
   "metadata": {},
   "outputs": [],
   "source": [
    "# Set shapefile path and projection and imbie csv_filebased on the ice sheet region\n",
    "if icesheet == \"Greenland\":\n",
    "    projection = \"EPSG:3413\"  # Greenland\n",
    "    shapefile_path = \"/home/jovyan/CmCt/notebooks/IMBIE/Greenland_Basins_PS_v1.4.2/Greenland_Basins_PS_v1.4.2.shp\"\n",
    "    csv_file_path = '/home/jovyan/CmCt/notebooks/IMBIE/imbie_greenland_2021_Gt.csv'\n",
    "    \n",
    "elif icesheet== \"Antarctica\":\n",
    "    projection = \"EPSG:3031\"  # Antarctica\n",
    "    shapefile_path = \"/home/jovyan/CmCt/notebooks/IMBIE/ANT_Basins_IMBIE2_v1.6/ANT_Basins_IMBIE2_v1.6.shp\"\n",
    "    csv_file_path = '/home/jovyan/CmCt/notebooks/IMBIE/imbie_antarctica_2021_Gt.csv'\n",
    "else:\n",
    "    raise ValueError(\"Invalid iceshee value. Must be 'Greenland' or 'Antarctica'.\")\n"
   ]
  },
  {
   "cell_type": "markdown",
   "metadata": {},
   "source": [
    "### Caluclate  model mass balance for each basin and total mass cbalance for whole region"
   ]
  },
  {
   "cell_type": "code",
   "execution_count": 4,
   "metadata": {},
   "outputs": [
    {
     "name": "stdout",
     "output_type": "stream",
     "text": [
      "Basin_mass_change_sums = index_right\n",
      "0   -126.337912\n",
      "1   -153.186299\n",
      "2   -113.911525\n",
      "3   -144.087264\n",
      "4   -187.140113\n",
      "5   -247.869015\n",
      "6   -457.155972\n",
      "Name: lithk_delta, dtype: float64\n",
      "Total_mass_change_sum = -1429.6881006840963\n"
     ]
    }
   ],
   "source": [
    "# Load the dataset(model data)\n",
    "gis_ds = xr.open_dataset(nc_filename)\n",
    "lithk = gis_ds['lithk']\n",
    "\n",
    "\n",
    "# Interpolate lithk values at the start and end dates\n",
    "lithk_start = lithk.interp(time=start_date).data.transpose().flatten()\n",
    "lithk_end = lithk.interp(time=end_date).data.transpose().flatten()\n",
    "\n",
    "\n",
    "# Calculate the difference\n",
    "lithk_delta = lithk_end - lithk_start\n",
    "\n",
    "# Replace NaN values with 0\n",
    "lithk_delta[np.isnan(lithk_delta)] = 0\n",
    "\n",
    "\n",
    "# Change Ice thickness unit from (m) to mass (kg) to gigatonnes(Gt)\n",
    "# ice thickness*area* density of ice* 1e-12\n",
    "\n",
    "rho_ice = 934 # (density of ice, kg/m^3)\n",
    "\n",
    "#calculate area = x_resolution*y_resolution\n",
    "x_coords = gis_ds['x'].values\n",
    "y_coords = gis_ds['y'].values\n",
    "x_resolution = abs(x_coords[1] - x_coords[0])\n",
    "y_resolution = abs(y_coords[1] - y_coords[0])\n",
    "\n",
    "lithk_delta = (lithk_delta * x_resolution*y_resolution)*rho_ice * 1e-12\n",
    "\n",
    "\n",
    "# Create a list of Point geometries from coordinate grids\n",
    "points = [Point(x, y) for x in x_coords for y in y_coords]\n",
    "\n",
    "# Flatten lithk_delta to match the points list \n",
    "lithk_delta_flat = lithk_delta.flatten()\n",
    "\n",
    "# Create DataFrame\n",
    "lithk_df = pd.DataFrame({\n",
    "    'geometry': points,\n",
    "    'lithk_delta': lithk_delta_flat\n",
    "})\n",
    "\n",
    "# Convert DataFrame to GeoDataFrame\n",
    "lithk_gdf = gpd.GeoDataFrame(lithk_df, geometry='geometry', crs=projection)\n",
    "\n",
    "\n",
    "# Load basin shapefile \n",
    "basins_gdf = gpd.read_file(shapefile_path)\n",
    "\n",
    "\n",
    "# Perform spatial join\n",
    "# joined_gdf = gpd.sjoin(lithk_gdf, basins_gdf, how=\"inner\", op='intersects')\n",
    "joined_gdf = gpd.sjoin(lithk_gdf, basins_gdf, how=\"inner\", predicate='intersects')\n",
    "\n",
    "\n",
    "# Sum lithk_delta values by basin\n",
    "basin_mass_change_sums = joined_gdf.groupby('index_right')['lithk_delta'].sum()\n",
    "print('Basin_mass_change_sums =', basin_mass_change_sums)\n",
    "\n",
    "\n",
    "# Sum all of the basin mass change\n",
    "model_total_mass_balance= basin_mass_change_sums.sum()\n",
    "print('Total_mass_change_sum =', model_total_mass_balance)\n"
   ]
  },
  {
   "cell_type": "markdown",
   "metadata": {},
   "source": [
    "### Imbie mass balance"
   ]
  },
  {
   "cell_type": "code",
   "execution_count": 5,
   "metadata": {},
   "outputs": [
    {
     "name": "stdout",
     "output_type": "stream",
     "text": [
      "Total Mass Balance from 2000-01-01 to 2015-01-01: -3299.217333333333 Gt\n"
     ]
    }
   ],
   "source": [
    "# Load the CSV file\n",
    "mass_balance_data = pd.read_csv(csv_file_path)\n",
    "\n",
    "# Adjust the column names based on the CSV content\n",
    "date_column = 'Year'\n",
    "mass_balance_column = 'Mass balance (Gt/yr)'\n",
    "\n",
    "# Convert the 'Year' column to datetime format\n",
    "mass_balance_data[date_column] = pd.to_datetime(mass_balance_data[date_column], format='%Y')\n",
    "\n",
    "# Filter the data between the start and end dates\n",
    "filtered_data = mass_balance_data[(mass_balance_data[date_column] >= start_date) & \n",
    "                                  (mass_balance_data[date_column] <= end_date)].copy()\n",
    "\n",
    "# Convert Mass balance from Gt/yr to Gt/month\n",
    "filtered_data.loc[:, 'Mass_balance_Gt'] = filtered_data[mass_balance_column] / 12\n",
    "\n",
    "# Sum the total mass balance in the filtered range\n",
    "imbie_total_mass_change_sum = filtered_data['Mass_balance_Gt'].sum()\n",
    "\n",
    "# Print the results\n",
    "print(f\"Total Mass Balance from {start_date} to {end_date}: {imbie_total_mass_change_sum} Gt\")\n"
   ]
  },
  {
   "cell_type": "markdown",
   "metadata": {},
   "source": [
    "### Calculate mass balance difference of imbie and model data"
   ]
  },
  {
   "cell_type": "code",
   "execution_count": 6,
   "metadata": {},
   "outputs": [
    {
     "name": "stdout",
     "output_type": "stream",
     "text": [
      "Difference of imbie-model  mass change: -1869.5292326492367\n"
     ]
    }
   ],
   "source": [
    "#Difference of imbie-model  mass change \n",
    "delta_masschange=imbie_total_mass_change_sum-model_total_mass_balance\n",
    "print(f\"Difference of imbie-model  mass change: {delta_masschange}\")"
   ]
  }
 ],
 "metadata": {
  "hide_input": false,
  "kernelspec": {
   "display_name": "Python 3 (ipykernel)",
   "language": "python",
   "name": "python3"
  },
  "language_info": {
   "codemirror_mode": {
    "name": "ipython",
    "version": 3
   },
   "file_extension": ".py",
   "mimetype": "text/x-python",
   "name": "python",
   "nbconvert_exporter": "python",
   "pygments_lexer": "ipython3",
   "version": "3.11.9"
  }
 },
 "nbformat": 4,
 "nbformat_minor": 4
}
