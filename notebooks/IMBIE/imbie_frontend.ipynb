{
 "cells": [
  {
   "cell_type": "markdown",
   "metadata": {},
   "source": [
    "## Input data requirements"
   ]
  },
  {
   "cell_type": "markdown",
   "metadata": {},
   "source": [
    "The input ice sheet model should be saved as a netCDF file. There are several requirements for the comparison:\n",
    "\n",
    "### `Lithk` variable\n",
    "\n",
    "The uploaded model to contain thickness data (the `lithk` variable) for the comparison.\n",
    "\n",
    "### Rectangular grid\n",
    "\n",
    "At time of writing, models *must* be defined on a rectangular X-Y grid in the ISMIP6 standard projected polar-stereographic space. (Note, NOT a lat-lon grid!) The ISMIP6 standard projection is defined [here](http://www.climate-cryosphere.org/wiki/index.php?title=ISMIP6_wiki_page). \n"
   ]
  },
  {
   "cell_type": "code",
   "execution_count": 1,
   "metadata": {
    "code_folding": []
   },
   "outputs": [],
   "source": [
    "# set geospatial python3 kernel to provide needed packages\n",
    "import os,sys\n",
    "import glob as glob\n",
    "import numpy as np\n",
    "import h5py\n",
    "import xarray as xr\n",
    "import glob as glob\n",
    "import geopandas as gpd\n",
    "import pandas as pd\n",
    "import matplotlib.pyplot as plt\n",
    "from shapely.geometry import Point\n",
    "\n",
    "\n",
    "\n",
    "import cartopy\n",
    "import cartopy.crs as ccrs\n",
    "import cartopy.io.shapereader as shpreader\n",
    "\n",
    "# note: suppress numpy.dtype size changed warnings\n",
    "import warnings\n",
    "warnings.filterwarnings(\"ignore\", message=\"numpy.dtype size changed\")\n",
    "\n",
    "warnings.filterwarnings('ignore')"
   ]
  },
  {
   "cell_type": "markdown",
   "metadata": {},
   "source": [
    "### Set ice sheet region and start and end date"
   ]
  },
  {
   "cell_type": "code",
   "execution_count": 2,
   "metadata": {},
   "outputs": [],
   "source": [
    "# Define the flag for the ice sheet region Greenland or Antarctica\n",
    "icesheet = \"Antarctica\" # Change to \"Antarctica\" Or \"Greenland\"\n",
    "\n",
    "# Define start and end dates\n",
    "start_date = np.datetime64('2000-01-01')\n",
    "end_date = np.datetime64('2015-01-01')\n",
    "\n",
    "### Select projection, shapefile and csv file for imbie\n",
    "# Set shapefile path and projection and imbie csv_filebased on the ice sheet region\n",
    "if icesheet == \"Greenland\":\n",
    "    projection = \"EPSG:3413\"  # Greenland\n",
    "    #Set the model data dir path\n",
    "    nc_filename='/home/jovyan/CmCt/notebooks/Gravimetry/lithk_GIS_JPL_ISSM_asmb.nc'\n",
    "    shape_filename = \"/home/jovyan/CmCt/notebooks/IMBIE/Greenland_Basins_PS_v1.4.2/Greenland_Basins_PS_v1.4.2.shp\"\n",
    "    obs_filename = '/home/jovyan/CmCt/notebooks/IMBIE/imbie_greenland_2022_Gt_partitioned_v0.csv'\n",
    "    # obs_filename = '/home/jovyan/CmCt/notebooks/IMBIE/imbie_greenland_2021_Gt.csv'\n",
    "    \n",
    "elif icesheet== \"Antarctica\":\n",
    "    projection = \"EPSG:3031\"  # Antarctica\n",
    "    #Set the model data dir path\n",
    "    nc_filename='/home/jovyan/CmCt/notebooks/Gravimetry/lithk_AIS_AWI_PISM1_hist_std.nc'\n",
    "    shape_filename = \"/home/jovyan/CmCt/notebooks/IMBIE/ANT_Basins_IMBIE2_v1.6/ANT_Basins_IMBIE2_v1.6.shp\"\n",
    "    obs_filename = '/home/jovyan/CmCt/notebooks/IMBIE/imbie_antarctica_2022_Gt_partitioned_v0.csv'\n",
    "    # obs_filename = '/home/jovyan/CmCt/notebooks/IMBIE/imbie_antarctica_2021_Gt.csv'\n",
    "    #Region total mass balance\n",
    "    obs_east_filename = '/home/jovyan/CmCt/notebooks/IMBIE/imbie_east_antarctica_2022_Gt_partitioned_v0.csv'\n",
    "    obs_west_filename = '/home/jovyan/CmCt/notebooks/IMBIE/imbie_west_antarctica_2022_Gt_partitioned_v0.csv'\n",
    "    obs_peninsula_filename= '/home/jovyan/CmCt/notebooks/IMBIE/imbie_antarctic_peninsula_2022_Gt_partitioned_v0.csv'\n",
    "else:\n",
    "    raise ValueError(\"Invalid iceshee value. Must be 'Greenland' or 'Antarctica'.\")\n"
   ]
  },
  {
   "cell_type": "markdown",
   "metadata": {},
   "source": [
    "### Select  variable for mass balance comparision"
   ]
  },
  {
   "cell_type": "code",
   "execution_count": 3,
   "metadata": {},
   "outputs": [],
   "source": [
    "import ipywidgets as widgets\n",
    "from IPython.display import display\n",
    "from ipywidgets import VBox, Dropdown\n",
    "\n",
    "\n",
    "def select_variable(file_path):\n",
    "    # Read the CSV file to check which columns are available\n",
    "    data = pd.read_csv(file_path)\n",
    "    \n",
    "    # Check if both \"Mass balance (Gt/yr)\" and \"Dynamics mass balance anomaly (Gt/yr)\" are present\n",
    "    if \"Mass balance (Gt/yr)\" in data.columns and \"Dynamics mass balance anomaly (Gt/yr)\" in data.columns:\n",
    "        options = [\"Mass balance (Gt/yr)\", \"Dynamics mass balance anomaly (Gt/yr)\"]\n",
    "    elif \"Mass balance (Gt/yr)\" in data.columns:\n",
    "        options = [\"Mass balance (Gt/yr)\"]\n",
    "    else:\n",
    "        options = []  # In case neither column is present (this can be handled differently)\n",
    "    \n",
    "    # User Input Widgets\n",
    "    variable_w = Dropdown(options=options, value=options[0] if options else None, description='Variable:')\n",
    "    \n",
    "    # Collect all widgets in a vertical layout\n",
    "    all_widgets = VBox([variable_w])  \n",
    "    display(all_widgets)\n",
    "    \n",
    "    # Return the widget itself for interaction\n",
    "    return variable_w\n",
    "\n"
   ]
  },
  {
   "cell_type": "code",
   "execution_count": 4,
   "metadata": {},
   "outputs": [],
   "source": [
    "# import ipywidgets as widgets\n",
    "# from IPython.display import display\n",
    "# from ipywidgets import VBox, Dropdown\n",
    "\n",
    "# def select_variable():\n",
    "#     # User Input Widgets\n",
    "#     variable_w = Dropdown(options=[\"Mass balance (Gt/yr)\", \"Dynamics mass balance anomaly (Gt/yr)\"], value='Mass balance (Gt/yr)', description='variable:')\n",
    "#     ## new data set has same name for cumulative mass balance and cumulative dynamic mass balance   \n",
    "#     # variable_w = Dropdown(options=[\"Cumulative mass balance (Gt)\",\"Cumulative dynamics mass balance anomaly (Gt)\"], value='Cumulative mass balance (Gt)', description='variable:')\n",
    "#     # Collect all widgets in a vertical layout\n",
    "#     all_widgets = VBox([variable_w])  \n",
    "#     display(all_widgets)\n",
    "    \n",
    "#     # Return the widget itself for interaction\n",
    "#     return variable_w\n",
    "\n",
    "# # Display the dropdown and capture user selection\n",
    "# variable_widget =select_variable()\n",
    "\n",
    "# # Observe and set the projection based on user input\n",
    "# def handle_variable_change(change):\n",
    "#     var1 = change['new']\n",
    "\n",
    "# # Attach an observer to the widget to update when selection changes\n",
    "# variable_widget.observe(handle_variable_change, 'value')"
   ]
  },
  {
   "cell_type": "code",
   "execution_count": 5,
   "metadata": {},
   "outputs": [
    {
     "data": {
      "application/vnd.jupyter.widget-view+json": {
       "model_id": "9217a74ecd5446d888f41088e0173051",
       "version_major": 2,
       "version_minor": 0
      },
      "text/plain": [
       "VBox(children=(Dropdown(description='Variable:', options=('Mass balance (Gt/yr)', 'Dynamics mass balance anoma…"
      ]
     },
     "metadata": {},
     "output_type": "display_data"
    }
   ],
   "source": [
    "variable_widget = select_variable(obs_filename)"
   ]
  },
  {
   "cell_type": "code",
   "execution_count": 6,
   "metadata": {},
   "outputs": [
    {
     "name": "stdout",
     "output_type": "stream",
     "text": [
      "Mass balance (Gt/yr)\n",
      "Mass balance\n"
     ]
    }
   ],
   "source": [
    "# Selected variable\n",
    "mass_balance_column=variable_widget.value\n",
    "print(mass_balance_column)\n",
    "mass_balance_column_clean = mass_balance_column.replace(' (Gt/yr)', '')\n",
    "print(mass_balance_column_clean)"
   ]
  },
  {
   "cell_type": "markdown",
   "metadata": {},
   "source": [
    "### Caluclate  model mass balance for each basin and total mass balance for whole region"
   ]
  },
  {
   "cell_type": "code",
   "execution_count": 7,
   "metadata": {},
   "outputs": [
    {
     "name": "stdout",
     "output_type": "stream",
     "text": [
      "Basin_mass_change_sums = index_right\n",
      "0       -4.89\n",
      "1        0.01\n",
      "2      -11.73\n",
      "3      -71.64\n",
      "4       22.10\n",
      "5       28.35\n",
      "6      -31.31\n",
      "7       -8.57\n",
      "8      -21.48\n",
      "9      -37.24\n",
      "10     -82.70\n",
      "11     -13.70\n",
      "12      36.78\n",
      "13      -4.67\n",
      "14    -132.67\n",
      "15      -5.73\n",
      "16      -1.48\n",
      "17      -8.64\n",
      "18     -54.56\n",
      "Name: lithk_delta, dtype: object\n",
      "Region_mass_change_sums = Regions\n",
      "East         -146.85\n",
      "Islands        -4.89\n",
      "Peninsula     -15.85\n",
      "West         -236.18\n",
      "Name: lithk_delta, dtype: object\n",
      "Total_mass_change_sum = -403.77\n"
     ]
    }
   ],
   "source": [
    "# Load the dataset(model data)\n",
    "gis_ds = xr.open_dataset(nc_filename)\n",
    "lithk = gis_ds['lithk']\n",
    "\n",
    "if icesheet == \"Greenland\":\n",
    "    # Interpolate lithk values at the start and end dates\n",
    "    lithk_start = lithk.interp(time=start_date).data.transpose().flatten()\n",
    "    lithk_end = lithk.interp(time=end_date).data.transpose().flatten()\n",
    "\n",
    "elif icesheet== \"Antarctica\":\n",
    "    import cftime \n",
    "    # Convert the start and end dates to cftime.datetime objects\n",
    "    start_date1 = cftime.DatetimeNoLeap(2006, 1, 1)\n",
    "    end_date1 = cftime.DatetimeNoLeap(2015, 1, 1)\n",
    "    \n",
    "    # Interpolate lithk values at the start and end dates using the nearest method\n",
    "    lithk_start = lithk.sel(time=start_date1, method='nearest').data\n",
    "    lithk_end = lithk.sel(time=end_date1, method='nearest').data\n",
    "\n",
    "\n",
    "\n",
    "# Calculate the difference\n",
    "lithk_delta = lithk_end - lithk_start\n",
    "\n",
    "# Replace NaN values with 0\n",
    "lithk_delta[np.isnan(lithk_delta)] = 0\n",
    "\n",
    "\n",
    "# Change Ice thickness unit from (m) to mass (kg) to gigatonnes(Gt)\n",
    "# ice thickness*area* density of ice* 1e-12\n",
    "\n",
    "rho_ice = 934 # (density of ice, kg/m^3)\n",
    "\n",
    "#calculate area = x_resolution*y_resolution\n",
    "x_coords = gis_ds['x'].values\n",
    "y_coords = gis_ds['y'].values\n",
    "x_resolution = abs(x_coords[1] - x_coords[0])\n",
    "y_resolution = abs(y_coords[1] - y_coords[0])\n",
    "\n",
    "lithk_delta = (lithk_delta * x_resolution*y_resolution)*rho_ice * 1e-12\n",
    "\n",
    "\n",
    "# Create a list of Point geometries from coordinate grids\n",
    "points = [Point(x, y) for x in x_coords for y in y_coords]\n",
    "\n",
    "# Flatten lithk_delta to match the points list \n",
    "lithk_delta_flat = lithk_delta.flatten()\n",
    "\n",
    "# Create DataFrame\n",
    "lithk_df = pd.DataFrame({\n",
    "    'geometry': points,\n",
    "    'lithk_delta': lithk_delta_flat\n",
    "})\n",
    "\n",
    "# Convert DataFrame to GeoDataFrame\n",
    "lithk_gdf = gpd.GeoDataFrame(lithk_df, geometry='geometry', crs=projection)\n",
    "\n",
    "\n",
    "# Load basin shapefile \n",
    "basins_gdf = gpd.read_file(shape_filename)\n",
    "\n",
    "\n",
    "# Perform spatial join\n",
    "# joined_gdf = gpd.sjoin(lithk_gdf, basins_gdf, how=\"inner\", op='intersects')\n",
    "joined_gdf = gpd.sjoin(lithk_gdf, basins_gdf, how=\"inner\", predicate='intersects')\n",
    "\n",
    "\n",
    "# Sum lithk_delta values by basin\n",
    "basin_mass_change_sums = joined_gdf.groupby('index_right')['lithk_delta'].sum()\n",
    "print('Basin_mass_change_sums =', basin_mass_change_sums.apply(lambda x: f\"{x:.2f}\"))\n",
    "\n",
    "\n",
    "if icesheet == \"Antarctica\":\n",
    "    # Sum lithk_delta values by the 'Regions' column\n",
    "    region_mass_change_sums = joined_gdf.groupby('Regions')['lithk_delta'].sum()\n",
    "    print('Region_mass_change_sums =', region_mass_change_sums.apply(lambda x: f\"{x:.2f}\"))\n",
    "\n",
    "\n",
    "# Sum all of the basin mass change\n",
    "model_total_mass_balance= basin_mass_change_sums.sum()\n",
    "print('Total_mass_change_sum =', model_total_mass_balance.round(2))\n"
   ]
  },
  {
   "cell_type": "markdown",
   "metadata": {},
   "source": [
    "### Imbie mass balance"
   ]
  },
  {
   "cell_type": "code",
   "execution_count": 8,
   "metadata": {},
   "outputs": [],
   "source": [
    "def sum_MassBalance(obs_filename):\n",
    "    # Load the CSV file\n",
    "    mass_balance_data = pd.read_csv(obs_filename)\n",
    "    \n",
    "    # Adjust the column names based on the CSV content\n",
    "    date_column = 'Year'\n",
    "    \n",
    "    # Convert the 'Year' column to datetime format\n",
    "    mass_balance_data[date_column] = pd.to_datetime(mass_balance_data[date_column], format='%Y')\n",
    "    \n",
    "    # Filter the data between the start and end dates\n",
    "    filtered_data = mass_balance_data[(mass_balance_data[date_column] >= start_date) & \n",
    "                                      (mass_balance_data[date_column] <= end_date)].copy()\n",
    "\n",
    "    \n",
    "    # Convert Mass balance from Gt/yr to Gt/month\n",
    "    filtered_data.loc[:, 'Mass_balance_Gt'] = filtered_data[mass_balance_column] / 12\n",
    "    \n",
    "    # Sum the total mass balance in the filtered range\n",
    "    IMBIE_total_mass_change_sum = filtered_data['Mass_balance_Gt'].sum()\n",
    "    \n",
    "    #cumulative data\n",
    "    # filtered_data.loc[:, 'Mass_balance_Gt'] = filtered_data[mass_balance_column]\n",
    "    #IMBIE_total_mass_change_sum =filtered_data['Mass_balance_Gt'].iloc[-1]#last date data\n",
    "    \n",
    "\n",
    "    return IMBIE_total_mass_change_sum"
   ]
  },
  {
   "cell_type": "markdown",
   "metadata": {},
   "source": [
    "### Calculate mass balance difference of imbie and model data"
   ]
  },
  {
   "cell_type": "code",
   "execution_count": 9,
   "metadata": {},
   "outputs": [
    {
     "name": "stdout",
     "output_type": "stream",
     "text": [
      "Total Mass balance from 2000-01-01 to 2015-01-01: -2496.2130333333334 Gt\n",
      "Difference of IMBIE - Model mass change (Mass balance): -2092.45 Gt\n"
     ]
    }
   ],
   "source": [
    "#Total mass balance\n",
    "IMBIE_total_mass_change_sum=sum_MassBalance(obs_filename)\n",
    "# Print the results\n",
    "print(f\"Total {mass_balance_column_clean} from {start_date} to {end_date}: {IMBIE_total_mass_change_sum} Gt\")\n",
    "\n",
    "\n",
    "#Difference of imbie-model  mass change \n",
    "delta_masschange=IMBIE_total_mass_change_sum-model_total_mass_balance\n",
    "# Print the results\n",
    "print(f\"Difference of IMBIE - Model mass change ({mass_balance_column_clean}): {delta_masschange:.2f} Gt\")\n"
   ]
  },
  {
   "cell_type": "code",
   "execution_count": 10,
   "metadata": {},
   "outputs": [
    {
     "name": "stdout",
     "output_type": "stream",
     "text": [
      "Total Mass balance for east region from 2000-01-01 to 2015-01-01: 117.96 Gt\n",
      "Difference of IMBIE-Model mass change for east region (Mass balance): 264.81 Gt\n",
      "Total Mass balance for west region from 2000-01-01 to 2015-01-01: -2056.95 Gt\n",
      "Difference of IMBIE-Model mass change for west region (Mass balance): -1820.77 Gt\n",
      "Total Mass balance for peninsula region from 2000-01-01 to 2015-01-01: -557.22 Gt\n",
      "Difference of IMBIE-Model mass change for peninsula region (Mass balance): -541.37 Gt\n"
     ]
    }
   ],
   "source": [
    "import os\n",
    "\n",
    "# Check if all required files are available\n",
    "if icesheet == \"Antarctica\":\n",
    "    if os.path.exists(obs_east_filename) and os.path.exists(obs_west_filename) and os.path.exists(obs_peninsula_filename):\n",
    "        \n",
    "        # Calculate total mass for each region\n",
    "        IMBIE_total_mass_change_sum_east = sum_MassBalance(obs_east_filename)\n",
    "        IMBIE_total_mass_change_sum_west = sum_MassBalance(obs_west_filename)\n",
    "        IMBIE_total_mass_change_sum_peninsula = sum_MassBalance(obs_peninsula_filename)\n",
    "\n",
    "        # Difference of IMBIE-model mass change for each region\n",
    "        delta_masschange_east = IMBIE_total_mass_change_sum_east - region_mass_change_sums['East']\n",
    "        delta_masschange_west = IMBIE_total_mass_change_sum_west - region_mass_change_sums['West']\n",
    "        delta_masschange_peninsula = IMBIE_total_mass_change_sum_peninsula - region_mass_change_sums['Peninsula']\n",
    "\n",
    "        # Print the results\n",
    "        print(f\"Total {mass_balance_column_clean} for east region from {start_date} to {end_date}: {IMBIE_total_mass_change_sum_east:.2f} Gt\")\n",
    "        print(f\"Difference of IMBIE-Model mass change for east region ({mass_balance_column_clean}): {delta_masschange_east:.2f} Gt\")\n",
    "\n",
    "        print(f\"Total {mass_balance_column_clean} for west region from {start_date} to {end_date}: {IMBIE_total_mass_change_sum_west:.2f} Gt\")\n",
    "        print(f\"Difference of IMBIE-Model mass change for west region ({mass_balance_column_clean}): {delta_masschange_west:.2f} Gt\")\n",
    "\n",
    "        print(f\"Total {mass_balance_column_clean} for peninsula region from {start_date} to {end_date}: {IMBIE_total_mass_change_sum_peninsula:.2f} Gt\")\n",
    "        print(f\"Difference of IMBIE-Model mass change for peninsula region ({mass_balance_column_clean}): {delta_masschange_peninsula:.2f} Gt\")\n",
    "    \n",
    "    else:\n",
    "        # If any of the files are missing, print an error message and break\n",
    "        if not os.path.exists(obs_east_filename):\n",
    "            print(f\"Error: {obs_east_filename} is not available.\")\n",
    "        if not os.path.exists(obs_west_filename):\n",
    "            print(f\"Error: {obs_west_filename} is not available.\")\n",
    "        if not os.path.exists(obs_peninsula_filename):\n",
    "            print(f\"Error: {obs_peninsula_filename} is not available.\")\n"
   ]
  },
  {
   "cell_type": "code",
   "execution_count": 11,
   "metadata": {},
   "outputs": [],
   "source": [
    "# if icesheet == \"Antarctica\":\n",
    "    \n",
    "#     # Calculate total mass for each region\n",
    "#     IMBIE_total_mass_change_sum_east=sum_MassBalance(obs_east_filename)\n",
    "#     IMBIE_total_mass_change_sum_west=sum_MassBalance(obs_west_filename)\n",
    "#     IMBIE_total_mass_change_sum_peninsula=sum_MassBalance(obs_peninsula_filename)\n",
    "    \n",
    "\n",
    "#     #Difference of imbie-model  mass change  for each region\n",
    "#     delta_masschange_east=IMBIE_total_mass_change_sum_east-region_mass_change_sums['East']    \n",
    "#     delta_masschange_west=IMBIE_total_mass_change_sum_west-region_mass_change_sums['West']   \n",
    "#     delta_masschange_peninsula=IMBIE_total_mass_change_sum_peninsula-region_mass_change_sums['Peninsula']\n",
    "\n",
    "\n",
    "\n",
    "#     # Print the results\n",
    "#     # print(f\"Total {mass_balance_column}  for east region from {start_date} to {end_date}: {imbie_total_mass_change_sum_east} Gt\")\n",
    "#     print(f\"Total {mass_balance_column_clean} for east region from {start_date} to {end_date}: {IMBIE_total_mass_change_sum_east:.2f} Gt\")\n",
    "\n",
    "#     print(f\"Difference of IMBIE- Model  mass change  for east region ({mass_balance_column_clean}): {delta_masschange_east:.2f} Gt\")\n",
    "    \n",
    "#     print(f\"Total {mass_balance_column_clean}  for west region from {start_date} to {end_date}: {IMBIE_total_mass_change_sum_west:.2f} Gt\")\n",
    "#     print(f\"Difference of IMBIE - Model  mass change  for west region ({mass_balance_column_clean}): {delta_masschange_west:.2f} Gt\")\n",
    "    \n",
    "#     print(f\"Total {mass_balance_column_clean}  for peninsula region from {start_date} to {end_date}: {IMBIE_total_mass_change_sum_peninsula:.2f} Gt\")\n",
    "#     print(f\"Difference of IMBIE - Model  mass change for peninsula region ({mass_balance_column_clean}): {delta_masschange_peninsula:.2f} Gt\")    \n",
    "    \n",
    "    "
   ]
  },
  {
   "cell_type": "code",
   "execution_count": null,
   "metadata": {},
   "outputs": [],
   "source": []
  },
  {
   "cell_type": "code",
   "execution_count": null,
   "metadata": {},
   "outputs": [],
   "source": []
  },
  {
   "cell_type": "code",
   "execution_count": null,
   "metadata": {},
   "outputs": [],
   "source": []
  },
  {
   "cell_type": "code",
   "execution_count": null,
   "metadata": {},
   "outputs": [],
   "source": []
  }
 ],
 "metadata": {
  "hide_input": false,
  "kernelspec": {
   "display_name": "Python 3 (ipykernel)",
   "language": "python",
   "name": "python3"
  },
  "language_info": {
   "codemirror_mode": {
    "name": "ipython",
    "version": 3
   },
   "file_extension": ".py",
   "mimetype": "text/x-python",
   "name": "python",
   "nbconvert_exporter": "python",
   "pygments_lexer": "ipython3",
   "version": "3.11.9"
  }
 },
 "nbformat": 4,
 "nbformat_minor": 4
}
