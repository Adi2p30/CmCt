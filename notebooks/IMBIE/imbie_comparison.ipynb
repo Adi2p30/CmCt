{
 "cells": [
  {
   "cell_type": "markdown",
   "metadata": {},
   "source": [
    "# Input data requirements"
   ]
  },
  {
   "cell_type": "markdown",
   "metadata": {},
   "source": [
    "The input ice sheet model should be a netCDF file. \n",
    "\n",
    "\n",
    "### `Lithk` variable\n",
    "The uploaded model to contain thickness data (the `lithk` variable) for the comparison.\n"
   ]
  },
  {
   "cell_type": "code",
   "execution_count": 1,
   "metadata": {
    "code_folding": []
   },
   "outputs": [],
   "source": [
    "import os,sys\n",
    "\n",
    "\n",
    "# Get the current working directory\n",
    "current_directory = os.getcwd()\n",
    "# Navigate two levels up to reach main dir\n",
    "parent_directory = os.path.abspath(os.path.join(current_directory, os.pardir, os.pardir))\n",
    "# Insert the specific directory into the system path\n",
    "sys.path.insert(0, os.path.join(parent_directory, 'bin', 'IMBIE'))\n",
    "from imbie_utils import *\n",
    "\n",
    "# note: suppress numpy.dtype size changed warnings\n",
    "import warnings\n",
    "warnings.filterwarnings(\"ignore\", message=\"numpy.dtype size changed\")\n",
    "\n",
    "warnings.filterwarnings('ignore')\n",
    "\n"
   ]
  },
  {
   "cell_type": "markdown",
   "metadata": {},
   "source": [
    "### Configure IMBIE comparison"
   ]
  },
  {
   "cell_type": "code",
   "execution_count": 2,
   "metadata": {},
   "outputs": [],
   "source": [
    "# Define the flag for the ice sheet region Greenland or Antarctica\n",
    "icesheet = \"AIS\" # Change to \"AIS\" or \"GIS\"\n",
    "\n",
    "# Define the flag for the area region Basin mask or Total area\n",
    "area =\"Basin\" # Change to \"Basin\" or \"Total\"\n",
    "\n",
    "# Set start and end dates\n",
    "start_date = '2007-01-01'\n",
    "end_date ='2009-01-01'\n",
    "\n",
    "#Set density of ice\n",
    "rho_ice = 918 # (kg/m^3)\n",
    "\n",
    "#output file dirctory\n",
    "output_path='/home/jovyan/CmCt/notebooks/IMBIE/'\n",
    "\n",
    "# Select  variable for mass balance comparision\n",
    "mass_balance_column=\"Cumulative mass balance (Gt)\"# \"Cumulative dynamics mass balance anomaly (Gt)\"\n",
    "if mass_balance_column == \"Cumulative mass balance (Gt)\":\n",
    "    mass_balance_type = \"total\"\n",
    "elif mass_balance_column == \"Cumulative dynamics mass balance anomaly (Gt)\":\n",
    "    mass_balance_type = \"dynamic\"\n",
    "\n",
    "\n",
    "# Set model model path,shapefile path and projection and IMBIE csv_file\n",
    "if icesheet == \"GIS\":\n",
    "    projection = \"EPSG:3413\"  # Greenland\n",
    "    #Set the model data dir path\n",
    "    # nc_filename='/home/jovyan/shared-public/CmCt/models/ISMIP6/lithk_GIS_JPL_ISSM_asmb.nc'\n",
    "    nc_filename='/home/jovyan/shared-public/CmCt/models/ISMIP6/lithk_GIS_GSFC_ISSM_historical.nc'\n",
    "    #Set the shape data dir path\n",
    "    shape_filename = \"/home/jovyan/CmCt/data/IMBIE/Greenland_Basins_PS_v1.4.2/Greenland_Basins_PS_v1.4.2.shp\"\n",
    "    #Set the observation data dir path\n",
    "    # obs_filename = '/home/jovyan/CmCt/data/IMBIE/imbie_greenland_2022_Gt_partitioned_v0.csv'\n",
    "    obs_filename = '/home/jovyan/CmCt/data/IMBIE/imbie_greenland_2021_Gt.csv'\n",
    "\n",
    "    ##Set the Region observation data dir path\n",
    "    obs_east_filename = None\n",
    "    obs_west_filename = None\n",
    "    obs_peninsula_filename = None\n",
    "    \n",
    "    \n",
    "elif icesheet== \"AIS\":\n",
    "    projection = \"EPSG:3031\"  # Antarctica    \n",
    "    #Set the model data dir path\n",
    "    nc_filename='/home/jovyan/CmCt/notebooks/Gravimetry/lithk_AIS_AWI_PISM1_hist_std.nc'\n",
    "    #Set the shape data dir path\n",
    "    shape_filename = \"/home/jovyan/CmCt/data/IMBIE/ANT_Basins_IMBIE2_v1.6/ANT_Basins_IMBIE2_v1.6.shp\"\n",
    "    #Set the observation data dir path\n",
    "    obs_filename = '/home/jovyan/CmCt/data/IMBIE/imbie_antarctica_2022_Gt_partitioned_v0.csv'\n",
    "    # obs_filename = '/home/jovyan/CmCt/notebooks/IMBIE/imbie_antarctica_2021_Gt.csv'\n",
    "    \n",
    "    ##Set the Region observation data dir path\n",
    "    obs_east_filename = '/home/jovyan/CmCt/data/IMBIE/imbie_east_antarctica_2022_Gt_partitioned_v0.csv'\n",
    "    obs_west_filename = '/home/jovyan/CmCt/data/IMBIE/imbie_west_antarctica_2022_Gt_partitioned_v0.csv'\n",
    "    obs_peninsula_filename= '/home/jovyan/CmCt/data/IMBIE/imbie_antarctic_peninsula_2022_Gt_partitioned_v0.csv'\n",
    "\n",
    "else:\n",
    "    raise ValueError(\"Invalid iceshee value. Must be 'Greenland' or 'Antarctica'.\")"
   ]
  },
  {
   "cell_type": "code",
   "execution_count": 3,
   "metadata": {},
   "outputs": [],
   "source": [
    "# Check if  observation file exists\n",
    "if not os.path.exists(obs_filename):\n",
    "    raise FileNotFoundError(f\"Observation file not found: {obs_filename}\")\n",
    "\n",
    "# Check if model file exists    \n",
    "if not os.path.exists(nc_filename):\n",
    "    raise FileNotFoundError(f\"Model file not found: {nc_filename}\")\n",
    "\n",
    "\n",
    "if icesheet== \"AIS\":   \n",
    "    # Check if regional observation files exist \n",
    "    if not os.path.exists(obs_east_filename):\n",
    "        raise FileNotFoundError(f\"Observation file not found: {obs_east_filename}\")\n",
    "    if not os.path.exists(obs_west_filename):\n",
    "        raise FileNotFoundError(f\"Observation file not found: {obs_west_filename}\")\n",
    "    if not os.path.exists(obs_peninsula_filename):\n",
    "        raise FileNotFoundError(f\"Observation file not found: {obs_peninsula_filename}\")"
   ]
  },
  {
   "cell_type": "markdown",
   "metadata": {},
   "source": [
    "## Mass change comparision processing"
   ]
  },
  {
   "cell_type": "code",
   "execution_count": 4,
   "metadata": {},
   "outputs": [
    {
     "name": "stdout",
     "output_type": "stream",
     "text": [
      "The selected dates 2007-01-01 and 2009-01-01 are within the range of the model data.\n",
      "Date 2007-01-31 not found in basin_result. Skipping.\n",
      "Date 2007-01-31 not found in basin_result. Skipping.\n"
     ]
    }
   ],
   "source": [
    "# Calculate time-varying mass balance change of IMBIE from start to end date\n",
    "# #IMBIE total mass balance\n",
    "IMBIE_total_mass_change_sum=sum_MassBalance(obs_filename,start_date,end_date,mass_balance_column)\n",
    "\n",
    "\n",
    "# Process the model data,calculate time-varying  model mass balance change from IMBIE's start to end date \n",
    "basin_result=process_model_data(nc_filename,IMBIE_total_mass_change_sum,start_date, end_date,rho_ice,projection,shape_filename,icesheet)\n",
    "\n",
    "# Calculate difference of IMBIE-model mass change\n",
    "results=process_IMBIE(obs_filename, start_date, end_date, icesheet, basin_result,IMBIE_total_mass_change_sum,mass_balance_column,obs_east_filename, obs_west_filename, obs_peninsula_filename)"
   ]
  },
  {
   "cell_type": "markdown",
   "metadata": {},
   "source": [
    "## Display result and write it to csv file"
   ]
  },
  {
   "cell_type": "code",
   "execution_count": 5,
   "metadata": {},
   "outputs": [
    {
     "name": "stdout",
     "output_type": "stream",
     "text": [
      "\n",
      " Time-varying Mass change comparison (total): 2007-01-01 - 2009-01-01\n",
      "Date            Basin/Region         Model mass change (Gt)    IMBIE mass change (Gt)    Residual (Gt)       \n",
      "2007-01-01      Masked_Total         0.0                       0.0                       0.0                 \n",
      "2007-03-02      Masked_Total         -7.00                     -38.64                    -31.65              \n",
      "2007-04-02      Masked_Total         -13.99                    -57.96                    -43.97              \n",
      "2007-05-02      Masked_Total         -20.76                    -77.28                    -56.52              \n",
      "2007-06-02      Masked_Total         -27.76                    -96.61                    -68.85              \n",
      "2007-07-02      Masked_Total         -34.53                    -115.93                   -81.40              \n",
      "2007-08-01      Masked_Total         -41.30                    -135.25                   -93.95              \n",
      "2007-09-01      Masked_Total         -48.29                    -154.57                   -106.28             \n",
      "2007-10-01      Masked_Total         -55.06                    -173.89                   -118.83             \n",
      "2007-11-01      Masked_Total         -62.06                    -193.21                   -131.15             \n",
      "2007-12-01      Masked_Total         -68.83                    -212.53                   -143.70             \n",
      "2008-01-01      Masked_Total         -75.82                    -226.27                   -150.45             \n",
      "2008-01-31      Masked_Total         -68.99                    -240.01                   -171.02             \n",
      "2008-03-02      Masked_Total         -64.31                    -253.75                   -189.44             \n",
      "2008-04-01      Masked_Total         -59.79                    -267.49                   -207.70             \n",
      "2008-05-01      Masked_Total         -55.27                    -281.23                   -225.96             \n",
      "2008-06-01      Masked_Total         -50.59                    -294.97                   -244.38             \n",
      "2008-07-02      Masked_Total         -45.92                    -308.71                   -262.79             \n",
      "2008-08-01      Masked_Total         -41.39                    -322.45                   -281.05             \n",
      "2008-09-01      Masked_Total         -36.72                    -336.19                   -299.47             \n",
      "2008-10-01      Masked_Total         -32.19                    -349.93                   -317.73             \n",
      "2008-10-31      Masked_Total         -27.82                    -363.67                   -335.85             \n",
      "2008-12-01      Masked_Total         -23.00                    -377.41                   -354.41             \n",
      "2009-01-01      Masked_Total         -18.32                    -392.59                   -374.27             \n",
      "\n",
      "Writing data to CSV file: /home/jovyan/CmCt/notebooks/IMBIE/lithk_AIS_AWI_PISM1_hist_std.csv\n"
     ]
    }
   ],
   "source": [
    "# Extract the base name of the nc file (without .nc extension)\n",
    "nc_base_filename = os.path.basename(nc_filename).replace('.nc', '')\n",
    "\n",
    "# Create the CSV filename by combining the output path and the base nc filename with .csv extension\n",
    "csv_filename = os.path.join(output_path, f\"{nc_base_filename}.csv\")\n",
    "\n",
    "write_and_display_mass_change_comparison_all_dates(icesheet, basin_result, results, mass_balance_type, start_date, end_date, csv_filename)    # Initialize list to store rows of data for CSV\n",
    "   "
   ]
  },
  {
   "cell_type": "code",
   "execution_count": null,
   "metadata": {},
   "outputs": [],
   "source": []
  }
 ],
 "metadata": {
  "hide_input": false,
  "kernelspec": {
   "display_name": "Python 3 (ipykernel)",
   "language": "python",
   "name": "python3"
  },
  "language_info": {
   "codemirror_mode": {
    "name": "ipython",
    "version": 3
   },
   "file_extension": ".py",
   "mimetype": "text/x-python",
   "name": "python",
   "nbconvert_exporter": "python",
   "pygments_lexer": "ipython3",
   "version": "3.11.9"
  }
 },
 "nbformat": 4,
 "nbformat_minor": 4
}
