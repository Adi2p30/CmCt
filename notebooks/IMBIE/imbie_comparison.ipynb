{
 "cells": [
  {
   "cell_type": "markdown",
   "metadata": {},
   "source": [
    "# Input data requirements"
   ]
  },
  {
   "cell_type": "markdown",
   "metadata": {},
   "source": [
    "The input ice sheet model should be a netCDF file. \n",
    "\n",
    "\n",
    "### `Lithk` variable\n",
    "The uploaded model to contain thickness data (the `lithk` variable) for the comparison.\n"
   ]
  },
  {
   "cell_type": "code",
   "execution_count": 1,
   "metadata": {
    "code_folding": []
   },
   "outputs": [],
   "source": [
    "import os,sys\n",
    "\n",
    "\n",
    "# Get the current working directory\n",
    "current_directory = os.getcwd()\n",
    "# Navigate two levels up to reach main dir\n",
    "parent_directory = os.path.abspath(os.path.join(current_directory, os.pardir, os.pardir))\n",
    "# Insert the specific directory into the system path\n",
    "sys.path.insert(0, os.path.join(parent_directory, 'bin', 'IMBIE'))\n",
    "from imbie_utils import *\n"
   ]
  },
  {
   "cell_type": "markdown",
   "metadata": {},
   "source": [
    "### Configure IMBIE comparison"
   ]
  },
  {
   "cell_type": "code",
   "execution_count": 2,
   "metadata": {},
   "outputs": [],
   "source": [
    "# Define the flag for the ice sheet region Greenland or Antarctica\n",
    "icesheet = \"GIS\"# Change to \"AIS\" or \"GIS\"\n",
    "\n",
    "# Set start and end dates\n",
    "start_date = '2006-01-01'\n",
    "end_date ='2014-01-01'\n",
    "\n",
    "#Set density of ice\n",
    "rho_ice = 918 # (kg/m^3)\n",
    "\n",
    "#output file dirctory\n",
    "output_path='/home/jovyan/CmCt/notebooks/IMBIE/'\n",
    "\n",
    "# Set model model path,shapefile path and projection and IMBIE csv_file\n",
    "if icesheet == \"GIS\":\n",
    "    projection = \"EPSG:3413\"  # Greenland\n",
    "    #Set the model data dir path\n",
    "    # nc_filename='/home/jovyan/shared-public/CmCt/models/ISMIP6/lithk_GIS_JPL_ISSM_asmb.nc'\n",
    "    nc_filename='/home/jovyan/shared-public/CmCt/models/ISMIP6/lithk_GIS_ILTS_PIK_SICOPOLIS1_historical.nc'\n",
    "    #Set the shape data dir path\n",
    "    shape_filename = \"/home/jovyan/CmCt/data/IMBIE/Greenland_Basins_PS_v1.4.2/Greenland_Basins_PS_v1.4.2.shp\"\n",
    "    #Set the observation data dir path\n",
    "    # obs_filename = '/home/jovyan/CmCt/data/IMBIE/imbie_greenland_2022_Gt_partitioned_v0.csv'\n",
    "    obs_filename = '/home/jovyan/CmCt/data/IMBIE/imbie_greenland_2021_Gt.csv'\n",
    "\n",
    "    ##Set the Region observation data dir path\n",
    "    obs_east_filename = None\n",
    "    obs_west_filename = None\n",
    "    obs_peninsula_filename = None\n",
    "    \n",
    "    \n",
    "elif icesheet== \"AIS\":\n",
    "    projection = \"EPSG:3031\"  # Antarctica    \n",
    "    #Set the model data dir path\n",
    "    nc_filename='/home/jovyan/CmCt/notebooks/Gravimetry/lithk_AIS_AWI_PISM1_hist_std.nc'\n",
    "    #Set the shape data dir path\n",
    "    shape_filename = \"/home/jovyan/CmCt/data/IMBIE/ANT_Basins_IMBIE2_v1.6/ANT_Basins_IMBIE2_v1.6.shp\"\n",
    "    #Set the observation data dir path\n",
    "    obs_filename = '/home/jovyan/CmCt/data/IMBIE/imbie_antarctica_2022_Gt_partitioned_v0.csv'\n",
    "    # obs_filename = '/home/jovyan/CmCt/notebooks/IMBIE/imbie_antarctica_2021_Gt.csv'\n",
    "    \n",
    "    ##Set the Region observation data dir path\n",
    "    obs_east_filename = '/home/jovyan/CmCt/data/IMBIE/imbie_east_antarctica_2022_Gt_partitioned_v0.csv'\n",
    "    obs_west_filename = '/home/jovyan/CmCt/data/IMBIE/imbie_west_antarctica_2022_Gt_partitioned_v0.csv'\n",
    "    obs_peninsula_filename= '/home/jovyan/CmCt/data/IMBIE/imbie_antarctic_peninsula_2022_Gt_partitioned_v0.csv'\n",
    "\n",
    "else:\n",
    "    raise ValueError(\"Invalid iceshee value. Must be 'Greenland' or 'Antarctica'.\")\n",
    "\n",
    "\n",
    "# Select  variable for mass balance comparision\n",
    "mass_balance_column=\"Cumulative mass balance (Gt)\"# \"Cumulative dynamics mass balance anomaly (Gt)\"\n",
    "if mass_balance_column == \"Cumulative mass balance (Gt)\":\n",
    "    mass_balance_type = \"total\"\n",
    "elif mass_balance_column == \"Cumulative dynamics mass balance anomaly (Gt)\":\n",
    "    mass_balance_type = \"dynamic\""
   ]
  },
  {
   "cell_type": "code",
   "execution_count": 3,
   "metadata": {},
   "outputs": [],
   "source": [
    "# Check if  observation file exists\n",
    "if not os.path.exists(obs_filename):\n",
    "    raise FileNotFoundError(f\"Observation file not found: {obs_filename}\")\n",
    "\n",
    "# Check if model file exists    \n",
    "if not os.path.exists(nc_filename):\n",
    "    raise FileNotFoundError(f\"Model file not found: {nc_filename}\")\n",
    "\n",
    "\n",
    "if icesheet== \"AIS\":   \n",
    "    # Check if regional observation files exist \n",
    "    if not os.path.exists(obs_east_filename):\n",
    "        raise FileNotFoundError(f\"Observation file not found: {obs_east_filename}\")\n",
    "    if not os.path.exists(obs_west_filename):\n",
    "        raise FileNotFoundError(f\"Observation file not found: {obs_west_filename}\")\n",
    "    if not os.path.exists(obs_peninsula_filename):\n",
    "        raise FileNotFoundError(f\"Observation file not found: {obs_peninsula_filename}\")"
   ]
  },
  {
   "cell_type": "markdown",
   "metadata": {},
   "source": [
    "## Load the model data"
   ]
  },
  {
   "cell_type": "code",
   "execution_count": 4,
   "metadata": {},
   "outputs": [],
   "source": [
    "#Model data\n",
    "\n",
    "nc_filename='/home/jovyan/shared-public/CmCt/models/ISMIP6/lithk_GIS_BGC_BISICLES_historical.nc'\n",
    "gis_ds = xr.open_dataset(nc_filename)\n",
    "lithk = gis_ds['lithk']\n",
    "time_var = gis_ds['time']"
   ]
  },
  {
   "cell_type": "markdown",
   "metadata": {},
   "source": [
    "## Mass change comparision processing"
   ]
  },
  {
   "cell_type": "code",
   "execution_count": 5,
   "metadata": {},
   "outputs": [
    {
     "name": "stdout",
     "output_type": "stream",
     "text": [
      "The selected dates 2006-01-01 and 2014-01-01 are within the range of the model data.\n"
     ]
    }
   ],
   "source": [
    "# Process the model data and get mass balance and basin sums\n",
    "basin_result = process_model_data(nc_filename,start_date, end_date,rho_ice,projection,shape_filename,icesheet)\n",
    "            \n",
    "\n",
    "# Process the IMBIE data and get results in a dictionary\n",
    "results = process_IMBIE(obs_filename, start_date, end_date, icesheet,  basin_result,mass_balance_column,obs_east_filename, obs_west_filename, \n",
    "                        obs_peninsula_filename)\n"
   ]
  },
  {
   "cell_type": "markdown",
   "metadata": {},
   "source": [
    "## Display result and write it to csv file"
   ]
  },
  {
   "cell_type": "code",
   "execution_count": 15,
   "metadata": {},
   "outputs": [
    {
     "name": "stdout",
     "output_type": "stream",
     "text": [
      "\n",
      "Mass change comparison (total): 2006-01-01 - 2014-01-01\n",
      "Basin      Model mass change (Gt)    IMBIE mass change (Gt)    Residual (Gt)            \n",
      "CE         14.27                     --                        --                       \n",
      "CW         -175.61                   --                        --                       \n",
      "NE         2.26                      --                        --                       \n",
      "NO         -78.80                    --                        --                       \n",
      "NW         -160.12                   --                        --                       \n",
      "SE         -70.65                    --                        --                       \n",
      "SW         -296.07                   --                        --                       \n",
      "Total      -764.72                   -2170.68                  -1405.96                 \n",
      "Writing data to CSV file: /home/jovyan/CmCt/notebooks/IMBIE/lithk_GIS_BGC_BISICLES_historical.csv\n"
     ]
    }
   ],
   "source": [
    "# Extract the base name of the nc file (without .nc extension)\n",
    "nc_base_filename = os.path.basename(nc_filename).replace('.nc', '')\n",
    "\n",
    "# Create the CSV filename by combining the output path and the base nc filename with .csv extension\n",
    "csv_filename = os.path.join(output_path, f\"{nc_base_filename}.csv\")\n",
    "\n",
    "write_and_display_mass_change_comparison(icesheet, basin_result, results,mass_balance_type,start_date,end_date,csv_filename)\n",
    "  \n"
   ]
  }
 ],
 "metadata": {
  "hide_input": false,
  "kernelspec": {
   "display_name": "Python 3 (ipykernel)",
   "language": "python",
   "name": "python3"
  },
  "language_info": {
   "codemirror_mode": {
    "name": "ipython",
    "version": 3
   },
   "file_extension": ".py",
   "mimetype": "text/x-python",
   "name": "python",
   "nbconvert_exporter": "python",
   "pygments_lexer": "ipython3",
   "version": "3.11.9"
  }
 },
 "nbformat": 4,
 "nbformat_minor": 4
}
