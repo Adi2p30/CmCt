{
 "cells": [
  {
   "cell_type": "markdown",
   "metadata": {},
   "source": [
    "# Input data requirements"
   ]
  },
  {
   "cell_type": "markdown",
   "metadata": {},
   "source": [
    "The input ice sheet model should be a netCDF file. \n",
    "\n",
    "\n",
    "### `Lithk` variable\n",
    "The uploaded model to contain thickness data (the `lithk` variable) for the comparison.\n"
   ]
  },
  {
   "cell_type": "code",
   "execution_count": 1,
   "metadata": {
    "code_folding": []
   },
   "outputs": [],
   "source": [
    "import os,sys\n",
    "\n",
    "\n",
    "# Get the current working directory\n",
    "current_directory = os.getcwd()\n",
    "# Navigate two levels up to reach main dir\n",
    "parent_directory = os.path.abspath(os.path.join(current_directory, os.pardir, os.pardir))\n",
    "# Insert the specific directory into the system path\n",
    "sys.path.insert(0, os.path.join(parent_directory, 'bin', 'IMBIE'))\n",
    "from imbie_utils import *\n",
    "\n",
    "# note: suppress numpy.dtype size changed warnings\n",
    "import warnings\n",
    "warnings.filterwarnings(\"ignore\", message=\"numpy.dtype size changed\")\n",
    "\n",
    "warnings.filterwarnings('ignore')\n",
    "\n"
   ]
  },
  {
   "cell_type": "markdown",
   "metadata": {},
   "source": [
    "### Configure IMBIE comparison"
   ]
  },
  {
   "cell_type": "code",
   "execution_count": 2,
   "metadata": {},
   "outputs": [],
   "source": [
    "# Define the flag for the ice sheet region Greenland or Antarctica\n",
    "icesheet = \"AIS\" # Change to \"AIS\" or \"GIS\"\n",
    "\n",
    "# Define the flag for the area region Basin mask or Total area\n",
    "area =\"Basin\" # Change to \"Basin\" or \"Total\"\n",
    "\n",
    "# Set start and end dates\n",
    "start_date = '2007-01-01'\n",
    "end_date ='2009-01-01'\n",
    "\n",
    "#Set density of ice\n",
    "rho_ice = 918 # (kg/m^3)\n",
    "\n",
    "#output file dirctory\n",
    "output_path='/home/jovyan/CmCt/notebooks/IMBIE/'\n",
    "\n",
    "# Select  variable for mass balance comparision\n",
    "mass_balance_column=\"Cumulative dynamics mass balance anomaly (Gt)\"# \"Cumulative dynamics mass balance anomaly (Gt)\"\n",
    "if mass_balance_column == \"Cumulative mass balance (Gt)\":\n",
    "    mass_balance_type = \"total\"\n",
    "elif mass_balance_column == \"Cumulative dynamics mass balance anomaly (Gt)\":\n",
    "    mass_balance_type = \"dynamic\"\n",
    "\n",
    "\n",
    "# Set model model path,shapefile path and projection and IMBIE csv_file\n",
    "if icesheet == \"GIS\":\n",
    "    projection = \"EPSG:3413\"  # Greenland\n",
    "    #Set the model data dir path\n",
    "    # nc_filename='/home/jovyan/shared-public/CmCt/models/ISMIP6/lithk_GIS_JPL_ISSM_asmb.nc'\n",
    "    nc_filename='/home/jovyan/shared-public/CmCt/models/ISMIP6/lithk_GIS_GSFC_ISSM_historical.nc'\n",
    "    #Set the shape data dir path\n",
    "    shape_filename = \"/home/jovyan/CmCt/data/IMBIE/Greenland_Basins_PS_v1.4.2/Greenland_Basins_PS_v1.4.2.shp\"\n",
    "    #Set the observation data dir path\n",
    "    # obs_filename = '/home/jovyan/CmCt/data/IMBIE/imbie_greenland_2022_Gt_partitioned_v0.csv'\n",
    "    obs_filename = '/home/jovyan/CmCt/data/IMBIE/imbie_greenland_2021_Gt.csv'\n",
    "\n",
    "    ##Set the Region observation data dir path\n",
    "    obs_east_filename = None\n",
    "    obs_west_filename = None\n",
    "    obs_peninsula_filename = None\n",
    "    \n",
    "    \n",
    "elif icesheet== \"AIS\":\n",
    "    projection = \"EPSG:3031\"  # Antarctica    \n",
    "    #Set the model data dir path\n",
    "    nc_filename='/home/jovyan/CmCt/notebooks/Gravimetry/lithk_AIS_AWI_PISM1_hist_std.nc'\n",
    "    #Set the shape data dir path\n",
    "    shape_filename = \"/home/jovyan/CmCt/data/IMBIE/ANT_Basins_IMBIE2_v1.6/ANT_Basins_IMBIE2_v1.6.shp\"\n",
    "    #Set the observation data dir path\n",
    "    obs_filename = '/home/jovyan/CmCt/data/IMBIE/imbie_antarctica_2022_Gt_partitioned_v0.csv'\n",
    "    \n",
    "    \n",
    "    ##Set the Region observation data dir path\n",
    "    obs_east_filename = '/home/jovyan/CmCt/data/IMBIE/imbie_east_antarctica_2022_Gt_partitioned_v0.csv'\n",
    "    obs_west_filename = '/home/jovyan/CmCt/data/IMBIE/imbie_west_antarctica_2022_Gt_partitioned_v0.csv'\n",
    "    obs_peninsula_filename= '/home/jovyan/CmCt/data/IMBIE/imbie_antarctic_peninsula_2022_Gt_partitioned_v0.csv'\n",
    "\n",
    "\n",
    "    # obs_filename = '/home/jovyan/CmCt/data/IMBIE/imbie_antarctica_2021_Gt.csv'\n",
    "    # ##Set the Region observation data dir path\n",
    "    # obs_east_filename = None\n",
    "    # obs_west_filename = None\n",
    "    # obs_peninsula_filename = None\n",
    "\n",
    "\n",
    "else:\n",
    "    raise ValueError(\"Invalid iceshee value. Must be 'Greenland' or 'Antarctica'.\")"
   ]
  },
  {
   "cell_type": "code",
   "execution_count": 3,
   "metadata": {},
   "outputs": [],
   "source": [
    "# Check if  observation file exists\n",
    "if not os.path.exists(obs_filename):\n",
    "    raise FileNotFoundError(f\"Observation file not found: {obs_filename}\")\n",
    "\n",
    "# Check if model file exists    \n",
    "if not os.path.exists(nc_filename):\n",
    "    raise FileNotFoundError(f\"Model file not found: {nc_filename}\")\n",
    "\n",
    "\n",
    "if icesheet== \"AIS\":\n",
    "    if (obs_east_filename and os.path.exists(obs_east_filename)) and \\\n",
    "           (obs_west_filename and os.path.exists(obs_west_filename)) and \\\n",
    "           (obs_peninsula_filename and os.path.exists(obs_peninsula_filename)):\n",
    "        # Check if regional observation files exist \n",
    "        if not os.path.exists(obs_east_filename):\n",
    "            raise FileNotFoundError(f\"Observation file not found: {obs_east_filename}\")\n",
    "        if not os.path.exists(obs_west_filename):\n",
    "            raise FileNotFoundError(f\"Observation file not found: {obs_west_filename}\")\n",
    "        if not os.path.exists(obs_peninsula_filename):\n",
    "            raise FileNotFoundError(f\"Observation file not found: {obs_peninsula_filename}\")"
   ]
  },
  {
   "cell_type": "markdown",
   "metadata": {},
   "source": [
    "## Mass change comparision processing"
   ]
  },
  {
   "cell_type": "code",
   "execution_count": 4,
   "metadata": {},
   "outputs": [],
   "source": [
    "gis_ds = xr.open_dataset(nc_filename)\n",
    "time_var = gis_ds['time']\n",
    "\n",
    "calendar_type = time_var.to_index().calendar\n",
    "start_date_dt = datetime.datetime.strptime(start_date, '%Y-%m-%d')\n",
    "end_date_dt = datetime.datetime.strptime(end_date, '%Y-%m-%d')\n",
    "\n",
    "# Adjust day to be 30 ( to avoid error if it's the 31st day in a 360_day calendar)\n",
    "start_date_cftime = cftime.datetime(start_date_dt.year, start_date_dt.month, min(start_date_dt.day, 30), calendar=calendar_type)    \n",
    "\n",
    "end_date_cftime = cftime.datetime(end_date_dt.year, end_date_dt.month, min(end_date_dt.day, 30), calendar=calendar_type)  \n",
    "\n",
    "start_date_fract = start_date_cftime.year + (start_date_cftime.dayofyr-1) / days_in_year(start_date_cftime)\n",
    "end_date_fract = end_date_cftime.year + (end_date_cftime.dayofyr-1) / days_in_year(end_date_cftime)\n"
   ]
  },
  {
   "cell_type": "code",
   "execution_count": 5,
   "metadata": {},
   "outputs": [
    {
     "name": "stdout",
     "output_type": "stream",
     "text": [
      "The selected dates 2007-01-01 00:00:00 and 2009-01-01 00:00:00 are within the range of the model data.\n"
     ]
    }
   ],
   "source": [
    "# Calculate time-varying mass balance change of IMBIE from start to end date\n",
    "# #IMBIE total mass balance\n",
    "IMBIE_total_mass_change_sum=sum_MassBalance(obs_filename,start_date_fract,end_date_fract,mass_balance_column)\n",
    "\n",
    "\n",
    "# Process the model data,calculate time-varying  model mass balance change from IMBIE's start to end date \n",
    "basin_result=process_model_data(nc_filename,IMBIE_total_mass_change_sum,start_date_cftime, end_date_cftime,start_date_fract, end_date_fract,rho_ice,projection,shape_filename,icesheet)\n",
    "\n",
    "\n",
    "# Calculate difference of IMBIE-model mass change\n",
    "results=process_IMBIE(obs_filename, start_date_fract, end_date_fract, icesheet, basin_result,IMBIE_total_mass_change_sum,mass_balance_column,obs_east_filename, obs_west_filename, obs_peninsula_filename)"
   ]
  },
  {
   "cell_type": "markdown",
   "metadata": {},
   "source": [
    "## Display result and write it to csv file"
   ]
  },
  {
   "cell_type": "code",
   "execution_count": 6,
   "metadata": {},
   "outputs": [
    {
     "name": "stdout",
     "output_type": "stream",
     "text": [
      "\n",
      " Time-varying Mass change comparison (dynamic): 2007.0 - 2009.0\n",
      "Date            Basin/Region         Model mass change (Gt)    IMBIE mass change (Gt)    Residual (Gt)       \n",
      "2007.0          Masked_Total         0.0                       0.0                       0.0                 \n",
      "2007.0833       Masked_Total         -6.69                     -7.39                     -0.70               \n",
      "2007.1667       Masked_Total         -13.38                    -14.77                    -1.39               \n",
      "2007.25         Masked_Total         -20.07                    -22.16                    -2.09               \n",
      "2007.3333       Masked_Total         -26.75                    -29.55                    -2.80               \n",
      "2007.4167       Masked_Total         -33.45                    -36.93                    -3.49               \n",
      "2007.5          Masked_Total         -40.13                    -44.32                    -4.19               \n",
      "2007.5833       Masked_Total         -46.82                    -51.71                    -4.89               \n",
      "2007.6667       Masked_Total         -53.51                    -59.10                    -5.58               \n",
      "2007.75         Masked_Total         -60.20                    -66.48                    -6.28               \n",
      "2007.8333       Masked_Total         -66.88                    -73.87                    -6.99               \n",
      "2007.9167       Masked_Total         -73.58                    -81.27                    -7.69               \n",
      "2008.0          Masked_Total         -80.26                    -96.11                    -15.84              \n",
      "2008.0833       Masked_Total         -74.26                    -110.95                   -36.68              \n",
      "2008.1667       Masked_Total         -69.60                    -125.78                   -56.18              \n",
      "2008.25         Masked_Total         -64.95                    -140.62                   -75.67              \n",
      "2008.3333       Masked_Total         -60.29                    -155.46                   -95.17              \n",
      "2008.4167       Masked_Total         -55.63                    -170.30                   -114.67             \n",
      "2008.5          Masked_Total         -50.98                    -185.14                   -134.16             \n",
      "2008.5833       Masked_Total         -46.32                    -199.98                   -153.65             \n",
      "2008.6667       Masked_Total         -41.66                    -214.82                   -173.15             \n",
      "2008.75         Masked_Total         -37.01                    -229.66                   -192.64             \n",
      "2008.8333       Masked_Total         -32.36                    -244.49                   -212.14             \n",
      "2008.9167       Masked_Total         -27.70                    -259.34                   -231.64             \n",
      "2009.0          Masked_Total         -23.04                    -280.51                   -257.46             \n",
      "\n",
      "Writing data to CSV file: /home/jovyan/CmCt/notebooks/IMBIE/lithk_AIS_AWI_PISM1_hist_std.csv\n"
     ]
    }
   ],
   "source": [
    "# Extract the base name of the nc file (without .nc extension)\n",
    "nc_base_filename = os.path.basename(nc_filename).replace('.nc', '')\n",
    "\n",
    "# Create the CSV filename by combining the output path and the base nc filename with .csv extension\n",
    "csv_filename = os.path.join(output_path, f\"{nc_base_filename}.csv\")\n",
    "\n",
    "write_and_display_mass_change_comparison_all_dates(icesheet, basin_result, results, mass_balance_type, start_date_fract,end_date_fract, csv_filename)    # Initialize list to store rows of data for CSV\n",
    "   "
   ]
  },
  {
   "cell_type": "code",
   "execution_count": null,
   "metadata": {},
   "outputs": [],
   "source": []
  }
 ],
 "metadata": {
  "hide_input": false,
  "kernelspec": {
   "display_name": "Python 3 (ipykernel)",
   "language": "python",
   "name": "python3"
  },
  "language_info": {
   "codemirror_mode": {
    "name": "ipython",
    "version": 3
   },
   "file_extension": ".py",
   "mimetype": "text/x-python",
   "name": "python",
   "nbconvert_exporter": "python",
   "pygments_lexer": "ipython3",
   "version": "3.11.9"
  }
 },
 "nbformat": 4,
 "nbformat_minor": 4
}
