{
 "cells": [
  {
   "cell_type": "markdown",
   "metadata": {},
   "source": [
    "# Input data requirements"
   ]
  },
  {
   "cell_type": "markdown",
   "metadata": {},
   "source": [
    "The input ice sheet model should be a netCDF file. \n",
    "\n",
    "\n",
    "### `Lithk` variable\n",
    "The uploaded model to contain thickness data (the `lithk` variable) for the comparison.\n"
   ]
  },
  {
   "cell_type": "code",
   "execution_count": 1,
   "metadata": {
    "code_folding": []
   },
   "outputs": [],
   "source": [
    "import os,sys\n",
    "\n",
    "\n",
    "# Get the current working directory\n",
    "current_directory = os.getcwd()\n",
    "# Navigate two levels up to reach main dir\n",
    "parent_directory = os.path.abspath(os.path.join(current_directory, os.pardir, os.pardir))\n",
    "# Insert the specific directory into the system path\n",
    "sys.path.insert(0, os.path.join(parent_directory, 'bin', 'IMBIE'))\n",
    "from imbie_utils import *\n",
    "\n",
    "# note: suppress numpy.dtype size changed warnings\n",
    "import warnings\n",
    "warnings.filterwarnings(\"ignore\", message=\"numpy.dtype size changed\")\n",
    "\n",
    "warnings.filterwarnings('ignore')\n",
    "\n"
   ]
  },
  {
   "cell_type": "markdown",
   "metadata": {},
   "source": [
    "### Configure IMBIE comparison"
   ]
  },
  {
   "cell_type": "code",
   "execution_count": 2,
   "metadata": {},
   "outputs": [],
   "source": [
    "# Define the flag for the ice sheet region Greenland or Antarctica\n",
    "icesheet = \"AIS\" # Change to \"AIS\" or \"GIS\"\n",
    "\n",
    "# Define the flag for the area region Basin mask or Total area\n",
    "area =\"Basin\" # Change to \"Basin\" or \"Total\"\n",
    "\n",
    "# Set start and end dates\n",
    "start_date = '2007-01-01'\n",
    "end_date ='2009-01-01'\n",
    "\n",
    "#Set density of ice\n",
    "rho_ice = 918 # (kg/m^3)\n",
    "\n",
    "#output file dirctory\n",
    "output_path='/home/jovyan/CmCt/notebooks/IMBIE/'\n",
    "\n",
    "# Select  variable for mass balance comparision\n",
    "mass_balance_column=\"Cumulative mass balance (Gt)\"# \"Cumulative dynamics mass balance anomaly (Gt)\"\n",
    "if mass_balance_column == \"Cumulative mass balance (Gt)\":\n",
    "    mass_balance_type = \"total\"\n",
    "elif mass_balance_column == \"Cumulative dynamics mass balance anomaly (Gt)\":\n",
    "    mass_balance_type = \"dynamic\"\n",
    "\n",
    "\n",
    "# Set model model path,shapefile path and projection and IMBIE csv_file\n",
    "if icesheet == \"GIS\":\n",
    "    projection = \"EPSG:3413\"  # Greenland\n",
    "    #Set the model data dir path\n",
    "    # nc_filename='/home/jovyan/shared-public/CmCt/models/ISMIP6/lithk_GIS_JPL_ISSM_asmb.nc'\n",
    "    nc_filename='/home/jovyan/shared-public/CmCt/models/ISMIP6/lithk_GIS_GSFC_ISSM_historical.nc'\n",
    "    #Set the shape data dir path\n",
    "    shape_filename = \"/home/jovyan/CmCt/data/IMBIE/Greenland_Basins_PS_v1.4.2/Greenland_Basins_PS_v1.4.2.shp\"\n",
    "    #Set the observation data dir path\n",
    "    # obs_filename = '/home/jovyan/CmCt/data/IMBIE/imbie_greenland_2022_Gt_partitioned_v0.csv'\n",
    "    obs_filename = '/home/jovyan/CmCt/data/IMBIE/imbie_greenland_2021_Gt.csv'\n",
    "\n",
    "    ##Set the Region observation data dir path\n",
    "    obs_east_filename = None\n",
    "    obs_west_filename = None\n",
    "    obs_peninsula_filename = None\n",
    "    \n",
    "    \n",
    "elif icesheet== \"AIS\":\n",
    "    projection = \"EPSG:3031\"  # Antarctica    \n",
    "    #Set the model data dir path\n",
    "    nc_filename='/home/jovyan/CmCt/notebooks/Gravimetry/lithk_AIS_AWI_PISM1_hist_std.nc'\n",
    "    #Set the shape data dir path\n",
    "    shape_filename = \"/home/jovyan/CmCt/data/IMBIE/ANT_Basins_IMBIE2_v1.6/ANT_Basins_IMBIE2_v1.6.shp\"\n",
    "    #Set the observation data dir path\n",
    "    # obs_filename = '/home/jovyan/CmCt/data/IMBIE/imbie_antarctica_2022_Gt_partitioned_v0.csv'\n",
    "    obs_filename = '/home/jovyan/CmCt/data/IMBIE/imbie_antarctica_2021_Gt.csv'\n",
    "    \n",
    "    # ##Set the Region observation data dir path\n",
    "    # obs_east_filename = '/home/jovyan/CmCt/data/IMBIE/imbie_east_antarctica_2022_Gt_partitioned_v0.csv'\n",
    "    # obs_west_filename = '/home/jovyan/CmCt/data/IMBIE/imbie_west_antarctica_2022_Gt_partitioned_v0.csv'\n",
    "    # obs_peninsula_filename= '/home/jovyan/CmCt/data/IMBIE/imbie_antarctic_peninsula_2022_Gt_partitioned_v0.csv'\n",
    "\n",
    "    ##Set the Region observation data dir path\n",
    "    obs_east_filename = None\n",
    "    obs_west_filename = None\n",
    "    obs_peninsula_filename = None\n",
    "\n",
    "\n",
    "else:\n",
    "    raise ValueError(\"Invalid iceshee value. Must be 'Greenland' or 'Antarctica'.\")"
   ]
  },
  {
   "cell_type": "code",
   "execution_count": 6,
   "metadata": {},
   "outputs": [],
   "source": [
    "# Check if  observation file exists\n",
    "if not os.path.exists(obs_filename):\n",
    "    raise FileNotFoundError(f\"Observation file not found: {obs_filename}\")\n",
    "\n",
    "# Check if model file exists    \n",
    "if not os.path.exists(nc_filename):\n",
    "    raise FileNotFoundError(f\"Model file not found: {nc_filename}\")\n",
    "\n",
    "\n",
    "if icesheet== \"AIS\":\n",
    "    if (obs_east_filename and os.path.exists(obs_east_filename)) and \\\n",
    "           (obs_west_filename and os.path.exists(obs_west_filename)) and \\\n",
    "           (obs_peninsula_filename and os.path.exists(obs_peninsula_filename)):\n",
    "        # Check if regional observation files exist \n",
    "        if not os.path.exists(obs_east_filename):\n",
    "            raise FileNotFoundError(f\"Observation file not found: {obs_east_filename}\")\n",
    "        if not os.path.exists(obs_west_filename):\n",
    "            raise FileNotFoundError(f\"Observation file not found: {obs_west_filename}\")\n",
    "        if not os.path.exists(obs_peninsula_filename):\n",
    "            raise FileNotFoundError(f\"Observation file not found: {obs_peninsula_filename}\")"
   ]
  },
  {
   "cell_type": "markdown",
   "metadata": {},
   "source": [
    "## Mass change comparision processing"
   ]
  },
  {
   "cell_type": "code",
   "execution_count": 4,
   "metadata": {},
   "outputs": [
    {
     "name": "stdout",
     "output_type": "stream",
     "text": [
      "The selected dates 2007-01-01 and 2009-01-01 are within the range of the model data.\n"
     ]
    }
   ],
   "source": [
    "# Calculate time-varying mass balance change of IMBIE from start to end date\n",
    "# #IMBIE total mass balance\n",
    "IMBIE_total_mass_change_sum=sum_MassBalance(obs_filename,start_date,end_date,mass_balance_column)\n",
    "IMBIE_total_mass_change_sum\n",
    "\n",
    "# Process the model data,calculate time-varying  model mass balance change from IMBIE's start to end date \n",
    "basin_result=process_model_data(nc_filename,IMBIE_total_mass_change_sum,start_date, end_date,rho_ice,projection,shape_filename,icesheet)\n",
    "\n",
    "# Calculate difference of IMBIE-model mass change\n",
    "results=process_IMBIE(obs_filename, start_date, end_date, icesheet, basin_result,IMBIE_total_mass_change_sum,mass_balance_column,obs_east_filename, obs_west_filename, obs_peninsula_filename)"
   ]
  },
  {
   "cell_type": "markdown",
   "metadata": {},
   "source": [
    "## Display result and write it to csv file"
   ]
  },
  {
   "cell_type": "code",
   "execution_count": 5,
   "metadata": {},
   "outputs": [
    {
     "name": "stdout",
     "output_type": "stream",
     "text": [
      "\n",
      " Time-varying Mass change comparison (total): 2007-01-01 - 2009-01-01\n",
      "Date            Basin/Region         Model mass change (Gt)    IMBIE mass change (Gt)    Residual (Gt)       \n",
      "2007-01-01      Masked_Total         0.0                       0.0                       0.0                 \n",
      "2007-02-01      Masked_Total         -6.82                     -9.41                     -2.60               \n",
      "2007-03-02      Masked_Total         -13.19                    -19.10                    -5.91               \n",
      "2007-04-02      Masked_Total         -20.01                    -28.75                    -8.74               \n",
      "2007-05-02      Masked_Total         -26.61                    -38.33                    -11.72              \n",
      "2007-06-02      Masked_Total         -33.43                    -47.78                    -14.35              \n",
      "2007-07-02      Masked_Total         -40.02                    -57.21                    -17.18              \n",
      "2007-08-01      Masked_Total         -46.62                    -66.80                    -20.18              \n",
      "2007-09-01      Masked_Total         -53.44                    -76.54                    -23.10              \n",
      "2007-10-01      Masked_Total         -60.03                    -86.23                    -26.20              \n",
      "2007-11-01      Masked_Total         -66.85                    -95.82                    -28.97              \n",
      "2007-12-01      Masked_Total         -73.45                    -105.30                   -31.86              \n",
      "2008-01-01      Masked_Total         -80.26                    -114.97                   -34.70              \n",
      "2008-02-01      Masked_Total         -74.17                    -124.51                   -50.33              \n",
      "2008-03-02      Masked_Total         -69.73                    -133.86                   -64.13              \n",
      "2008-04-01      Masked_Total         -65.14                    -142.99                   -77.85              \n",
      "2008-05-01      Masked_Total         -60.55                    -151.97                   -91.42              \n",
      "2008-06-01      Masked_Total         -55.80                    -160.83                   -105.03             \n",
      "2008-07-02      Masked_Total         -51.06                    -169.61                   -118.55             \n",
      "2008-08-01      Masked_Total         -46.46                    -178.55                   -132.08             \n",
      "2008-09-01      Masked_Total         -41.72                    -187.62                   -145.91             \n",
      "2008-10-01      Masked_Total         -37.12                    -196.75                   -159.62             \n",
      "2008-11-01      Masked_Total         -32.38                    -206.56                   -174.18             \n",
      "2008-12-01      Masked_Total         -27.79                    -216.27                   -188.48             \n",
      "2009-01-01      Masked_Total         -23.04                    -225.22                   -202.18             \n",
      "\n",
      "Writing data to CSV file: /home/jovyan/CmCt/notebooks/IMBIE/lithk_AIS_AWI_PISM1_hist_std.csv\n"
     ]
    }
   ],
   "source": [
    "# Extract the base name of the nc file (without .nc extension)\n",
    "nc_base_filename = os.path.basename(nc_filename).replace('.nc', '')\n",
    "\n",
    "# Create the CSV filename by combining the output path and the base nc filename with .csv extension\n",
    "csv_filename = os.path.join(output_path, f\"{nc_base_filename}.csv\")\n",
    "\n",
    "write_and_display_mass_change_comparison_all_dates(icesheet, basin_result, results, mass_balance_type, start_date, end_date, csv_filename)    # Initialize list to store rows of data for CSV\n",
    "   "
   ]
  },
  {
   "cell_type": "code",
   "execution_count": null,
   "metadata": {},
   "outputs": [],
   "source": []
  }
 ],
 "metadata": {
  "hide_input": false,
  "kernelspec": {
   "display_name": "Python 3 (ipykernel)",
   "language": "python",
   "name": "python3"
  },
  "language_info": {
   "codemirror_mode": {
    "name": "ipython",
    "version": 3
   },
   "file_extension": ".py",
   "mimetype": "text/x-python",
   "name": "python",
   "nbconvert_exporter": "python",
   "pygments_lexer": "ipython3",
   "version": "3.11.9"
  }
 },
 "nbformat": 4,
 "nbformat_minor": 4
}
