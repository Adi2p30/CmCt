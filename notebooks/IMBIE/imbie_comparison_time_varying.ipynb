{
 "cells": [
  {
   "cell_type": "markdown",
   "metadata": {},
   "source": [
    "# Input data requirements"
   ]
  },
  {
   "cell_type": "markdown",
   "metadata": {},
   "source": [
    "The input ice sheet model should be a netCDF file. \n",
    "\n",
    "\n",
    "### `Lithk` variable\n",
    "The uploaded model to contain thickness data (the `lithk` variable) for the comparison.\n"
   ]
  },
  {
   "cell_type": "code",
   "execution_count": 1,
   "metadata": {
    "code_folding": []
   },
   "outputs": [],
   "source": [
    "import os,sys\n",
    "import pandas as pd\n",
    "\n",
    "# Get the current working directory\n",
    "current_directory = os.getcwd()\n",
    "# Navigate two levels up to reach main dir\n",
    "parent_directory = os.path.abspath(os.path.join(current_directory, os.pardir, os.pardir))\n",
    "# Insert the specific directory into the system path\n",
    "sys.path.insert(0, os.path.join(parent_directory, 'bin', 'IMBIE'))\n",
    "from imbie_utils_lithk import *\n",
    "\n",
    "\n",
    "# note: suppress numpy.dtype size changed warnings\n",
    "import warnings\n",
    "warnings.filterwarnings(\"ignore\", message=\"numpy.dtype size changed\")\n",
    "\n",
    "warnings.filterwarnings('ignore')\n",
    "\n"
   ]
  },
  {
   "cell_type": "markdown",
   "metadata": {},
   "source": [
    "### Configure IMBIE comaprision"
   ]
  },
  {
   "cell_type": "code",
   "execution_count": 2,
   "metadata": {},
   "outputs": [],
   "source": [
    "# Define the flag for the ice sheet region Greenland or Antarctica\n",
    "icesheet = \"AIS\"# Change to \"AIS\" or \"GIS\"\n",
    "\n",
    "# Set start and end dates\n",
    "start_date = '2007-01-01'\n",
    "end_date ='2014-01-01'\n",
    "\n",
    "#Set density of ice\n",
    "rho_ice = 918 # (kg/m^3)\n",
    "\n",
    "# Select  variable for mass balance comparision\n",
    "mass_balance_column=\"Cumulative mass balance (Gt)\"# \"Cumulative dynamics mass balance anomaly (Gt)\"\n",
    "if mass_balance_column == \"Cumulative mass balance (Gt)\":\n",
    "    mass_balance_type = \"total\"\n",
    "elif mass_balance_column == \"Cumulative dynamics mass balance anomaly (Gt)\":\n",
    "    mass_balance_type = \"dynamic\"\n",
    "\n",
    "\n",
    "\n",
    "nc_filename='/home/jovyan/shared-public/CmCt/models/ISMIP6/lithk_GIS_GSFC_ISSM_historical.nc'\n",
    "\n",
    "# Set model model path,shapefile path and projection and IMBIE csv_file\n",
    "if icesheet == \"GIS\":\n",
    "    projection = \"EPSG:3413\"  # Greenland\n",
    "    #Set the model data dir path\n",
    "    nc_filename='/home/jovyan/shared-public/CmCt/models/ISMIP6/lithk_GIS_GSFC_ISSM_historical.nc'\n",
    "    #Set the shape data dir path\n",
    "    shape_filename = \"/home/jovyan/CmCt/data/IMBIE/Greenland_Basins_PS_v1.4.2/Greenland_Basins_PS_v1.4.2.shp\"\n",
    "    #Set the observation data dir path\n",
    "    # obs_filename = '/home/jovyan/CmCt/data/IMBIE/imbie_greenland_2022_Gt_partitioned_v0.csv'\n",
    "    obs_filename = '/home/jovyan/CmCt/data/IMBIE/imbie_greenland_2021_Gt.csv'\n",
    "\n",
    "\n",
    "       \n",
    "elif icesheet== \"AIS\":\n",
    "    projection = \"EPSG:3031\"  # Antarctica    \n",
    "    #Set the model data dir path\n",
    "    nc_filename='/home/jovyan/CmCt/notebooks/Gravimetry/lithk_AIS_AWI_PISM1_hist_std.nc'\n",
    "    #Set the shape data dir path\n",
    "    shape_filename = \"/home/jovyan/CmCt/data/IMBIE/ANT_Basins_IMBIE2_v1.6/ANT_Basins_IMBIE2_v1.6.shp\"\n",
    "    #Set the observation data dir path\n",
    "    obs_filename = '/home/jovyan/CmCt/data/IMBIE/imbie_antarctica_2022_Gt_partitioned_v0.csv'\n",
    "    # obs_filename = '/home/jovyan/CmCt/notebooks/IMBIE/imbie_antarctica_2021_Gt.csv'\n",
    "\n",
    "else:\n",
    "    raise ValueError(\"Invalid iceshee value. Must be 'Greenland' or 'Antarctica'.\")\n"
   ]
  },
  {
   "cell_type": "markdown",
   "metadata": {},
   "source": [
    "### Calculate time-varying   mass balance change of IMBIE from start to end date"
   ]
  },
  {
   "cell_type": "code",
   "execution_count": 3,
   "metadata": {},
   "outputs": [],
   "source": [
    "#IMBIE total mass balance\n",
    "IMBIE_total_mass_change_sum=sum_MassBalance(obs_filename,start_date,end_date,mass_balance_column)"
   ]
  },
  {
   "cell_type": "markdown",
   "metadata": {},
   "source": [
    "### Calculate time-varying  model mass balance change from IMBIE's start to end date "
   ]
  },
  {
   "cell_type": "code",
   "execution_count": 4,
   "metadata": {},
   "outputs": [
    {
     "name": "stdout",
     "output_type": "stream",
     "text": [
      "The selected dates 2007-01-01 and 2008-01-01 are within the range of the model data.\n"
     ]
    }
   ],
   "source": [
    "modal_mass_changes=process_model_data(nc_filename,IMBIE_total_mass_change_sum,start_date, end_date,rho_ice,projection,shape_filename,icesheet)"
   ]
  },
  {
   "cell_type": "markdown",
   "metadata": {},
   "source": [
    "## Calculate difference of IMBIE-model mass change"
   ]
  },
  {
   "cell_type": "code",
   "execution_count": 5,
   "metadata": {},
   "outputs": [],
   "source": [
    "#Convert model mass balance data to DataFrame\n",
    "model_mass_df = pd.DataFrame.from_dict(modal_mass_changes, orient='index', columns=['Model_Mass_Change'])\n",
    "model_mass_df.index.name = 'Year'\n",
    "model_mass_df.reset_index(inplace=True)\n",
    "\n",
    "# Merge the two datasets on 'Year'\n",
    "merged_df = pd.merge(IMBIE_total_mass_change_sum[['Year', 'IMBIE_Mass_Change']], model_mass_df, on='Year', how='inner')\n",
    "\n",
    "# Calculate the difference\n",
    "merged_df['Difference'] = merged_df['IMBIE_Mass_Change'] - merged_df['Model_Mass_Change']\n",
    "#Rename Year column to Date\n",
    "merged_df.rename(columns={'Year': 'Date'}, inplace=True)"
   ]
  },
  {
   "cell_type": "code",
   "execution_count": 6,
   "metadata": {},
   "outputs": [
    {
     "name": "stdout",
     "output_type": "stream",
     "text": [
      "Time-varying IMBIE and model mass changes from 2007-01-01 to 2008-01-01\n",
      "          Date  IMBIE_Mass_Change  Model_Mass_Change  Difference\n",
      "0   2007-01-31           -20.1481           -9.19184   -10.95626\n",
      "1   2007-03-02           -20.1481          -10.14272   -10.00538\n",
      "2   2007-04-02           -20.1482           -9.50880   -10.63940\n",
      "3   2007-05-02           -20.1481           -9.50880   -10.63930\n",
      "4   2007-06-02           -20.1481           -9.50880   -10.63930\n",
      "5   2007-07-02           -20.1482           -9.50880   -10.63940\n",
      "6   2007-08-01           -20.1481           -9.19184   -10.95626\n",
      "7   2007-09-01           -20.1481           -9.50880   -10.63930\n",
      "8   2007-10-01           -20.1482           -9.50880   -10.63940\n",
      "9   2007-11-01           -20.4436           -9.50880   -10.93480\n",
      "10  2007-12-01           -20.4437           -9.50880   -10.93490\n",
      "11  2008-01-01           -19.9333           -9.50880   -10.42450\n"
     ]
    }
   ],
   "source": [
    "# Display the time varying mass change\n",
    "print(f'Time-varying IMBIE and model mass changes from {start_date} to {end_date}')\n",
    "# Display the result\n",
    "print(merged_df)"
   ]
  }
 ],
 "metadata": {
  "hide_input": false,
  "kernelspec": {
   "display_name": "Python 3 (ipykernel)",
   "language": "python",
   "name": "python3"
  },
  "language_info": {
   "codemirror_mode": {
    "name": "ipython",
    "version": 3
   },
   "file_extension": ".py",
   "mimetype": "text/x-python",
   "name": "python",
   "nbconvert_exporter": "python",
   "pygments_lexer": "ipython3",
   "version": "3.11.9"
  }
 },
 "nbformat": 4,
 "nbformat_minor": 4
}
