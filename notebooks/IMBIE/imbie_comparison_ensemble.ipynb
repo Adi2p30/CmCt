{
 "cells": [
  {
   "cell_type": "markdown",
   "metadata": {},
   "source": [
    "# Input data requirements"
   ]
  },
  {
   "cell_type": "markdown",
   "metadata": {
    "jupyter": {
     "source_hidden": true
    }
   },
   "source": [
    "The input ice sheet model should be a netCDF file. \n",
    "\n",
    "\n",
    "### `Lithk` variable\n",
    "The uploaded model to contain thickness data (the `lithk` variable) for the comparison.\n"
   ]
  },
  {
   "cell_type": "code",
   "execution_count": 1,
   "metadata": {
    "code_folding": []
   },
   "outputs": [],
   "source": [
    "import os,sys\n",
    "import glob\n",
    "\n",
    "# Navigate two levels up to reach main CmCt dir\n",
    "cmct_dir = os.path.abspath(os.path.join(os.getcwd(), os.pardir, os.pardir))\n",
    "\n",
    "# Import utilities for this comparison\n",
    "sys.path.insert(0, os.path.join(cmct_dir, 'bin'))\n",
    "from CmCtpackage.imbie import *\n",
    "\n",
    "# Suppress numpy.dtype size changed warnings\n",
    "import warnings\n",
    "warnings.filterwarnings('ignore')"
   ]
  },
  {
   "cell_type": "markdown",
   "metadata": {},
   "source": [
    "# Configure IMBIE comparison"
   ]
  },
  {
   "cell_type": "code",
   "execution_count": 2,
   "metadata": {},
   "outputs": [],
   "source": [
    "# Flag for the ice sheet region Greenland or Antarctica\n",
    "icesheet = \"AIS\"# Change to \"AIS\" or \"GIS\"\n",
    "\n",
    "\n",
    "# Start and end dates for comparison\n",
    "start_date = '2007-01-01'\n",
    "end_date ='2014-01-31'\n",
    "\n",
    "# Density of ice used in the model\n",
    "rho_ice = 918 # (kg/m^3)\n",
    "\n",
    "# Output file directory\n",
    "output_path = cmct_dir + '/notebooks/IMBIE/'\n",
    "\n",
    "# Select IMBIE variable for mass change comparision (name of column in IMBIE dataset)\n",
    "mass_balance_column=\"Cumulative mass balance (Gt)\"\n",
    "if mass_balance_column == \"Cumulative mass balance (Gt)\":\n",
    "    mass_balance_type = \"total\"\n",
    "elif mass_balance_column == \"Cumulative dynamics mass balance anomaly (Gt)\":\n",
    "    mass_balance_type = \"dynamic\"\n",
    "\n",
    "# Set template model filename, shapefile for basin partitioning, projection, and IMBIE dataset filename\n",
    "if icesheet == \"GIS\":\n",
    "    projection = \"EPSG:3413\"  \n",
    "    \n",
    "    # Template for the model filenames\n",
    "    mod_filename_template = '/home/jovyan/shared-public/CmCt/models/ISMIP6/lithk_GIS_*_*_historical.nc'\n",
    "    \n",
    "    # Shapefile for basin partitioning\n",
    "    shape_filename = cmct_dir + '/data/IMBIE/Greenland_Basins_PS_v1.4.2/Greenland_Basins_PS_v1.4.2.shp'\n",
    "    \n",
    "    # IMBIE dataset filename\n",
    "    obs_filename = cmct_dir + '/data/IMBIE/imbie_greenland_2021_Gt.csv'\n",
    "\n",
    "    # Other regions --- these are used for Antarctica only, so set them to None for Greenland\n",
    "    obs_east_filename = None\n",
    "    obs_west_filename = None\n",
    "    obs_peninsula_filename = None\n",
    "    \n",
    "elif icesheet== \"AIS\":\n",
    "    projection = \"EPSG:3031\"  \n",
    "    \n",
    "    # Template for the model filenames\n",
    "    mod_filename_template = '/home/jovyan/shared-public/CmCt/models/ISMIP6/lithk_AIS_*_*_hist_std.nc' \n",
    "    \n",
    "    # Shapefile for basin partitioning\n",
    "    shape_filename = cmct_dir + '/data/IMBIE/ANT_Basins_IMBIE2_v1.6/ANT_Basins_IMBIE2_v1.6.shp'\n",
    "    \n",
    "    # IMBIE dataset filename\n",
    "    obs_filename = cmct_dir + '/data/IMBIE/imbie_antarctica_2021_Gt.csv'\n",
    "    \n",
    "    # Other regions --- these are used for Antarctica and are not yet published, so set them to None for now\n",
    "    obs_east_filename = None\n",
    "    obs_west_filename = None\n",
    "    obs_peninsula_filename= None\n",
    "\n",
    "else:\n",
    "    raise ValueError(\"Invalid icesheet value. Must be 'Greenland' or 'Antarctica'.\")\n"
   ]
  },
  {
   "cell_type": "code",
   "execution_count": 3,
   "metadata": {},
   "outputs": [],
   "source": [
    "# Check if  observation file exists\n",
    "if not os.path.exists(obs_filename):\n",
    "    raise FileNotFoundError(f\"Observation file not found: {obs_filename}\")\n",
    "\n",
    "if icesheet== \"AIS\":\n",
    "    if (obs_east_filename and os.path.exists(obs_east_filename)) and \\\n",
    "           (obs_west_filename and os.path.exists(obs_west_filename)) and \\\n",
    "           (obs_peninsula_filename and os.path.exists(obs_peninsula_filename)):\n",
    "        # Check if regional observation files exist \n",
    "        if not os.path.exists(obs_east_filename):\n",
    "            raise FileNotFoundError(f\"Observation file not found: {obs_east_filename}\")\n",
    "        if not os.path.exists(obs_west_filename):\n",
    "            raise FileNotFoundError(f\"Observation file not found: {obs_west_filename}\")\n",
    "        if not os.path.exists(obs_peninsula_filename):\n",
    "            raise FileNotFoundError(f\"Observation file not found: {obs_peninsula_filename}\")\n"
   ]
  },
  {
   "cell_type": "markdown",
   "metadata": {},
   "source": [
    "# Mass change comparision processing"
   ]
  },
  {
   "cell_type": "code",
   "execution_count": 4,
   "metadata": {},
   "outputs": [
    {
     "name": "stdout",
     "output_type": "stream",
     "text": [
      "\n",
      "Processing:/home/jovyan/shared-public/CmCt/models/ISMIP6/lithk_AIS_AWI_PISM1_hist_std.nc\n",
      "The selected dates {start_date_cftime} and {end_date_cftime} are within the range of the model data.\n",
      "\n",
      "Writing data to CSV file: /home/jovyan/CmCt/notebooks/IMBIE/lithk_AIS_AWI_PISM1_hist_std.csv\n",
      "\n",
      "Processing:/home/jovyan/shared-public/CmCt/models/ISMIP6/lithk_AIS_IMAU_IMAUICE1_hist_std.nc\n",
      "The selected dates {start_date_cftime} and {end_date_cftime} are within the range of the model data.\n",
      "\n",
      "Writing data to CSV file: /home/jovyan/CmCt/notebooks/IMBIE/lithk_AIS_IMAU_IMAUICE1_hist_std.csv\n",
      "\n",
      "Processing:/home/jovyan/shared-public/CmCt/models/ISMIP6/lithk_AIS_UCIJPL_ISSM_hist_std.nc\n",
      "The selected dates {start_date_cftime} and {end_date_cftime} are within the range of the model data.\n",
      "\n",
      "Writing data to CSV file: /home/jovyan/CmCt/notebooks/IMBIE/lithk_AIS_UCIJPL_ISSM_hist_std.csv\n"
     ]
    }
   ],
   "source": [
    "# Get the list of all model data files\n",
    "nc_filenames = glob.glob(mod_filename_template)\n",
    "\n",
    "# Loop through each file \n",
    "for nc_filename in nc_filenames:\n",
    "    print(f\"\\nProcessing:{nc_filename}\")\n",
    "    \n",
    "    # Open model file\n",
    "    mod_ds = xr.open_dataset(nc_filename,use_cftime=True)\n",
    "    time_var = mod_ds['time']\n",
    "    \n",
    "    calendar_type = time_var.to_index().calendar\n",
    "    start_date_dt = datetime.datetime.strptime(start_date, '%Y-%m-%d')\n",
    "    end_date_dt = datetime.datetime.strptime(end_date, '%Y-%m-%d')\n",
    "    \n",
    "    # Adjust day to be 30 ( to avoid error if it's the 31st day in a 360_day calendar)\n",
    "    start_date_cftime = cftime.datetime(start_date_dt.year, start_date_dt.month, min(start_date_dt.day, 30), calendar=calendar_type)    \n",
    "    \n",
    "    end_date_cftime = cftime.datetime(end_date_dt.year, end_date_dt.month, min(end_date_dt.day, 30), calendar=calendar_type)  \n",
    "    \n",
    "    start_date_fract = start_date_cftime.year + (start_date_cftime.dayofyr-1) / days_in_year(start_date_cftime)\n",
    "    end_date_fract = end_date_cftime.year + (end_date_cftime.dayofyr-1) / days_in_year(end_date_cftime)\n",
    "    \n",
    "    \n",
    "    # Read IMBIE mass change from start to end date\n",
    "    IMBIE_mass_change = process_imbie_data(obs_filename, start_date_fract, end_date_fract, mass_balance_column)\n",
    "    \n",
    "    # Calculate time-varying modeled mass change\n",
    "    model_mass_change = process_model_data(mod_ds,time_var, IMBIE_mass_change, start_date_cftime, end_date_cftime, start_date_fract, end_date_fract, rho_ice, projection, shape_filename, icesheet)\n",
    "    \n",
    "    # Calculate IMBIE-model mass change residuals\n",
    "    imbie_model_residuals = calculate_model_imbie_residuals(start_date_fract, end_date_fract, icesheet, model_mass_change, IMBIE_mass_change, mass_balance_column, obs_east_filename, obs_west_filename, obs_peninsula_filename)\n",
    "\n",
    "    \n",
    "    # Extract the base name of the nc file (without .nc extension)\n",
    "    nc_base_filename = os.path.basename(nc_filename).replace('.nc', '')\n",
    "    \n",
    "    # Create the CSV filename by combining the output path and the base nc filename with .csv extension\n",
    "    csv_filename = os.path.join(output_path, f\"{nc_base_filename}.csv\")\n",
    "\n",
    "    \n",
    "    # Write  the mass change comparison  to csv file  \n",
    "    write_mass_change_comparison_all_dates(icesheet, model_mass_change, imbie_model_residuals, mass_balance_type, start_date_fract, end_date_fract, csv_filename)\n",
    "    "
   ]
  },
  {
   "cell_type": "code",
   "execution_count": null,
   "metadata": {},
   "outputs": [],
   "source": []
  }
 ],
 "metadata": {
  "hide_input": false,
  "kernelspec": {
   "display_name": "Python 3 (ipykernel)",
   "language": "python",
   "name": "python3"
  },
  "language_info": {
   "codemirror_mode": {
    "name": "ipython",
    "version": 3
   },
   "file_extension": ".py",
   "mimetype": "text/x-python",
   "name": "python",
   "nbconvert_exporter": "python",
   "pygments_lexer": "ipython3",
   "version": "3.11.9"
  }
 },
 "nbformat": 4,
 "nbformat_minor": 4
}
