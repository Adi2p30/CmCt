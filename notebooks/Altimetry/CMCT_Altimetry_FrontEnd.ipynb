{
 "cells": [
  {
   "cell_type": "markdown",
   "id": "pointed-granny",
   "metadata": {
    "tags": []
   },
   "source": [
    "# Cryospheric Model Comparison Tool (CmCt) - Altimetry Module"
   ]
  },
  {
   "cell_type": "markdown",
   "id": "medieval-juice",
   "metadata": {},
   "source": [
    "The Cryosphere model Comparison tool (CmCt) is an ice sheet model validation tool that has been developed by NASA to facilitate direct comparison between satellite observational data and various ice sheet models. The CmCt allows the user to take advantage of several decades worth of satellite-based observations from Greenland."
   ]
  },
  {
   "cell_type": "markdown",
   "id": "fifty-windsor",
   "metadata": {},
   "source": [
    "The Cryospheric Model Comparison Tool (CmCt) is designed to facilitate rapid comparison between ice sheet model results, and between ice sheet models and available observations. The observational data sets available through the CmCt are processed and edited following community best practices (such as those used by the IMBIE2 effort), and eliminate the need for detailed understanding of remote sensing data by producing data sets that can be directly compared with model output variables. The overall goal of the CmCt is to eliminate barriers preventing the use of remote sensing data by the ice sheet modeling community. "
   ]
  },
  {
   "cell_type": "markdown",
   "id": "accomplished-cornell",
   "metadata": {},
   "source": [
    "The CmCt accepts input models of surface elevations over Greenland. Currently, the CmCt is used to compare ice sheet models provided by the user with remotely sensed satellite ICESat (Ice, Cloud, and land Elevation Satellite) laser altimetry, ERS-1, ERS-2 (European Remote-Sensing Satellite), and Envisat (Environmental Satellite) radar altimetry data."
   ]
  },
  {
   "cell_type": "markdown",
   "id": "resident-nigeria",
   "metadata": {},
   "source": [
    "## Model Information"
   ]
  },
  {
   "cell_type": "markdown",
   "id": "choice-namibia",
   "metadata": {},
   "source": [
    "**Input Model:** The models MUST be defined on a rectangular X-Y grid in the ISMIP6 standard projected polar-stereographic space. (Note, NOT a lat-lon grid!) The ISMIP6 standard projection is defined [here](https://www.climate-cryosphere.org/wiki/index.php?title=ISMIP6_wiki_page). However, any grid spacing may be used. For internal consistency, we don't use the model X and Y values, but reproject the model latitudes and longitudes. Grid cell nodes are in the upper-left corner of the cell."
   ]
  },
  {
   "cell_type": "markdown",
   "id": "turned-nightmare",
   "metadata": {},
   "source": [
    "**Format:** There is only netCDF model input format accepted. The netCDF files MUST include 2-D (x,y) latitude and longitude variables and these variables MUST have \"standard_name\" attributes with values \"latitude\" and \"longitude\" respectively; because the model is on an x-y grid, latitude and longitude will vary along rows and columns. A sample of a netCDF file accepted by the CmCt can be downloaded from here."
   ]
  },
  {
   "cell_type": "markdown",
   "id": "outdoor-refrigerator",
   "metadata": {},
   "source": [
    "## Running the Tool"
   ]
  },
  {
   "cell_type": "markdown",
   "id": "soviet-nursery",
   "metadata": {},
   "source": [
    "* Create Run Directory Structure\n",
    "* Configure Run\n",
    "* Write Configuration File\n",
    "* Launch CmCt Altimetry Module Backend"
   ]
  },
  {
   "cell_type": "markdown",
   "id": "worth-republican",
   "metadata": {},
   "source": [
    "## CmCt Results"
   ]
  },
  {
   "cell_type": "markdown",
   "id": "modular-native",
   "metadata": {},
   "source": [
    "**CmCt Outputs**: \n",
    "* Output Log File: This file will contain metadata about the run, messages about the run’s progression, lists of the individual data files used in the processing, and some statistics about the comparison. At the end of each log file there will be statistics for the entire input grid as a whole. In addition, any error or warning messages will be in this file.\n",
    "* Record List File: This is the main output from the tool. This file begins with a detailed header that gives metadata about the input parameters to the analysis, and explains the columns in the file. All the header lines begin with the character \"#\". This file contains a record for each sensor footprint that was within the model boundary.\n",
    "* Mean and Standard Deviation Grids File: For every cell defined by 4 adjacent grid nodes of the input model, this file contains statistics on all the elevation deltas within that cell. Calculations for this file are done using a non-standard projection. \n",
    "* Histogram File: This file contains the 1 meter histogram of the elevation deltas, their probability density function, and their empirical cumulative distribution function. It begins with a header similar to that of the record list file, but which also includes histogram statistics. The histogram file plots of Cumulative Distribution and Probability Distribution function can be viewed with the CmCt Plotting tool.\n",
    "* JSON Configuration Files: Files with the .json extension are configuration files. These files contain metadata about the model run, data input, and fields chosen from the web interface. These files will be useful to troubleshoot the model run if there are problems during the process.\n"
   ]
  },
  {
   "cell_type": "markdown",
   "id": "56e21d38-eab6-4a4f-a0cd-b2b6bfbebf97",
   "metadata": {},
   "source": [
    "**Altimetry Mission:** Select the altimetry dataset for comparison. Currently, the available options are ICESat laser altimetry, ERS-1, ERS-2, and Envisat radar altimetry data."
   ]
  },
  {
   "cell_type": "markdown",
   "id": "5327ede5-fe76-41f0-8ce4-7275b11ae3e6",
   "metadata": {},
   "source": [
    "**Data set:** Select the dataset to compare your model against. There are 3 available data sets: \\\n",
    "&nbsp;•\tWGS84 elevation – for Greenland or Antarctica (Topex/Poseidon elevation) is a preprocessed subset of elevations on the TOPEX/Poseidon ellipsoid. \\\n",
    "&nbsp;•\tEGM08 Mean Tide elevation – for Greenland or Antarctica is a preprocessed subset of elevations on the EGM08 Mean Tide reference system. \\\n",
    "&nbsp;•\tEGM08 Tide-Free elevation – for Greenland or Antarctica is a preprocessed subset of elevations on the EGM08 Tide-Free reference system.\n"
   ]
  },
  {
   "cell_type": "markdown",
   "id": "f58e3ff9-0657-4c43-96a4-3be90ddb53a3",
   "metadata": {},
   "source": [
    "**Grid Spacing:** Enter the grid spacing of the input model in kilometers (km). Do not include units. The value can be a real or an integer. Regardless, the software uses a real value in its calculations."
   ]
  },
  {
   "cell_type": "markdown",
   "id": "ae09ad49-5173-4e6d-9838-eb52f93df118",
   "metadata": {},
   "source": [
    "**Model time index:** Enter an integer value for the desired time step. Indexing begins at 1. Note that this is an INDEX, and NOT the time value itself. The input models should have (x,y,t) coordinates, and this enables a user to select which time \"slice\" to analyze."
   ]
  },
  {
   "cell_type": "markdown",
   "id": "valid-whale",
   "metadata": {},
   "source": [
    "## Import Python Packages"
   ]
  },
  {
   "cell_type": "code",
   "execution_count": 1,
   "id": "1c3c177f-a836-4231-8588-39b0a29019d7",
   "metadata": {
    "tags": []
   },
   "outputs": [],
   "source": [
    "# Imports\n",
    "import os,sys\n",
    "import glob as glob\n",
    "import json\n",
    "import shutil\n",
    "import subprocess\n",
    "from datetime import datetime\n",
    "\n",
    "import ipywidgets as widgets\n",
    "from IPython.display import display,clear_output\n",
    "from ipywidgets import HBox, VBox\n",
    "\n",
    "from CMCT_select_data_parameters import *\n",
    "import time\n",
    "\n"
   ]
  },
  {
   "cell_type": "code",
   "execution_count": 2,
   "id": "1e3569ef-031d-4e56-9a60-8c57bd7bec1d",
   "metadata": {},
   "outputs": [],
   "source": [
    "# Start timing\n",
    "start_time = time.time()"
   ]
  },
  {
   "cell_type": "markdown",
   "id": "coupled-script",
   "metadata": {},
   "source": [
    "## Set up Run Configuration Name and Folder"
   ]
  },
  {
   "cell_type": "code",
   "execution_count": 3,
   "id": "124f638c-e086-433d-8da2-bee6d0e4f3d7",
   "metadata": {},
   "outputs": [],
   "source": [
    "# Working Directory\n",
    "workingdir = os.getcwd()\n",
    "\n",
    "# Set path to upload directory\n",
    "# upload_dir = \"/CmCt/cmct_input_files/\"\n",
    "# upload_dir = os.path.expanduser('~/CmCt/cmct_input_files/')\n",
    "upload_dir = os.path.expanduser('/home/jovyan/CmCt/RUNS/')\n",
    "#Data dir and model name\n",
    "# Datadir = \"/CmCt/\"\n",
    "# Datadir =os.path.expanduser('~/CmCt/')\n",
    "Datadir =os.path.expanduser('/home/jovyan/CmCt/')\n",
    "datafile = \"test_model_file.nc\""
   ]
  },
  {
   "cell_type": "markdown",
   "id": "1c2738cb-e434-4491-bf87-b032537388c3",
   "metadata": {},
   "source": [
    "### Select Parameters"
   ]
  },
  {
   "cell_type": "code",
   "execution_count": 4,
   "id": "779b58f5-0dfb-4a53-ae49-912953872d17",
   "metadata": {},
   "outputs": [
    {
     "data": {
      "application/vnd.jupyter.widget-view+json": {
       "model_id": "5c22d445ab1b47e7ac93c39e8037c1a5",
       "version_major": 2,
       "version_minor": 0
      },
      "text/plain": [
       "VBox(children=(Dropdown(description='region:', options=('greenland', 'antarctica'), value='greenland'), Dropdo…"
      ]
     },
     "metadata": {},
     "output_type": "display_data"
    },
    {
     "name": "stdout",
     "output_type": "stream",
     "text": [
      "{'region': 'greenland', 'mission': 'icesat-glas', 'dataset': 'icesat-cmctnc-tpelev-grn', 'year': '2003', 'variable': 'orog', 'spacing': '5.0', 'loginname_widget': 'rbasnet', 'email': 'ritu.basnet@nasa.gov', 'model_name': 'DenisTest-2024Jan03', 'actual_user_name': 'Ritu Basnet', 'model_time_index': '2'}\n"
     ]
    }
   ],
   "source": [
    "parameters = CMCT_select_data_parameters()\n",
    "print(parameters)"
   ]
  },
  {
   "cell_type": "code",
   "execution_count": 5,
   "id": "formal-gazette",
   "metadata": {},
   "outputs": [
    {
     "name": "stdout",
     "output_type": "stream",
     "text": [
      "/home/jovyan/CmCt/RUNS/rbasnet_20240409T180900/\n"
     ]
    },
    {
     "data": {
      "text/plain": [
       "'/home/jovyan/CmCt/RUNS/rbasnet_20240409T180900/test_model_file.nc'"
      ]
     },
     "execution_count": 5,
     "metadata": {},
     "output_type": "execute_result"
    }
   ],
   "source": [
    "# Construct run_id using username and current time\n",
    "date = datetime.now().strftime('%Y-%m-%dT%H:%M:%S')\n",
    "date2 = datetime.now().strftime('%Y%m%dT%H%M%S')\n",
    "\n",
    "run_id = parameters['loginname_widget']+ \"_\" + date2\n",
    "# print(run_id)\n",
    "\n",
    "# Create upload dir path\n",
    "upload_dir_act = upload_dir + run_id + \"/\"\n",
    "print(upload_dir_act)\n",
    "\n",
    "#Make upload directory\n",
    "os.mkdir(upload_dir_act)\n",
    "\n",
    "# Move Model File to Run Directory\n",
    "shutil.copy2(Datadir + datafile, upload_dir_act)"
   ]
  },
  {
   "cell_type": "markdown",
   "id": "b557dc56-3fdf-4ded-b19a-5b58219b3b70",
   "metadata": {},
   "source": [
    "## Write Run Configuration File"
   ]
  },
  {
   "cell_type": "code",
   "execution_count": 6,
   "id": "beneficial-commerce",
   "metadata": {},
   "outputs": [],
   "source": [
    "# Write directly to upload dir\n",
    "with open(upload_dir_act + 'cmct_run_config' + '_' + run_id + '.json', 'w') as outfile:\n",
    "    \n",
    "    json.dump({\n",
    "        \"cmct_run_config\" : {\n",
    "            \"run\" : {\n",
    "                \"runid\" : run_id,\n",
    "                \"date\" : date,\n",
    "                \"upload_dir\" : upload_dir_act,\n",
    "                \"user_run_title\" : parameters['model_name'],\n",
    "                \"loginname\" : parameters['loginname_widget'],\n",
    "                \"actualusername\" : parameters['actual_user_name'],\n",
    "                \"email\" : parameters['email']\n",
    "            },\n",
    "            \"comparisons\" : [\n",
    "                {\n",
    "                    \"model\" : {\n",
    "                        \"modelname\" : parameters['model_name'],\n",
    "                        \"filename\" : datafile,\n",
    "                        \"format\" : \"netcdf\",\n",
    "                        \"spacing_km\" : float(parameters['spacing']),\n",
    "                        \"region\" : parameters['region'],\n",
    "                        \"variable\" : parameters['variable'],\n",
    "                        \"user_comments\" : \"\",\n",
    "                        \"model_time_index\" : int(parameters['model_time_index'])\n",
    "                    },\n",
    "                    \"observations\" : {\n",
    "                        \"mission\" : parameters['mission'],   \n",
    "                        \"campaign\" : parameters['year'],       \n",
    "                        \"dataset\" : parameters['dataset']   \n",
    "                    }\n",
    "                }\n",
    "            ]\n",
    "        }\n",
    "    }, outfile, indent=4, sort_keys=True)\n",
    "\n"
   ]
  },
  {
   "cell_type": "markdown",
   "id": "74ce0023-29cd-4c6b-9063-d8df94078d32",
   "metadata": {},
   "source": [
    "## Launch CmCt Backend"
   ]
  },
  {
   "cell_type": "code",
   "execution_count": 7,
   "id": "38db3512-3d66-4c84-aaba-6159614b1e72",
   "metadata": {},
   "outputs": [
    {
     "name": "stdout",
     "output_type": "stream",
     "text": [
      "/home/jovyan/CmCt/CMCT_ICESAT/cmct_launch.ksh\n",
      "/home/jovyan/CmCt/RUNS/rbasnet_20240409T180900/cmct_run_config_rbasnet_20240409T180900.json\n"
     ]
    }
   ],
   "source": [
    "# Construct path to launch script\n",
    "case = \"ICESAT\"\n",
    "name = \"cmct_launch.ksh\"\n",
    "run_script = os.path.join(f'/home/jovyan/CmCt/CMCT_{case}', name)\n",
    "print(run_script)\n",
    "\n",
    "config_file = os.path.join(upload_dir_act, f'cmct_run_config_{run_id}.json')\n",
    "print(config_file)"
   ]
  },
  {
   "cell_type": "markdown",
   "id": "7b62f707-c34f-40a1-9c33-2850af835684",
   "metadata": {},
   "source": [
    "Initiates CmCt Altimetry Module Backend and generates all comparison result files."
   ]
  },
  {
   "cell_type": "code",
   "execution_count": 8,
   "id": "decreased-throat",
   "metadata": {},
   "outputs": [
    {
     "name": "stdout",
     "output_type": "stream",
     "text": [
      "trap: ERR: bad trap\n",
      "mkdir: cannot create directory ‘/home/jovyan/CmCt/RUNS/rbasnet_20240409T180900’: File exists\n",
      "trap: ERR: bad trap\n",
      "trap: ERR: bad trap\n",
      "CMCT_rbasnet_20240409T180900/\n",
      "CMCT_rbasnet_20240409T180900/cmct_run_config_rbasnet_20240409T180900.json\n",
      "CMCT_rbasnet_20240409T180900/CMCT_rbasnet_20240409T180900.cmct_main.log\n",
      "CMCT_rbasnet_20240409T180900/icesat_cism_config.json\n",
      "CMCT_rbasnet_20240409T180900/datasets.json\n",
      "CMCT_rbasnet_20240409T180900/icesat_cmctnc_grn_config.json\n",
      "CMCT_rbasnet_20240409T180900/cmct_main_control_rbasnet_20240409T180900.json\n"
     ]
    }
   ],
   "source": [
    "!sh \"{run_script}\" \"{config_file}\""
   ]
  },
  {
   "cell_type": "code",
   "execution_count": 9,
   "id": "436ae504-1d91-433b-a801-4ca1275761d8",
   "metadata": {},
   "outputs": [
    {
     "name": "stdout",
     "output_type": "stream",
     "text": [
      "Execution time: 376.94930124282837 seconds\n"
     ]
    }
   ],
   "source": [
    "# End timing\n",
    "end_time = time.time()\n",
    "execution_time = end_time - start_time\n",
    "\n",
    "# Print execution time\n",
    "print(f\"Execution time: {execution_time} seconds\")\n",
    "      \n",
    "# 282.44801020622253 seconds = 4.71 minutes 2003\n",
    "# 1815.4350416660309 seconds= 30.26 minutes minutes 2004"
   ]
  },
  {
   "cell_type": "code",
   "execution_count": null,
   "id": "8bf58b17-56d7-4441-b4e8-c46a24b151bc",
   "metadata": {},
   "outputs": [],
   "source": []
  }
 ],
 "metadata": {
  "kernelspec": {
   "display_name": "Python 3 (ipykernel)",
   "language": "python",
   "name": "python3"
  },
  "language_info": {
   "codemirror_mode": {
    "name": "ipython",
    "version": 3
   },
   "file_extension": ".py",
   "mimetype": "text/x-python",
   "name": "python",
   "nbconvert_exporter": "python",
   "pygments_lexer": "ipython3",
   "version": "3.11.8"
  }
 },
 "nbformat": 4,
 "nbformat_minor": 5
}
