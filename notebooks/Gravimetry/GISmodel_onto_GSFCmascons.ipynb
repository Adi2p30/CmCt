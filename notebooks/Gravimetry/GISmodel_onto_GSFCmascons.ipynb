{
 "cells": [
  {
   "cell_type": "markdown",
   "metadata": {},
   "source": [
    "# Cryosphere model Comparison tool (CmCt) --- Gravimetry"
   ]
  },
  {
   "cell_type": "markdown",
   "metadata": {},
   "source": [
    "The CmCt GRACE mascon tool compares user uploaded ice sheet model to satellite gravimetry in the form of mascon data, derived from the GRACE and GRACE-FO satellite missions. The CmCt reprojects modeled ice sheet mass change into mascon space and performs a direct quantitative comparison, calculating model-observation discrepancies, therefore bringing the ice sheet model and gravimetry data to the same spatial resolution for comparison. "
   ]
  },
  {
   "cell_type": "markdown",
   "metadata": {},
   "source": [
    "## Mascon dataset description"
   ]
  },
  {
   "cell_type": "markdown",
   "metadata": {},
   "source": [
    "For comparison to the user's model, the tool currently uses the `GSFC.glb.200204_202312_RL06v2.0_OBP-ICE6GD` GRACE mascon product from 2003 to 2023 that can be requested at the NASA GSFC dataset [main distribution site](https://earth.gsfc.nasa.gov/geo/data/grace-mascons/). Future developments will include adding the functionality to automatically check the product distribution website for an updated dataset."
   ]
  },
  {
   "cell_type": "markdown",
   "metadata": {},
   "source": [
    "## Input data requirements"
   ]
  },
  {
   "cell_type": "markdown",
   "metadata": {},
   "source": [
    "The input ice sheet model needs to be provided as a netCDF file. The user may upload a single input file that includes multiple years; future enhancements to this tool will allow users to upload model ensembles.\n",
    "\n",
    "There are several requirements for the comparison:\n",
    "\n",
    "### `Lithk` variable\n",
    "\n",
    "The CmCt Grace Mascon tool expects the uploaded model to contain thickness data (the `lithk` variable) for the comparison.\n",
    "\n",
    "### Rectangular grid\n",
    "\n",
    "At time of writing, models *must* be defined on a rectangular X-Y grid in the ISMIP6 standard projected polar-stereographic space. (Note, NOT a lat-lon grid!) The ISMIP6 standard projection is defined [here](https://theghub.org/groups/ismip6/wiki). \n",
    "\n",
    "### Date range\n",
    "\n",
    "The gravimetry data spans 2013 to 2023. The user can select start and end dates within this span as part of the setup for the tool."
   ]
  },
  {
   "cell_type": "markdown",
   "metadata": {},
   "source": [
    "## Using this tool"
   ]
  },
  {
   "cell_type": "markdown",
   "metadata": {},
   "source": [
    "This tool can be run in Jupyter [Appmode](https://github.com/oschuett/appmode) on systems that support this feature (e.g., Ghub). The user interface buttons enable upload, plotting, and download.\n",
    "1. Upload model data for comparison using the `Upload File` button.\n",
    "1. Select the desired start and end times for comparison.\n",
    "1. Run comparison and generate output plot using the `Plot Data` button.\n"
   ]
  },
  {
   "cell_type": "markdown",
   "metadata": {},
   "source": [
    "## Tool output"
   ]
  },
  {
   "cell_type": "markdown",
   "metadata": {},
   "source": [
    "from gravimetry_utils import *This tool creates a plot that GRACE mascon plot and the model mascon plot so the user can  qualitatively compare the model output with the observational data. "
   ]
  },
  {
   "cell_type": "markdown",
   "metadata": {},
   "source": [
    "---"
   ]
  },
  {
   "cell_type": "code",
   "execution_count": 1,
   "metadata": {},
   "outputs": [
    {
     "data": {
      "application/javascript": [
       "\n",
       "requirejs.undef('filepicker');\n",
       "\n",
       "define('filepicker', [\"@jupyter-widgets/base\"], function(widgets) {\n",
       "\n",
       "    var FilePickerView = widgets.DOMWidgetView.extend({\n",
       "        render: function(){\n",
       "            this.file = document.createElement('input');\n",
       "            this.file.setAttribute('class', 'fileinput');\n",
       "            this.file.setAttribute('id', this.cid);\n",
       "            this.file.multiple = this.model.get('multiple');\n",
       "            this.file.required = true;\n",
       "            this.file.setAttribute('type', 'file');\n",
       "            this.file.setAttribute('style', 'display:none');\n",
       "\n",
       "            this.label = document.createElement('label');\n",
       "            this.label.setAttribute('for', this.cid);\n",
       "            this.label.setAttribute('style', 'border: 1px solid; border-radius: 5px; display: inline-block; padding: 6px 12px');\n",
       "\n",
       "            this.icon = document.createElement('i');\n",
       "            this.icon.setAttribute(\"class\", \"fa fa-upload\");\n",
       "\n",
       "            if (this.file.multiple) {\n",
       "                this.labelstr = \"  Upload Files\";\n",
       "            } else {\n",
       "                this.labelstr = \"  Upload File\";\n",
       "            }\n",
       "            this.label.innerHTML = this.labelstr;\n",
       "            this.label.prepend(this.icon);\n",
       "            this.el.appendChild(this.label);\n",
       "            this.el.appendChild(this.file);\n",
       "            this.listenTo(this.model, 'change:send', this._send_changed, this);\n",
       "            this.listenTo(this.model, 'change:reset', this._reset, this);\n",
       "            this.update();\n",
       "        },\n",
       "\n",
       "        events: {\n",
       "            // List of events and their handlers.\n",
       "            'change': 'handle_file_change'\n",
       "        },\n",
       "\n",
       "        _reset: function() {\n",
       "            this.label.innerHTML = this.labelstr;\n",
       "            this.label.prepend(this.icon);\n",
       "            this.file.removeAttribute(\"disabled\");\n",
       "        },\n",
       "\n",
       "        _send_changed: function() {\n",
       "            var that = this;\n",
       "            var send = this.model.get('send');\n",
       "            var fnum = send[0];\n",
       "            var offset = send[1];\n",
       "            var chunk_size=64*1024;\n",
       "            var reader;\n",
       "\n",
       "            if (fnum == -1) {\n",
       "                // ignore\n",
       "                return\n",
       "            }\n",
       "\n",
       "            if (offset == 0) {\n",
       "                this.model.set('sent', -1);\n",
       "                this.touch();\n",
       "            }\n",
       "\n",
       "            // console.log('send: ' + fnum + ' ' + offset);\n",
       "            function tob64( buffer ) {\n",
       "                var binary = '';\n",
       "                var bytes = new Uint8Array( buffer );\n",
       "                var len = bytes.byteLength;\n",
       "                for (var i = 0; i < len; i++) {\n",
       "                    binary += String.fromCharCode( bytes[ i ] );\n",
       "                }\n",
       "                return window.btoa( binary );\n",
       "            }\n",
       "\n",
       "            var reader_done = function (event) {\n",
       "                // chunk is finished.  Send to python\n",
       "                if (event.target.error == null) {\n",
       "                    var b64 = tob64(event.target.result);\n",
       "                    that.model.set('data', b64);\n",
       "                    that.model.set('sent', offset);\n",
       "                    that.touch();\n",
       "                } else {\n",
       "                    console.log(\"Read error: \" + event.target.error);\n",
       "                    that.model.set('data', '');\n",
       "                    that.model.set('sent', -2);\n",
       "                    that.touch();\n",
       "                }\n",
       "                that.touch();\n",
       "            }\n",
       "        \n",
       "            var chunk_reader = function (_offset, _f) {\n",
       "                // console.log('CR' + ' ' + _f + ' ' + _offset);\n",
       "                reader = new FileReader();\n",
       "                var chunk = _f.slice(_offset, chunk_size + _offset);            \n",
       "                reader.readAsArrayBuffer(chunk);\n",
       "                reader.onload = reader_done;\n",
       "            }\n",
       "    \n",
       "            // OK. request next chunk\n",
       "            chunk_reader(offset, this.files[fnum]);\n",
       "        },\n",
       "        \n",
       "        \n",
       "        handle_file_change: function(evt) {\n",
       "\n",
       "            var _files = evt.target.files;\n",
       "            var filenames = [];\n",
       "            var file_readers = [];\n",
       "            this.files = [];\n",
       "\n",
       "            for (var i = 0; i < _files.length; i++) {\n",
       "                var file = _files[i];\n",
       "                console.log(\"Filename: \" + file.name);\n",
       "                console.log(\"Type: \" + file.type);\n",
       "                console.log(\"Size: \" + file.size + \" bytes\");\n",
       "                this.files.push(file);\n",
       "                filenames.push([file.name, file.size]);\n",
       "            };\n",
       "            \n",
       "            // Set the filenames of the files.\n",
       "            this.model.set('filenames', filenames);\n",
       "            this.touch();\n",
       "\n",
       "            // update the label\n",
       "            if (filenames.length == 0) {\n",
       "                this.label.innerHTML = this.labelstr;\n",
       "                this.file.removeAttribute(\"disabled\");\n",
       "            } else if (filenames.length == 1) {\n",
       "                this.label.innerHTML = \"  \" + filenames[0][0];\n",
       "                this.file.setAttribute('disabled', 'true');\n",
       "            } else {\n",
       "                this.label.innerHTML = \"  \" + filenames.length + \" files selected\";\n",
       "                this.file.setAttribute('disabled', 'true');           \n",
       "            };\n",
       "            this.label.prepend(this.icon);\n",
       "        },\n",
       "    });\n",
       "\n",
       "    // Register the FilePickerView with the widget manager.\n",
       "    return {\n",
       "        FilePickerView: FilePickerView\n",
       "    };\n",
       "});\n"
      ],
      "text/plain": [
       "<IPython.core.display.Javascript object>"
      ]
     },
     "metadata": {},
     "output_type": "display_data"
    }
   ],
   "source": [
    "## Import modules\n",
    "import os,sys\n",
    "import glob as glob\n",
    "import numpy as np\n",
    "import h5py\n",
    "import xarray as xr\n",
    "import glob as glob\n",
    "\n",
    "# # Add the directory containing 'mascons.py' to the Python path\n",
    "# sys.path.append(os.path.abspath('/home/jovyan/CmCt/bin/Gravimetry'))\n",
    "# import mascons\n",
    "\n",
    "# Add the directory containing 'mascons.py' to the Python path\n",
    "# Get the current working directory\n",
    "current_directory = os.getcwd()\n",
    "# Navigate two levels up to reach main dir\n",
    "parent_directory = os.path.abspath(os.path.join(current_directory, os.pardir, os.pardir))\n",
    "# Insert the specific directory into the system path\n",
    "sys.path.insert(0, os.path.join(parent_directory, 'bin', 'Gravimetry'))\n",
    "# Now import mascons\n",
    "import mascons\n",
    "\n",
    "from gravimetry_utils import *\n",
    "\n",
    "# As of July 2024 tested with the Jupyter on Deb10 tool and the Python 3 Kernel.\n",
    "# This notebook is also opened outside of the Ghub environment where the geospatial-plus python3 Kernel is not available, so,\n",
    "# need to use the Python 3 Kernel.\n",
    "# hublib.use and %use geospatial-2021-09 will not work outside of the Ghub environment, so,\n",
    "# need to explicitly add the geospatial-plus python3 Kernel's environment's site-packages to PYTHONPATH.\n",
    "site_packages = '/apps/share64/debian10/anaconda/anaconda-6/envs/geospatial-2021-09/lib/python3.7/site-packages'\n",
    "if os.path.exists(site_packages):\n",
    "    sys.path.append(site_packages)\n",
    "else:\n",
    "    print ('The %s directory does not exist. Please contact us.' %site_packages)\n",
    "\n",
    "\n",
    "import cartopy\n",
    "import cartopy.crs as ccrs\n",
    "import cartopy.io.shapereader as shpreader\n",
    "\n",
    "import matplotlib.pyplot as plt\n",
    "from matplotlib import rc\n",
    "rc('mathtext', default='regular')\n",
    "\n",
    "sys.path.insert(0, os.path.abspath('..'))\n",
    "\n",
    "import ipywidgets as widgets\n",
    "from IPython.display import display,clear_output,HTML\n",
    "import PIL.Image # Python Image Library\n",
    "from ipywidgets import DatePicker, Layout, VBox, Button, Output\n",
    "\n",
    "import importlib.util  \n",
    "sys.path.insert(0, os.path.abspath('..'))\n",
    "# Check if the 'hublib.ui' module is available\n",
    "if importlib.util.find_spec(\"hublib\") is not None:\n",
    "    from hublib.ui import FileUpload, Download\n",
    "    system_flag = 'ghub'\n",
    "else:\n",
    "    system_flag = 'local'\n",
    "\n",
    "# note: suppress numpy.dtype size changed warnings\n",
    "import warnings\n",
    "warnings.filterwarnings(\"ignore\", message=\"numpy.dtype size changed\")\n",
    "\n",
    "warnings.filterwarnings('ignore')"
   ]
  },
  {
   "cell_type": "markdown",
   "metadata": {},
   "source": [
    "## Set polar sterographic projection definition\n",
    "Currently, the CmCt expects the model data to be provided in a specific polar stereographic projection. This is hardcoded in the notebook. As a future enhancement, the projection can be obtained from the loaded model."
   ]
  },
  {
   "cell_type": "code",
   "execution_count": 2,
   "metadata": {
    "code_folding": [
     0
    ]
   },
   "outputs": [],
   "source": [
    "# Method : Set model projection from standard definition\n",
    "polar_stereographic = ccrs.Stereographic(\n",
    "    central_latitude=90.0,\n",
    "    central_longitude=-45.0,\n",
    "    false_easting=0.0,\n",
    "    false_northing=0.0,\n",
    "    true_scale_latitude=70.0,\n",
    "    globe=ccrs.Globe('WGS84')\n",
    ")"
   ]
  },
  {
   "cell_type": "markdown",
   "metadata": {},
   "source": [
    "### Set Time Range for Comparison and Load GRACE and Model Data for Cryocloud"
   ]
  },
  {
   "cell_type": "code",
   "execution_count": 3,
   "metadata": {},
   "outputs": [],
   "source": [
    "# For Cryocloud \n",
    "if system_flag == 'local':\n",
    "    # start and end dates for model/observation comparison\n",
    "    start_date = '2004-01-01' # 'YYYY-MM-DD'\n",
    "    end_date = '2014-01-01' # 'YYYY-MM-DD'\n",
    "    \n",
    "    #Model data path\n",
    "    nc_file_name='/home/jovyan/CmCt/notebooks/Gravimetry/lithk_GIS_JPL_ISSM_asmb.nc'\n",
    "    #Mascons data path\n",
    "    Mascon_data_path_dir=os.path.expanduser('/home/jovyan/CmCt/notebooks/Gravimetry/')"
   ]
  },
  {
   "cell_type": "markdown",
   "metadata": {},
   "source": [
    "### Shapefile path and output plot file name"
   ]
  },
  {
   "cell_type": "code",
   "execution_count": 4,
   "metadata": {},
   "outputs": [],
   "source": [
    "# filename for output plot\n",
    "plot_filename = 'Mascon_comp.png'\n",
    "\n",
    "#Shapefile dir\n",
    "shapefile=os.path.join(parent_directory, 'data/ne_10m_coastline/ne_10m_coastline.shp')"
   ]
  },
  {
   "cell_type": "markdown",
   "metadata": {},
   "source": [
    "## Upload Ice Sheet Model"
   ]
  },
  {
   "cell_type": "code",
   "execution_count": 5,
   "metadata": {},
   "outputs": [
    {
     "name": "stdout",
     "output_type": "stream",
     "text": [
      "Plotting Data [--------------------] 0.0%\n",
      "Error: Failed to load GSFC mascons.\n"
     ]
    },
    {
     "ename": "UnboundLocalError",
     "evalue": "local variable 'gsfc' referenced before assignment",
     "output_type": "error",
     "traceback": [
      "\u001b[0;31m---------------------------------------------------------------------------\u001b[0m",
      "\u001b[0;31mUnboundLocalError\u001b[0m                         Traceback (most recent call last)",
      "\u001b[0;32m/tmp/ipykernel_2496/2883639092.py\u001b[0m in \u001b[0;36m<module>\u001b[0;34m\u001b[0m\n\u001b[1;32m    111\u001b[0m     \u001b[0;31m# Process\u001b[0m\u001b[0;34m\u001b[0m\u001b[0;34m\u001b[0m\u001b[0;34m\u001b[0m\u001b[0m\n\u001b[1;32m    112\u001b[0m     \u001b[0mfile_name\u001b[0m\u001b[0;34m=\u001b[0m\u001b[0mnc_file_name\u001b[0m\u001b[0;34m\u001b[0m\u001b[0;34m\u001b[0m\u001b[0m\n\u001b[0;32m--> 113\u001b[0;31m     \u001b[0mrunProcessing\u001b[0m\u001b[0;34m(\u001b[0m\u001b[0mMascon_data_path_dir\u001b[0m\u001b[0;34m,\u001b[0m\u001b[0mshapefile\u001b[0m\u001b[0;34m,\u001b[0m\u001b[0mfile_name\u001b[0m\u001b[0;34m,\u001b[0m\u001b[0msystem_flag\u001b[0m\u001b[0;34m)\u001b[0m\u001b[0;34m\u001b[0m\u001b[0;34m\u001b[0m\u001b[0m\n\u001b[0m",
      "\u001b[0;32m~/apps/CmCt/bin/Gravimetry/gravimetry_utils.py\u001b[0m in \u001b[0;36mrunProcessing\u001b[0;34m(Mascon_data_path, shapefile, file, system_flag)\u001b[0m\n\u001b[1;32m    265\u001b[0m \u001b[0;34m\u001b[0m\u001b[0m\n\u001b[1;32m    266\u001b[0m     \u001b[0;31m# load mascons\u001b[0m\u001b[0;34m\u001b[0m\u001b[0;34m\u001b[0m\u001b[0;34m\u001b[0m\u001b[0m\n\u001b[0;32m--> 267\u001b[0;31m     \u001b[0mgsfc\u001b[0m \u001b[0;34m=\u001b[0m \u001b[0mloadGsfcMascons\u001b[0m\u001b[0;34m(\u001b[0m\u001b[0mMascon_data_path\u001b[0m\u001b[0;34m)\u001b[0m\u001b[0;34m\u001b[0m\u001b[0;34m\u001b[0m\u001b[0m\n\u001b[0m\u001b[1;32m    268\u001b[0m     \u001b[0;32mif\u001b[0m \u001b[0mgsfc\u001b[0m \u001b[0;32mis\u001b[0m \u001b[0;32mnot\u001b[0m \u001b[0;32mNone\u001b[0m\u001b[0;34m:\u001b[0m\u001b[0;34m\u001b[0m\u001b[0;34m\u001b[0m\u001b[0m\n\u001b[1;32m    269\u001b[0m         \u001b[0mupdate_progress\u001b[0m\u001b[0;34m(\u001b[0m\u001b[0;36m0.10\u001b[0m\u001b[0;34m)\u001b[0m\u001b[0;34m\u001b[0m\u001b[0;34m\u001b[0m\u001b[0m\n",
      "\u001b[0;32m~/apps/CmCt/bin/Gravimetry/gravimetry_utils.py\u001b[0m in \u001b[0;36mloadGsfcMascons\u001b[0;34m(Mascon_data_path)\u001b[0m\n\u001b[1;32m     10\u001b[0m     \u001b[0;32mexcept\u001b[0m\u001b[0;34m:\u001b[0m\u001b[0;34m\u001b[0m\u001b[0;34m\u001b[0m\u001b[0m\n\u001b[1;32m     11\u001b[0m         \u001b[0mprint\u001b[0m\u001b[0;34m(\u001b[0m\u001b[0;34m'Error: Failed to load GSFC mascons.'\u001b[0m\u001b[0;34m)\u001b[0m\u001b[0;34m\u001b[0m\u001b[0;34m\u001b[0m\u001b[0m\n\u001b[0;32m---> 12\u001b[0;31m     \u001b[0;32mreturn\u001b[0m \u001b[0mgsfc\u001b[0m\u001b[0;34m\u001b[0m\u001b[0;34m\u001b[0m\u001b[0m\n\u001b[0m\u001b[1;32m     13\u001b[0m \u001b[0;34m\u001b[0m\u001b[0m\n\u001b[1;32m     14\u001b[0m \u001b[0;34m\u001b[0m\u001b[0m\n",
      "\u001b[0;31mUnboundLocalError\u001b[0m: local variable 'gsfc' referenced before assignment"
     ]
    }
   ],
   "source": [
    "# Run in Ghub\n",
    "if system_flag == 'ghub':\n",
    "#  User interface elements\n",
    "    \n",
    "    #Load Mascons data dir\n",
    "    Mascon_data_path=os.path.expanduser('/data/groups/ghub/tools/cmct/')\n",
    "\n",
    "## USER INTERFACE\n",
    "    \n",
    "    #Set Time Range for Comparison(start and end dates for model/observation comparison)    \n",
    "    # Create date pickers for start and end dates\n",
    "    start_date_picker = DatePicker(description='Start Date', disabled=False, layout=Layout(width='350px'))\n",
    "    end_date_picker = DatePicker(description='End Date', disabled=False, layout=Layout(width='350px'))\n",
    "    \n",
    "    # Create a button to confirm the selected dates\n",
    "    confirm_button = Button(description='Confirm Dates', button_style='success', layout=Layout(width='350px'))\n",
    "    output_widget = Output()\n",
    "    \n",
    "    # Define the callback function for the confirm button\n",
    "    def confirm_dates(b):\n",
    "        global start_date, end_date\n",
    "        with output_widget:\n",
    "            output_widget.clear_output()\n",
    "            start_date = start_date_picker.value.strftime('%Y-%m-%d')\n",
    "            end_date = end_date_picker.value.strftime('%Y-%m-%d')\n",
    "            print(f'Start Date: {start_date}')\n",
    "            print(f'End Date: {end_date}')\n",
    "     \n",
    "    # Bind the confirm button to the callback function\n",
    "    confirm_button.on_click(confirm_dates)\n",
    "    \n",
    "    # Display the date pickers and the confirm button\n",
    "    display(VBox([start_date_picker, end_date_picker, confirm_button, output_widget]))    \n",
    "\n",
    "    # Called when all files finish uploading\n",
    "    def done_cb(w, name):\n",
    "        output_widget.clear_output()\n",
    "        with output_widget:\n",
    "            print(\"%s uploaded\" % name[0])\n",
    "        global file_name\n",
    "        file_name = name[0]\n",
    "        uploaded_data.layout.visibility = 'visible'\n",
    "        uploaded_data.disabled = False\n",
    "        # reset clears and re-enables the widget for more uploads\n",
    "        w.reset()\n",
    "    \n",
    "    # Called on click of Plot Data button:\n",
    "    # run the processing then plot the uploaded data\n",
    "    def uploaded_cb(b):\n",
    "        uploaded_data.disabled = True\n",
    "        f.visible = False    \n",
    "        status = runProcessing(Mascon_data_path,shapefile,file_name,system_flag)    \n",
    "        #if status != 'Failed':\n",
    "        if status is  None:\n",
    "            uploaded_data.disabled = True\n",
    "        f.visible = True\n",
    "    \n",
    "    #CMCT File Upload\n",
    "    # Plot button for uploaded data\n",
    "    uploaded_data = widgets.Button(\n",
    "    description = 'Plot Data',\n",
    "    button_style = 'info',\n",
    "    layout = widgets.Layout(visibility = 'hidden'))\n",
    "    # tie the event handler to the button:\n",
    "    uploaded_data.on_click(uploaded_cb)\n",
    "    \n",
    "    output_widget = widgets.Output()\n",
    "    \n",
    "    # Upload button for input data\n",
    "    global upload_directory\n",
    "    upload_directory = 'data'\n",
    "    f = FileUpload('',\n",
    "     'Please Upload Your File',\n",
    "    dir=upload_directory,\n",
    "    cb=done_cb,\n",
    "    maxsize='150M',\n",
    "    width = '350px')\n",
    "\n",
    "    # display plots\n",
    "    display(output_widget)\n",
    "       \n",
    "    # Display file upload widget\n",
    "    display(f)\n",
    "    \n",
    "    # Display plotting button for uploaded data\n",
    "    display(uploaded_data)\n",
    "\n",
    "# Run in Cryocloud\n",
    "else:\n",
    "    \n",
    "    # Process\n",
    "    file_name=nc_file_name\n",
    "    runProcessing(Mascon_data_path_dir,shapefile,file_name,system_flag)"
   ]
  },
  {
   "cell_type": "code",
   "execution_count": null,
   "metadata": {},
   "outputs": [],
   "source": []
  }
 ],
 "metadata": {
  "hide_input": false,
  "kernelspec": {
   "display_name": "Python 3 (ipykernel)",
   "language": "python",
   "name": "python3"
  },
  "language_info": {
   "codemirror_mode": {
    "name": "ipython",
    "version": 3
   },
   "file_extension": ".py",
   "mimetype": "text/x-python",
   "name": "python",
   "nbconvert_exporter": "python",
   "pygments_lexer": "ipython3",
   "version": "3.8.15"
  }
 },
 "nbformat": 4,
 "nbformat_minor": 4
}
