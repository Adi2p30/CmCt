{
 "cells": [
  {
   "cell_type": "markdown",
   "metadata": {},
   "source": [
    "# Cryosphere model Comparison tool (CmCt) --- Gravimetry"
   ]
  },
  {
   "cell_type": "markdown",
   "metadata": {},
   "source": [
    "The CmCt GRACE mascon tool compares user uploaded ice sheet model to satellite gravimetry in the form of mascon data, derived from the GRACE and GRACE-FO satellite missions. The CmCt reprojects modeled ice sheet mass change into mascon space and performs a direct quantitative comparison, calculating model-observation discrepancies, therefore bringing the ice sheet model and gravimetry data to the same spatial resolution for comparison. "
   ]
  },
  {
   "cell_type": "markdown",
   "metadata": {},
   "source": [
    "## Mascon dataset description"
   ]
  },
  {
   "cell_type": "markdown",
   "metadata": {},
   "source": [
    "For comparison to the user's model, the tool currently uses the `GSFC.glb.200204_202312_RL06v2.0_OBP-ICE6GD` GRACE mascon product from 04/2002 to 12/2023 that can be requested at the NASA GSFC dataset [main distribution site](https://earth.gsfc.nasa.gov/geo/data/grace-mascons/). Future developments will include adding the functionality to automatically check the product distribution website for an updated dataset."
   ]
  },
  {
   "cell_type": "markdown",
   "metadata": {},
   "source": [
    "## Input data requirements"
   ]
  },
  {
   "cell_type": "markdown",
   "metadata": {},
   "source": [
    "The input ice sheet model needs to be provided as a netCDF file. The user may upload a single input file that includes multiple years; future enhancements to this tool will allow users to upload model ensembles.\n",
    "\n",
    "There are several requirements for the comparison:\n",
    "\n",
    "### `Lithk` variable\n",
    "\n",
    "The CmCt Grace Mascon tool expects the uploaded model to contain thickness data (the `lithk` variable) for the comparison.\n",
    "\n",
    "### Rectangular grid\n",
    "\n",
    "At time of writing, models *must* be defined on a rectangular X-Y grid in the ISMIP6 standard projected polar-stereographic space. (Note, NOT a lat-lon grid!) The ISMIP6 standard projection is defined [here](https://theghub.org/groups/ismip6/wiki). \n",
    "\n",
    "### Date range\n",
    "\n",
    "The gravimetry data spans 04/2002 to 12/2023. The user can select start and end dates within this span as part of the setup for the tool."
   ]
  },
  {
   "cell_type": "markdown",
   "metadata": {},
   "source": [
    "## Tool output"
   ]
  },
  {
   "cell_type": "markdown",
   "metadata": {},
   "source": [
    "from gravimetry_utils import *This tool creates a plot that GRACE mascon plot and the model mascon plot so the user can  qualitatively compare the model output with the observational data. "
   ]
  },
  {
   "cell_type": "code",
   "execution_count": 1,
   "metadata": {},
   "outputs": [],
   "source": [
    "## Import modules\n",
    "import os,sys\n",
    "import glob as glob\n",
    "import numpy as np\n",
    "import h5py\n",
    "import xarray as xr\n",
    "import glob as glob\n",
    "\n",
    "import datetime\n",
    "\n",
    "# Add the directory containing 'mascons.py' to the Python path\n",
    "# Get the current working directory\n",
    "current_directory = os.getcwd()\n",
    "# Navigate two levels up to reach main dir\n",
    "parent_directory = os.path.abspath(os.path.join(current_directory, os.pardir, os.pardir))\n",
    "# Insert the specific directory into the system path\n",
    "sys.path.insert(0, os.path.join(parent_directory, 'bin', 'Gravimetry'))\n",
    "# Now import mascons\n",
    "import mascons\n",
    "from gravimetry_utils import *\n",
    "\n",
    "import cartopy\n",
    "import cartopy.crs as ccrs\n",
    "import cartopy.io.shapereader as shpreader\n",
    "\n",
    "import matplotlib.pyplot as plt\n",
    "from matplotlib import rc\n",
    "rc('mathtext', default='regular')\n",
    "\n",
    "sys.path.insert(0, os.path.abspath('..'))\n",
    "\n",
    "\n",
    "# note: suppress numpy.dtype size changed warnings\n",
    "import warnings\n",
    "warnings.filterwarnings(\"ignore\", message=\"numpy.dtype size changed\")\n",
    "\n",
    "warnings.filterwarnings('ignore')"
   ]
  },
  {
   "cell_type": "markdown",
   "metadata": {},
   "source": [
    "## Select ice sheet"
   ]
  },
  {
   "cell_type": "code",
   "execution_count": 2,
   "metadata": {},
   "outputs": [],
   "source": [
    "# Ice sheet\n",
    "loc='GIS' # 'GIS' or 'AIS'\n",
    "\n",
    "# Set time range for comparison\n",
    "# start and end dates for model/observation comparison\n",
    "start_date = '2005-01-01' # 'YYYY-MM-DD'\n",
    "end_date = '2014-12-31' # 'YYYY-MM-DD'\n",
    "\n",
    "#Mascons data path\n",
    "Mascon_data_path=os.path.expanduser('/home/jovyan/shared-public/CmCt/gravimetry_code/gsfc.glb_.200204_202312_rl06v2.0_obp-ice6gd.h5')\n",
    "\n",
    "#Model path\n",
    "if loc == \"GIS\":\n",
    "    #Model data path Greenland\n",
    "    nc_file_name='/home/jovyan/shared-public/CmCt/models/lithk_GIS_IMAU_IMAUICE1_historical.nc'\n",
    "elif loc == \"AIS\":    \n",
    "    #Model data path Antartica\n",
    "    nc_file_name='/home/jovyan/CmCt/notebooks/Gravimetry/lithk_AIS_AWI_PISM1_hist_std.nc'\n",
    "\n",
    "#Output plot file name\n",
    "plot_filename = os.path.splitext(os.path.basename(nc_file_name))[0] + '_mascon_comp'\n",
    "output_plot_filename='/home/jovyan/CmCt/notebooks/Gravimetry/'+ plot_filename + '.png'\n",
    "output_netcdf_filename='/home/jovyan/CmCt/notebooks/Gravimetry/'+ plot_filename + '.nc'"
   ]
  },
  {
   "cell_type": "markdown",
   "metadata": {},
   "source": [
    "## Set polar sterographic projection definition\n",
    "Currently, the CmCt expects the model data to be provided in a specific polar stereographic projection. This is hardcoded in the notebook. As a future enhancement, the projection can be obtained from the loaded model."
   ]
  },
  {
   "cell_type": "code",
   "execution_count": 3,
   "metadata": {},
   "outputs": [],
   "source": [
    "polar_stereographic=set_projection(loc)"
   ]
  },
  {
   "cell_type": "markdown",
   "metadata": {},
   "source": [
    "## Upload ice sheet model"
   ]
  },
  {
   "cell_type": "code",
   "execution_count": 6,
   "metadata": {},
   "outputs": [],
   "source": [
    "# load user's input model\n",
    "gis_ds = loadGisModel(nc_file_name)\n",
    "\n",
    "# Put model into mascon space\n",
    "try:\n",
    "    mscns_trim, lithk_mascons_cmwe = transformToGeodetic(gsfc, gis_ds, start_date, end_date,polar_stereographic)\n",
    "except Exception as error:\n",
    "    print('Error: model transform to geodetic failed. Terminating calculation.')\n",
    "    print(error)"
   ]
  },
  {
   "cell_type": "code",
   "execution_count": null,
   "metadata": {},
   "outputs": [],
   "source": [
    "# calculate cmwe_diff\n",
    "try:\n",
    "    cmwe_diff=mscns_trim-cmwe_delta\n",
    "except Exception as error:\n",
    "    print('Error: Calculation failed.')\n",
    "    print(error)\n",
    "\n",
    "\n",
    "# Plot results\n",
    "try:\n",
    "    plotFigure(cmwe_delta, mscns_trim, cmwe_diff, gsfc, I_, lithk_mascons_cmwe,start_date, end_date,polar_stereographic,loc,output_plot_filename)\n",
    "except Exception as error:\n",
    "    print('Error: plotting failed.')\n",
    "    print(error)"
   ]
  }
 ],
 "metadata": {
  "hide_input": false,
  "kernelspec": {
   "display_name": "Python 3 (ipykernel)",
   "language": "python",
   "name": "python3"
  },
  "language_info": {
   "codemirror_mode": {
    "name": "ipython",
    "version": 3
   },
   "file_extension": ".py",
   "mimetype": "text/x-python",
   "name": "python",
   "nbconvert_exporter": "python",
   "pygments_lexer": "ipython3",
   "version": "3.11.9"
  }
 },
 "nbformat": 4,
 "nbformat_minor": 4
}
