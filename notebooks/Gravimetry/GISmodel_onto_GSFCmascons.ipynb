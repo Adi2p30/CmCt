{
 "cells": [
  {
   "cell_type": "markdown",
   "metadata": {},
   "source": [
    "# Cryosphere model Comparison tool (CmCt) GRACE Mascon Gravimetry Tool"
   ]
  },
  {
   "cell_type": "markdown",
   "metadata": {},
   "source": [
    "The CmCt GRACE mascon tool compares user uploaded ice sheet model to GRACE mascon data derived from the GRACE satellite.\n",
    "\n",
    "The CmCt processes the model to create the same mascon space as the NASA GSFC GRACE mascon product, therefore bringing the ice sheet model and GRACE data to the same spatial resolution for comparison. After the interpolation to the same mascon space has been achieved, the ice sheet model is averaged over within the mascon space to provide a direct qualitative comparison."
   ]
  },
  {
   "cell_type": "markdown",
   "metadata": {},
   "source": [
    "## Mascon dataset description"
   ]
  },
  {
   "cell_type": "markdown",
   "metadata": {},
   "source": [
    "For comparison to the user's model, the tool currently uses the `GSFC.glb.200301_201607_v02.4-GeruoA` GRACE mascon product from 2003 to 2016 that can be requested at the NASA GSFC dataset [main distribution site](https://disc.gsfc.nasa.gov/). This dataset is available upon request. Future developments will include adding the data from the GRACE-FO (GRACE Follow-On) mission to support the full time range from 2003 to 2021. "
   ]
  },
  {
   "cell_type": "markdown",
   "metadata": {},
   "source": [
    "## Input data requirements"
   ]
  },
  {
   "cell_type": "markdown",
   "metadata": {},
   "source": [
    "The input ice sheet model should be saved as a netCDF file. There are several requirements for the comparison:\n",
    "\n",
    "### `Lithk` variable\n",
    "\n",
    "The CmCt Grace Mascon tool expects the uploaded model to contain thickness data (the `lithk` variable) for the comparison.\n",
    "\n",
    "### Rectangular grid\n",
    "\n",
    "At time of writing, models *must* be defined on a rectangular X-Y grid in the ISMIP6 standard projected polar-stereographic space. (Note, NOT a lat-lon grid!) The ISMIP6 standard projection is defined [here](http://www.climate-cryosphere.org/wiki/index.php?title=ISMIP6_wiki_page). \n",
    "\n",
    "### Date range\n",
    "\n",
    "The date range for the GRACE data spans 2013 to 2016. The start and end dates for the tool comparison are fixed:\n",
    "\n",
    "`start_date = '2004-01-01' # 'YYYY-MM-DD'`\n",
    "\n",
    "`end_date = '2014-01-01' # 'YYYY-MM-DD'`\n",
    "\n",
    "The user may upload a single input file that includes multiple years. A future enhancement will enable users to select the desired start and end date range for the comparison. "
   ]
  },
  {
   "cell_type": "markdown",
   "metadata": {},
   "source": [
    "## Using this tool"
   ]
  },
  {
   "cell_type": "markdown",
   "metadata": {},
   "source": [
    "This tool runs in Jupyter Appmode. The user interface buttons enable upload, plotting, and download.\n",
    "\n",
    "1. Download the example output, if desired, using the Download Example button.\n",
    "1. Upload model data for comparison using the Upload File button.\n",
    "1. Note the Time Range for Comparison is fixed (2004-01-01 to 2014-01-01).\n",
    "1. Plot GRACE Mascon and Ice Sheet Model Comparison using the Plot Data button.\n",
    "1. Download the results using the Download Plot button."
   ]
  },
  {
   "cell_type": "markdown",
   "metadata": {},
   "source": [
    "The tool first processes the NASA GSFC GRACE product and specifies the mascon space. Then averages over the observational data within the specified mascon space. The CmCt takes the uploaded ice sheet model and converts it to the same mascon space as the observational data. Once the data is in the mascon space it averages over the data within the same space, then plots the comparison side by side."
   ]
  },
  {
   "cell_type": "markdown",
   "metadata": {},
   "source": [
    "### Future enhancements\n",
    "\n",
    "+ A drop-down box will be provided for users to select the start and end date range for the comparison. \n",
    " \n",
    "+ Data from the GRACE-FO (GRACE Follow-On) mission will be added, to support the full time range from 2003 to 2021. "
   ]
  },
  {
   "cell_type": "markdown",
   "metadata": {},
   "source": [
    "## Tool Output"
   ]
  },
  {
   "cell_type": "markdown",
   "metadata": {},
   "source": [
    "The CmCt creates the GRACE mascon plot and the model mascon plot so the user can  qualitatively compare the model output with the observational data. The plots can be easily downloaded with the Download Plot tab. "
   ]
  },
  {
   "cell_type": "code",
   "execution_count": null,
   "metadata": {},
   "outputs": [],
   "source": [
    "# Import Modules"
   ]
  },
  {
   "cell_type": "code",
   "execution_count": null,
   "metadata": {
    "code_folding": []
   },
   "outputs": [],
   "source": [
    "# set geospatial python3 kernel to provide needed packages\n",
    "import os,sys\n",
    "import glob as glob\n",
    "import numpy as np\n",
    "import h5py\n",
    "import mascons\n",
    "import xarray as xr\n",
    "import glob as glob\n",
    "\n",
    "import cartopy\n",
    "import cartopy.crs as ccrs\n",
    "import cartopy.io.shapereader as shpreader\n",
    "\n",
    "import matplotlib.pyplot as plt\n",
    "from matplotlib import rc\n",
    "rc('mathtext', default='regular')\n",
    "\n",
    "sys.path.insert(0, os.path.abspath('..'))\n",
    "\n",
    "import ipywidgets as widgets\n",
    "from IPython.display import display,clear_output,HTML\n",
    "import PIL.Image # Python Image Library\n",
    "\n",
    "# note: suppress numpy.dtype size changed warnings\n",
    "import warnings\n",
    "warnings.filterwarnings(\"ignore\", message=\"numpy.dtype size changed\")\n",
    "\n",
    "warnings.filterwarnings('ignore')"
   ]
  },
  {
   "cell_type": "markdown",
   "metadata": {},
   "source": [
    "## Set Polar Sterographic Projection definition:\n",
    "\n",
    "##### Projection can be defined from the loaded model or by setting the definition independent of the model. \n",
    "#Since the CmCt uses a standard projection, it is probably best to use the second method."
   ]
  },
  {
   "cell_type": "code",
   "execution_count": null,
   "metadata": {
    "code_folding": [
     0
    ]
   },
   "outputs": [],
   "source": [
    "# Method : Set model projection from standard definition\n",
    "polar_stereographic = ccrs.Stereographic(\n",
    "    central_latitude=90.0,\n",
    "    central_longitude=-45.0,\n",
    "    false_easting=0.0,\n",
    "    false_northing=0.0,\n",
    "    true_scale_latitude=70.0,\n",
    "    globe=ccrs.Globe('WGS84')\n",
    ")"
   ]
  },
  {
   "cell_type": "markdown",
   "metadata": {},
   "source": [
    "# Set Time Range for Comparison"
   ]
  },
  {
   "cell_type": "code",
   "execution_count": null,
   "metadata": {},
   "outputs": [],
   "source": [
    "# start and end dates for model/observation comparison\n",
    "start_date = '2004-01-01' # 'YYYY-MM-DD'\n",
    "end_date = '2014-01-01' # 'YYYY-MM-DD'"
   ]
  },
  {
   "cell_type": "code",
   "execution_count": null,
   "metadata": {},
   "outputs": [],
   "source": [
    "# filename for output plot\n",
    "plot_filename = 'Mascon_comp.png'"
   ]
  },
  {
   "cell_type": "markdown",
   "metadata": {},
   "source": [
    "## Load GRACE and Model Data:"
   ]
  },
  {
   "cell_type": "code",
   "execution_count": null,
   "metadata": {},
   "outputs": [],
   "source": [
    "#Data dir and model name\n",
    "Datadir =os.path.expanduser('/home/jovyan/CmCt/notebooks/Gravimetry/')\n",
    "model_file = \"lithk_GIS_JPL_ISSM_asmb.nc\""
   ]
  },
  {
   "cell_type": "code",
   "execution_count": null,
   "metadata": {
    "code_folding": [
     0
    ]
   },
   "outputs": [],
   "source": [
    "def loadGsfcMascons():\n",
    "    #Load Mascons data\n",
    "    inpath_1 =os.path.expanduser('/home/jovyan/CmCt/notebooks/Gravimetry/')\n",
    "\n",
    "    # Load GSFC mascons\n",
    "    h5_filename = inpath_1 + 'gsfc.glb_.200204_202312_rl06v2.0_obp-ice6gd.h5'\n",
    "\n",
    "    try:\n",
    "        gsfc = mascons.load_gsfc_solution(h5_filename, lon_wrap='pm180')\n",
    "    except:\n",
    "        print('Error: Failed to load GSFC mascons.')\n",
    "    return gsfc"
   ]
  },
  {
   "cell_type": "code",
   "execution_count": null,
   "metadata": {},
   "outputs": [],
   "source": [
    "# Load user's uploaded model data\n",
    "def loadGisModel(nc_filename):\n",
    "    \n",
    "    # Load GIS model into an Xarray\n",
    "    try:\n",
    "        gis_ds = xr.open_dataset(nc_filename, autoclose=True, engine='netcdf4')\n",
    "    except:\n",
    "        print('Error: Failed to open model data; unexpected format found. Terminating calculation.')\n",
    "\n",
    "        \n",
    "    # check for the lithk variable\n",
    "    try:\n",
    "        lithk = gis_ds['lithk']\n",
    "    except:\n",
    "        print('Error: lithk variable expected but not found in model. Terminating calculation.')\n",
    "\n",
    "        \n",
    "    return gis_ds"
   ]
  },
  {
   "cell_type": "markdown",
   "metadata": {},
   "source": [
    "# GRACE Mascon Mean Computation"
   ]
  },
  {
   "cell_type": "code",
   "execution_count": null,
   "metadata": {
    "code_folding": []
   },
   "outputs": [],
   "source": [
    "# Compute mascon means\n",
    "def computeMasconMeans(gsfc):\n",
    "    \n",
    "    global lat_centers\n",
    "    global lon_centers\n",
    "    global max_lons\n",
    "    global min_lons\n",
    "    global min_lats\n",
    "    global max_lats\n",
    "    global min_mscns\n",
    "    global max_mscns\n",
    "    global diverging_max\n",
    "    global diverging_min\n",
    "    global I_\n",
    "\n",
    "    try:\n",
    "        cmwe_delta = mascons.calc_mascon_delta_cmwe(gsfc, start_date, end_date)\n",
    "    except:\n",
    "        with output_widget:\n",
    "            print('Error: Failed to calculate mascon delta. Terminating calculation.')\n",
    "        return None\n",
    "        \n",
    "    # Select only GIS mascons\n",
    "    I_ = gsfc.locations == 1\n",
    "    cmwe_delta = cmwe_delta[I_]\n",
    "    lat_centers = gsfc.lat_centers[I_]\n",
    "    lon_centers = gsfc.lon_centers[I_]\n",
    "    min_lons = gsfc.min_lons[I_]\n",
    "    max_lons = gsfc.max_lons[I_]\n",
    "    min_lats = gsfc.min_lats[I_]\n",
    "    max_lats = gsfc.max_lats[I_]\n",
    "\n",
    "    min_mscns = np.min(cmwe_delta)\n",
    "    max_mscns = np.max(cmwe_delta)\n",
    "\n",
    "    diverging_max = np.max([np.abs(min_mscns), np.abs(max_mscns)])\n",
    "    diverging_min = -diverging_max\n",
    "\n",
    "    return cmwe_delta"
   ]
  },
  {
   "cell_type": "markdown",
   "metadata": {},
   "source": [
    "## Ice Sheet Model Mascon Mean Computation "
   ]
  },
  {
   "cell_type": "code",
   "execution_count": null,
   "metadata": {},
   "outputs": [],
   "source": [
    "def transformToGeodetic(gsfc, gis_ds):\n",
    "    \n",
    "    # Put model into mascon space:\n",
    "\n",
    "    # To compare with GRACE mascons, we need to compute lat/lon coordinates \n",
    "    # for the grid locations and average them into the GSFC mascon boundaries.\n",
    "\n",
    "    # First, we must transform from the original polar stereographic projection \n",
    "    # into a geodetic lat/lon coordinate system. We plot the result of \n",
    "    # this transformation to verify that the transformation was successful.\n",
    "\n",
    "    # Then, we spatially average the data into mascon space and once more plot our result.\n",
    "\n",
    "    # TODO: evaluate whether this transform has failed and return appropriate error\n",
    "    \n",
    "    # fetch the lithk variable from the model data structure\n",
    "    lithk = gis_ds['lithk']\n",
    "        \n",
    "    # Transform projection to lat/lon\n",
    "    geodetic = ccrs.Geodetic(globe=ccrs.Globe('WGS84'))\n",
    "\n",
    "    yv, xv = np.meshgrid(gis_ds.y.data, gis_ds.x.data)\n",
    "\n",
    "    ll = geodetic.transform_points(src_crs=polar_stereographic, x=xv.flatten(), y=yv.flatten())\n",
    "    lons = ll[:,0]\n",
    "    lats = ll[:,1]\n",
    "\n",
    "    # Calc difference between 2015.0 and 2000.0:\n",
    "    lithk_delta = (lithk[3] - lithk[0]).data.transpose().flatten()\n",
    "\n",
    "    # Plot Model Mascon average over the timeseries\n",
    "\n",
    "    lithk_start = lithk.interp(time=start_date).data.transpose().flatten()\n",
    "    lithk_end = lithk.interp(time=end_date).data.transpose().flatten()\n",
    "\n",
    "    lithk_delta = lithk_end - lithk_start\n",
    "\n",
    "    # Mascon-average lithk from GIS\n",
    "    lithk_delta[np.isnan(lithk_delta)] = 0\n",
    "    lithk_mascons = mascons.points_to_mascons(gsfc, lats, lons, lithk_delta)\n",
    "  \n",
    "\n",
    "    # Ice thickness (m) to cm water equivalent:\n",
    "    rho_ice = 934 # kg/m^3\n",
    "    rho_water = 1000 # kg/m^3\n",
    "    lithk_mascons_cmwe = lithk_mascons * rho_ice / rho_water * 100\n",
    "\n",
    "\n",
    "    # these variables depend only on the mascons here, which are fixed.\n",
    "    mscns_trim = lithk_mascons_cmwe[I_]\n",
    "\n",
    "    \n",
    "    return mscns_trim, lithk_mascons_cmwe"
   ]
  },
  {
   "cell_type": "code",
   "execution_count": null,
   "metadata": {},
   "outputs": [],
   "source": [
    "def plotFigure(cmwe_delta, mscns_trim, gsfc, I_, lithk_mascons_cmwe):\n",
    "\n",
    "    plt.figure(figsize=(24,14)) #, dpi=300)\n",
    "\n",
    "    # Observed\n",
    "    ax1 = plt.subplot(121, projection=polar_stereographic)\n",
    "    ax1.set_extent([-65, -20, 57, 84]) # Map bounds, [west, east, south, north]\n",
    "\n",
    "    sc = ax1.scatter(lon_centers, lat_centers, 1, c=cmwe_delta, zorder=0, transform=ccrs.PlateCarree(),\n",
    "                     cmap=plt.cm.RdBu, vmin=diverging_min, vmax=diverging_max)\n",
    "\n",
    "    normal = plt.Normalize(diverging_min, diverging_max)\n",
    "    cmap = plt.cm.RdBu(normal(cmwe_delta))\n",
    "\n",
    "    N_ints = 10\n",
    "    for i in range(len(mscns_trim)):\n",
    "        x = np.append(np.linspace(min_lons[i], max_lons[i], N_ints), np.linspace(max_lons[i], min_lons[i], N_ints))\n",
    "        y = np.append(min_lats[i]*np.ones(N_ints), max_lats[i]*np.ones(N_ints))\n",
    "        ax1.fill(x, y, facecolor=cmap[i][:], edgecolor='none', zorder=5, transform=ccrs.PlateCarree())\n",
    "\n",
    "    c = plt.colorbar(sc, orientation='horizontal', ax=ax1, pad=0.04) #, fraction=0.046)\n",
    "    c.set_label('cm water eq.', size=14)\n",
    "    c.ax.tick_params(labelsize=12)\n",
    "\n",
    "    ax1.add_geometries(list(shpreader.Reader(os.path.expanduser('/home/jovyan/CmCt/datasets/ne_10m_coastline/ne_10m_coastline.shp')).geometries()), \\\n",
    "       ccrs.PlateCarree(), edgecolor='black', facecolor='none')\n",
    "    # download coastline here: https://www.naturalearthdata.com/downloads/10m-physical-vectors/10m-coastline/\n",
    "\n",
    "    # ax1.coastlines(resolution='10m', zorder=7, linewidth=0.5)\n",
    "    ax1.gridlines(zorder=8, linestyle=':', linewidth=0.5)\n",
    "\n",
    "    ax1.set_title('Observed mass change\\n({0} to {1})'.format(start_date, end_date), size=14)\n",
    "\n",
    "    sc.remove()\n",
    "\n",
    "\n",
    "    # Modeled\n",
    "    ax2 = plt.subplot(122, projection=polar_stereographic)\n",
    "    ax2.set_extent([-65, -20, 57, 84]) # Map bounds, [west, east, south, north]\n",
    "\n",
    "    sc = ax2.scatter(gsfc.lon_centers[I_], gsfc.lat_centers[I_], 1, c=lithk_mascons_cmwe[I_], zorder=0,\n",
    "                     transform=ccrs.PlateCarree(), cmap=plt.cm.RdBu, vmin=diverging_min, vmax=diverging_max)\n",
    "\n",
    "    normal = plt.Normalize(diverging_min, diverging_max)\n",
    "    cmap = plt.cm.RdBu(normal(lithk_mascons_cmwe[I_]))\n",
    "\n",
    "    N_ints = 10\n",
    "    for i in range(len(mscns_trim)):\n",
    "        x = np.append(np.linspace(min_lons[i], max_lons[i], N_ints), np.linspace(max_lons[i], min_lons[i], N_ints))\n",
    "        y = np.append(min_lats[i]*np.ones(N_ints), max_lats[i]*np.ones(N_ints))\n",
    "        ax2.fill(x, y, facecolor=cmap[i][:], edgecolor='none', zorder=5, transform=ccrs.PlateCarree())\n",
    "\n",
    "    c = plt.colorbar(sc, orientation='horizontal', ax=ax2, pad=0.04) #, fraction=0.046)\n",
    "    c.set_label('cm water eq.', size=14)\n",
    "    c.ax.tick_params(labelsize=12)\n",
    "\n",
    "    ax2.add_geometries(list(shpreader.Reader(os.path.expanduser('/home/jovyan/CmCt/datasets/ne_10m_coastline/ne_10m_coastline.shp')).geometries()), \\\n",
    "       ccrs.PlateCarree(), edgecolor='black', facecolor='none')\n",
    "\n",
    "    # ax2.coastlines(resolution='10m', zorder=7, linewidth=0.5)\n",
    "    ax2.gridlines(zorder=8, linestyle=':', linewidth=0.5)\n",
    "\n",
    "    # add model filename to subplot's title\n",
    "    #ax2.set_title('Modeled mass change\\n({0} to {1}\\n{3})'.format(start_date, end_date, file_name[1]), size=14)\n",
    "    model_filename = str.split(file_name, '/')[1]\n",
    "    ax2.set_title('Modeled mass change: {0}\\n({1} to {2})'.format(model_filename, start_date, end_date), size=14)\n",
    "\n",
    "    sc.remove()\n",
    "    \n",
    "    # add some explanatory information\n",
    "    plt.suptitle('Grace Mascon Comparison Plots', fontsize=25)\n",
    "    plt.subplots_adjust(top=0.83)\n",
    "    \n",
    "    #plot_filename = 'Mascon_comp.png'\n",
    "    plt.savefig(plot_filename)\n",
    "    \n",
    "    plt.show()"
   ]
  },
  {
   "cell_type": "code",
   "execution_count": null,
   "metadata": {},
   "outputs": [],
   "source": [
    "# Plot GRACE Mascon and Ice Sheet Model Comparison"
   ]
  },
  {
   "cell_type": "code",
   "execution_count": null,
   "metadata": {},
   "outputs": [],
   "source": [
    "# do the computation:\n",
    "def runProcessing(file = None):\n",
    "\n",
    "    update_progress(0)\n",
    "    \n",
    "    # load mascons \n",
    "    gsfc = loadGsfcMascons()\n",
    "    if gsfc is not None:\n",
    "        update_progress(0.10)\n",
    "    else: \n",
    "        return None\n",
    "    \n",
    "    # load user's input model\n",
    "    gis_ds = loadGisModel(file)\n",
    "    if gis_ds is not None:\n",
    "        update_progress(0.20)\n",
    "    else: \n",
    "        return None\n",
    "    \n",
    "    # compute the mascon means\n",
    "    cmwe_delta = computeMasconMeans(gsfc)\n",
    "    if cmwe_delta is not None:\n",
    "        update_progress(0.30)\n",
    "    else:\n",
    "        return None\n",
    "    \n",
    "    # Put model into mascon space\n",
    "    try:\n",
    "        mscns_trim, lithk_mascons_cmwe = transformToGeodetic(gsfc, gis_ds)\n",
    "    except:\n",
    "        print('Error: model transform to geodetic failed. Terminating calculation.')\n",
    "\n",
    "        \n",
    "    update_progress(0.60) \n",
    "    \n",
    "    \n",
    "    # Plot results\n",
    "    try:\n",
    "        plotFigure(cmwe_delta, mscns_trim, gsfc, I_, lithk_mascons_cmwe)\n",
    "    except:\n",
    "        print('Error: plotting failed.')\n",
    "           \n",
    "        \n",
    "    # todo: put in some checks\n",
    "    return 'Success'"
   ]
  },
  {
   "cell_type": "code",
   "execution_count": null,
   "metadata": {},
   "outputs": [],
   "source": [
    "# update processing progress bar\n",
    "def update_progress(progress):\n",
    "    title = 'Plotting Data'\n",
    "    bar_length = 20\n",
    "    block = int(20.0*progress)\n",
    "    text = title+\" [{0}] {1:.1f}%\".format( \"#\" * block + \"-\" * (bar_length - block), progress * 100)\n",
    "    print(text)    "
   ]
  },
  {
   "cell_type": "code",
   "execution_count": null,
   "metadata": {},
   "outputs": [],
   "source": [
    "# Process\n",
    "file_name=Datadir+model_file\n",
    "runProcessing(file_name)"
   ]
  },
  {
   "cell_type": "code",
   "execution_count": null,
   "metadata": {},
   "outputs": [],
   "source": []
  }
 ],
 "metadata": {
  "hide_input": false,
  "kernelspec": {
   "display_name": "Python 3 (ipykernel)",
   "language": "python",
   "name": "python3"
  },
  "language_info": {
   "codemirror_mode": {
    "name": "ipython",
    "version": 3
   },
   "file_extension": ".py",
   "mimetype": "text/x-python",
   "name": "python",
   "nbconvert_exporter": "python",
   "pygments_lexer": "ipython3",
   "version": "3.11.8"
  }
 },
 "nbformat": 4,
 "nbformat_minor": 4
}
