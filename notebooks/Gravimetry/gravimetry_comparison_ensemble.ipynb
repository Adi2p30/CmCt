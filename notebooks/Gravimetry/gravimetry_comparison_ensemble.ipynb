{
 "cells": [
  {
   "cell_type": "markdown",
   "metadata": {},
   "source": [
    "# Cryosphere model Comparison tool (CmCt) --- Gravimetry"
   ]
  },
  {
   "cell_type": "markdown",
   "metadata": {},
   "source": [
    "The CmCt GRACE mascon tool compares user uploaded ice sheet model to satellite gravimetry in the form of mascon data, derived from the GRACE and GRACE-FO satellite missions. The CmCt reprojects modeled ice sheet mass change into mascon space and performs a direct quantitative comparison, calculating model-observation discrepancies, therefore bringing the ice sheet model and gravimetry data to the same spatial resolution for comparison. "
   ]
  },
  {
   "cell_type": "markdown",
   "metadata": {},
   "source": [
    "## Mascon dataset description"
   ]
  },
  {
   "cell_type": "markdown",
   "metadata": {},
   "source": [
    "For comparison to the user's model, the tool currently uses the `GSFC.glb.200204_202312_RL06v2.0_OBP-ICE6GD` GRACE mascon product from 04/2002 to 12/2023 that can be requested at the NASA GSFC dataset [main distribution site](https://earth.gsfc.nasa.gov/geo/data/grace-mascons/). Future developments will include adding the functionality to automatically check the product distribution website for an updated dataset."
   ]
  },
  {
   "cell_type": "markdown",
   "metadata": {},
   "source": [
    "## Input data requirements"
   ]
  },
  {
   "cell_type": "markdown",
   "metadata": {},
   "source": [
    "The input ice sheet model needs to be provided as a netCDF file. The user may upload a single input file that includes multiple years; future enhancements to this tool will allow users to upload model ensembles.\n",
    "\n",
    "There are several requirements for the comparison:\n",
    "\n",
    "### `Lithk` variable\n",
    "\n",
    "The CmCt Grace Mascon tool expects the uploaded model to contain thickness data (the `lithk` variable) for the comparison.\n",
    "\n",
    "### Rectangular grid\n",
    "\n",
    "At time of writing, models *must* be defined on a rectangular X-Y grid in the ISMIP6 standard projected polar-stereographic space. (Note, NOT a lat-lon grid!) The ISMIP6 standard projection is defined [here](https://theghub.org/groups/ismip6/wiki). \n",
    "\n",
    "### Date range\n",
    "\n",
    "The gravimetry data spans 04/2002 to 12/2023. The user can select start and end dates within this span as part of the setup for the tool."
   ]
  },
  {
   "cell_type": "markdown",
   "metadata": {},
   "source": [
    "## Tool output"
   ]
  },
  {
   "cell_type": "markdown",
   "metadata": {},
   "source": [
    "from gravimetry_utils import *This tool creates a plot that GRACE mascon plot and the model mascon plot so the user can  qualitatively compare the model output with the observational data. "
   ]
  },
  {
   "cell_type": "code",
   "execution_count": 1,
   "metadata": {},
   "outputs": [],
   "source": [
    "## Import modules\n",
    "import os,sys\n",
    "import glob as glob\n",
    "import numpy as np\n",
    "import cftime \n",
    "\n",
    "# Add the directory containing 'cmct' to the Python path\n",
    "# Navigate two levels up to reach main CmCt dir\n",
    "cmct_dir = os.path.abspath(os.path.join(os.getcwd(), os.pardir, os.pardir))\n",
    "# Import utilities for this comparison\n",
    "sys.path.insert(0,cmct_dir)\n",
    "from cmct.time_utils import check_datarange\n",
    "from cmct.mascons import *\n",
    "from cmct.gravimetry import *\n",
    "from cmct.projection import *\n",
    "\n",
    "# note: suppress numpy.dtype size changed warnings\n",
    "import warnings\n",
    "warnings.filterwarnings(\"ignore\", message=\"numpy.dtype size changed\")\n",
    "\n",
    "warnings.filterwarnings('ignore')"
   ]
  },
  {
   "cell_type": "markdown",
   "metadata": {},
   "source": [
    "## Configure gravimetry comparison"
   ]
  },
  {
   "cell_type": "code",
   "execution_count": 2,
   "metadata": {},
   "outputs": [],
   "source": [
    "# Ice sheet\n",
    "loc='AIS' # 'GIS' or 'AIS'\n",
    "\n",
    "# Set time range for comparison\n",
    "start_date = '2006-01-01' \n",
    "end_date = '2014-12-31' \n",
    "\n",
    "# Ice thickness (m) to cm water equivalent:\n",
    "rho_ice = 918 # kg/m^3\n",
    "rho_water = 1000 # kg/m^3\n",
    "\n",
    "#Set the observation data dir path\n",
    "obs_filename='/home/jovyan/CmCt/data/Gravimetry/gsfc.glb_.200204_202312_rl06v2.0_obp-ice6gd.h5'\n",
    "\n",
    "#Set the shape data dir path\n",
    "shape_filename='/home/jovyan/CmCt/data/ne_10m_coastline/ne_10m_coastline.shp'\n",
    "\n",
    "#Set the model data dir path\n",
    "if loc == \"GIS\":\n",
    "    #Greenland\n",
    "    mod_filename_template = '/home/jovyan/shared-public/CmCt/models/ISMIP6/lithk_GIS_*_*_historical.nc'\n",
    "elif loc == \"AIS\":    \n",
    "    #Antartica\n",
    "    mod_filename_template = '/home/jovyan/shared-public/CmCt/models/ISMIP6/lithk_AIS_*_*_hist_std.nc'    \n",
    "\n",
    "\n",
    "#Set the output file path\n",
    "output_netcdf_filepath='/home/jovyan/CmCt/notebooks/Gravimetry/'"
   ]
  },
  {
   "cell_type": "code",
   "execution_count": 3,
   "metadata": {},
   "outputs": [],
   "source": [
    "# Check if observation file exist\n",
    "if not os.path.exists(obs_filename):\n",
    "    raise FileNotFoundError(f\"Observation file not found: {obs_filename}\")"
   ]
  },
  {
   "cell_type": "markdown",
   "metadata": {},
   "source": [
    "## Set polar sterographic projection definition\n",
    "Currently, the CmCt expects the model data to be provided in a specific polar stereographic projection. This is hardcoded in the notebook. As a future enhancement, the projection can be obtained from the loaded model."
   ]
  },
  {
   "cell_type": "code",
   "execution_count": 4,
   "metadata": {},
   "outputs": [],
   "source": [
    "polar_stereographic=set_projection(loc)"
   ]
  },
  {
   "cell_type": "markdown",
   "metadata": {},
   "source": [
    "## Process observation"
   ]
  },
  {
   "cell_type": "code",
   "execution_count": 5,
   "metadata": {},
   "outputs": [],
   "source": [
    "# Load observation data(mascons)\n",
    "gsfc = loadGsfcMascons(obs_filename)\n",
    "\n",
    "# Compute the mascon means and calulate mass change of observation data\n",
    "mass_change_obs,I_ = computeMasconMeans(gsfc, start_date, end_date,loc)"
   ]
  },
  {
   "cell_type": "markdown",
   "metadata": {},
   "source": [
    "## Process ice sheet model"
   ]
  },
  {
   "cell_type": "code",
   "execution_count": 6,
   "metadata": {},
   "outputs": [
    {
     "name": "stdout",
     "output_type": "stream",
     "text": [
      "\n",
      "Processing:/home/jovyan/shared-public/CmCt/models/ISMIP6/lithk_AIS_AWI_PISM1_hist_std.nc\n",
      "The selected dates {start_date_cftime} and {end_date_cftime} are within the range of the model data.\n",
      "Data successfully written to /home/jovyan/CmCt/notebooks/Gravimetry/lithk_AIS_AWI_PISM1_hist_std_mascon_comp.nc\n",
      "\n",
      "Processing:/home/jovyan/shared-public/CmCt/models/ISMIP6/lithk_AIS_IMAU_IMAUICE1_hist_std.nc\n",
      "The selected dates {start_date_cftime} and {end_date_cftime} are within the range of the model data.\n",
      "Data successfully written to /home/jovyan/CmCt/notebooks/Gravimetry/lithk_AIS_IMAU_IMAUICE1_hist_std_mascon_comp.nc\n",
      "\n",
      "Processing:/home/jovyan/shared-public/CmCt/models/ISMIP6/lithk_AIS_UCIJPL_ISSM_hist_std.nc\n",
      "The selected dates {start_date_cftime} and {end_date_cftime} are within the range of the model data.\n",
      "Data successfully written to /home/jovyan/CmCt/notebooks/Gravimetry/lithk_AIS_UCIJPL_ISSM_hist_std_mascon_comp.nc\n"
     ]
    }
   ],
   "source": [
    "# Get the list of all model data files\n",
    "nc_filenames = glob.glob(mod_filename_template)\n",
    "\n",
    "# Loop through each file \n",
    "for nc_filename in nc_filenames:\n",
    "    print(f\"\\nProcessing:{nc_filename}\")\n",
    "\n",
    "    # Load model data\n",
    "    gis_ds = loadGisModel(nc_filename)\n",
    "    time_var = gis_ds['time']\n",
    "    \n",
    "    # Convert start/end comparison times to fractional year\n",
    "    calendar_type = time_var.to_index().calendar\n",
    "    start_date_dt = datetime.datetime.strptime(start_date, '%Y-%m-%d')\n",
    "    end_date_dt = datetime.datetime.strptime(end_date, '%Y-%m-%d')\n",
    "    \n",
    "    # Adjust day to be 30 ( to avoid error if it's the 31st day in a 360_day calendar)\n",
    "    start_date_cftime = cftime.datetime(start_date_dt.year, start_date_dt.month, min(start_date_dt.day, 30), calendar=calendar_type)\n",
    "    end_date_cftime = cftime.datetime(end_date_dt.year, end_date_dt.month, min(end_date_dt.day, 30), calendar=calendar_type)\n",
    "  \n",
    "    # Check the selcted dates are within the range of model data\n",
    "    check_datarange(time_var,start_date_cftime, end_date_cftime)\n",
    "    \n",
    "    \n",
    "    # Put model into mascon space and calulate mass change of model data\n",
    "    try:\n",
    "        mass_change_mod_trim, mass_change_mod = transformToGeodetic(gsfc, gis_ds, start_date, end_date,rho_ice,rho_water,polar_stereographic)\n",
    "    except Exception as error:\n",
    "        print('Error: model transform to geodetic failed. Terminating calculation.')\n",
    "        print(error)\n",
    "    \n",
    "    # Calculate mass change of model and observation data\n",
    "    try:\n",
    "        mass_change_delta=mass_change_mod_trim-mass_change_obs\n",
    "    except Exception as error:\n",
    "        print('Error: Calculation failed.')\n",
    "        print(error)\n",
    "    \n",
    "    # # Write result to nc file\n",
    "    #Set the output file names\n",
    "    output_filename = os.path.splitext(os.path.basename(nc_filename))[0] + '_mascon_comp'\n",
    "    output_netcdf_filename=output_netcdf_filepath+ output_filename + '.nc'\n",
    "    write_to_netcdf(mass_change_obs, mass_change_delta, mass_change_mod_trim,gsfc,I_, start_date, end_date, output_netcdf_filename)\n"
   ]
  },
  {
   "cell_type": "code",
   "execution_count": null,
   "metadata": {},
   "outputs": [],
   "source": []
  }
 ],
 "metadata": {
  "hide_input": false,
  "kernelspec": {
   "display_name": "Python 3 (ipykernel)",
   "language": "python",
   "name": "python3"
  },
  "language_info": {
   "codemirror_mode": {
    "name": "ipython",
    "version": 3
   },
   "file_extension": ".py",
   "mimetype": "text/x-python",
   "name": "python",
   "nbconvert_exporter": "python",
   "pygments_lexer": "ipython3",
   "version": "3.11.9"
  }
 },
 "nbformat": 4,
 "nbformat_minor": 4
}
