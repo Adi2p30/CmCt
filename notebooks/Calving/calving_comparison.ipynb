{
 "cells": [
  {
   "cell_type": "markdown",
   "id": "4e5b46ce",
   "metadata": {},
   "source": [
    "# Cryosphere model Comparison tool (CmCt) --- Calving"
   ]
  },
  {
   "cell_type": "markdown",
   "id": "d16254a6",
   "metadata": {},
   "source": [
    "The CmCt Calving tool compares user uploaded ice sheet model to satellite calving data, derived from the   satellite missions. The CmCt reprojects modeled ice sheet mass change into calving space and performs a direct quantitative comparison, calculating model-observation discrepancies, therefore bringing the ice sheet model and calving data to the same spatial resolution for comparison."
   ]
  },
  {
   "cell_type": "markdown",
   "id": "5bfbf8b4",
   "metadata": {},
   "source": [
    "## Calving dataset description"
   ]
  },
  {
   "cell_type": "markdown",
   "id": "9af5ce74",
   "metadata": {},
   "source": [
    "For comparison to the user's model, the tool uses the NASA GSFC GRACE mascon product, which can be downloaded from [here](https://earth.gsfc.nasa.gov/geo/data/grace-mascons/). Future developments will include adding the functionality to automatically check the product distribution website for an updated dataset."
   ]
  },
  {
   "cell_type": "markdown",
   "id": "6545a82d",
   "metadata": {},
   "source": [
    "## Input data requirements"
   ]
  },
  {
   "cell_type": "markdown",
   "id": "501f7611",
   "metadata": {},
   "source": [
    "The input ice sheet model needs to be provided as a netCDF file. The user may upload a single input file that includes multiple years; future enhancements to this tool will allow users to upload model ensembles.\n",
    "\n",
    "There are several requirements for the comparison:\n",
    "\n",
    "### `Lithk` variable\n",
    "\n",
    "The CmCt Grace Mascon tool expects the uploaded model to contain thickness data (the `lithk` variable) for the comparison.\n",
    "\n",
    "### Rectangular grid\n",
    "\n",
    "At time of writing, models *must* be defined on a rectangular X-Y grid in the ISMIP6 standard projected polar-stereographic space. (Note, NOT a lat-lon grid!) The ISMIP6 standard projection is defined [here](https://theghub.org/groups/ismip6/wiki). \n",
    "\n",
    "### Date range\n",
    "\n",
    "The NASA GSFC GRACE mascon dataset starts on 04/2002 and is updated ~quarterly. The user can select start and end dates within this span as part of the setup for the tool."
   ]
  },
  {
   "cell_type": "code",
   "execution_count": 1,
   "id": "c2ce1b13",
   "metadata": {},
   "outputs": [],
   "source": [
    "## Import modules\n",
    "import os,sys\n",
    "import numpy as np\n",
    "import cftime \n",
    "\n",
    "# Add the directory containing 'cmct' to the Python path\n",
    "# Navigate two levels up to reach main CmCt dir\n",
    "cmct_dir = os.path.abspath(os.path.join(os.getcwd(), os.pardir, os.pardir))\n",
    "\n",
    "# Import utilities for this comparison\n",
    "sys.path.insert(0,cmct_dir)\n",
    "from cmct.time_utils import check_datarange\n",
    "from cmct.calving import *\n",
    "from cmct.gravimetry import *\n",
    "from cmct.projection import *\n"
   ]
  },
  {
   "cell_type": "markdown",
   "id": "73419c80",
   "metadata": {},
   "source": [
    "### Finding the Dataset"
   ]
  },
  {
   "cell_type": "code",
   "execution_count": 2,
   "id": "8aace065",
   "metadata": {},
   "outputs": [],
   "source": [
    "# Ice sheet\n",
    "loc = 'GIS' # 'GIS' or 'AIS'\n",
    "\n",
    "# Set time range for comparison\n",
    "start_date = '2006-01-01' \n",
    "end_date = '2014-12-31' \n",
    "\n",
    "# Set the observation data dir path\n",
    "obs_filename = cmct_dir + '/data/calving/sftgif_GIS_JPL_ISSM_historical.nc'\n",
    "\n",
    "\n",
    "# LEGACY Gravimetry data paths\n",
    "\n",
    "# # Set the model data dir path\n",
    "# if loc == \"GIS\":\n",
    "#     # Greenland\n",
    "#     nc_filename = cmct_dir + '/test/gris_dmdt_filt.nc'\n",
    "# elif loc == \"AIS\":    \n",
    "#     # Antartica\n",
    "#     nc_filename = cmct_dir + '/test/ais_dmdt_grounded_filt.nc'\n",
    "\n",
    "# # Set the output plot file names\n",
    "# plot_filename = os.path.splitext(os.path.basename(nc_filename))[0] + '_calving_comp'\n",
    "# output_plot_filename = cmct_dir + '/notebooks/Calving/'+ plot_filename + '.png'\n",
    "# output_netcdf_filename = cmct_dir + '/notebooks/Calving/'+ plot_filename + '.nc'\n"
   ]
  },
  {
   "cell_type": "code",
   "execution_count": 3,
   "id": "81960632",
   "metadata": {},
   "outputs": [],
   "source": [
    "# Check if observation file exist\n",
    "if not os.path.exists(obs_filename):\n",
    "    raise FileNotFoundError(f\"Observation file not found: {obs_filename}\")\n",
    "\n",
    "# # Check if model file exist\n",
    "# if not os.path.exists(nc_filename):\n",
    "#     raise FileNotFoundError(f\"Model file not found: {nc_filename}\")\n"
   ]
  },
  {
   "cell_type": "markdown",
   "id": "a9c3d00a",
   "metadata": {},
   "source": [
    "## Set polar sterographic projection definition\n",
    "Currently, the CmCt expects the model data to be provided in a specific polar stereographic projection. This is hardcoded in the notebook. As a future enhancement, the projection can be obtained from the loaded model."
   ]
  },
  {
   "cell_type": "code",
   "execution_count": 4,
   "id": "4b251792",
   "metadata": {},
   "outputs": [],
   "source": [
    "polar_stereographic = set_projection(loc)"
   ]
  },
  {
   "cell_type": "markdown",
   "id": "912ecbfd",
   "metadata": {},
   "source": [
    "## Process observation"
   ]
  },
  {
   "cell_type": "code",
   "execution_count": 5,
   "id": "5e5e793c",
   "metadata": {},
   "outputs": [
    {
     "name": "stdout",
     "output_type": "stream",
     "text": [
      "/Users/aditya_pachpande/Documents/GitHub/CmCt/data/calving/sftgif_GIS_JPL_ISSM_historical.nc\n",
      "<class 'cmct.calving.GSFCcalving'>\n",
      "GSFC Calving Data:\n",
      "Latitude: [[58.26977771 58.27849862 58.28716162 ... 57.80706733 57.79569481\n",
      "  57.78426749]\n",
      " [58.31170704 58.32044184 58.32911864 ... 57.84826994 57.83687981\n",
      "  57.8254348 ]\n",
      " [58.35364224 58.36239096 58.3710816  ... 57.88947658 57.87806879\n",
      "  57.86660604]\n",
      " ...\n",
      " [81.48028045 81.51598629 81.55159474 ... 79.75134913 79.71222952\n",
      "  79.67305699]\n",
      " [81.50900734 81.5448362  81.58056838 ... 79.77514171 79.73592955\n",
      "  79.69666504]\n",
      " [81.53758312 81.57353519 81.60939128 ... 79.79878418 79.75947964\n",
      "  79.72012333]]\n",
      "Longitude: [[-56.7881833  -56.70858858 -56.62894799 ... -29.60445075 -29.52729455\n",
      "  -29.45019583]\n",
      " [-56.80481266 -56.72511202 -56.64536532 ... -29.58316827 -29.50591599\n",
      "  -29.42872141]\n",
      " [-56.82148834 -56.7416815  -56.66182843 ... -29.56182831 -29.48447972\n",
      "  -29.40718906]\n",
      " ...\n",
      " [-96.14662566 -95.95142228 -95.75456533 ...  13.59483633  13.72844101\n",
      "   13.86102756]\n",
      " [-96.38874748 -96.19390497 -95.99740057 ...  13.81502534  13.94809618\n",
      "   14.08014827]\n",
      " [-96.63251462 -96.43804951 -96.24191435 ...  14.03624347  14.16877009\n",
      "   14.30027745]]\n"
     ]
    },
    {
     "ename": "TypeError",
     "evalue": "unsupported operand type(s) for *: 'cftime._cftime.DatetimeNoLeap' and 'int'",
     "output_type": "error",
     "traceback": [
      "\u001b[0;31m---------------------------------------------------------------------------\u001b[0m",
      "\u001b[0;31mTypeError\u001b[0m                                 Traceback (most recent call last)",
      "Cell \u001b[0;32mIn[5], line 4\u001b[0m\n\u001b[1;32m      2\u001b[0m gsfc \u001b[38;5;241m=\u001b[39m load_gsfc_calving(obs_filename)\n\u001b[1;32m      3\u001b[0m \u001b[38;5;28mprint\u001b[39m(\u001b[38;5;28mtype\u001b[39m(gsfc))\n\u001b[0;32m----> 4\u001b[0m \u001b[38;5;28mprint\u001b[39m(gsfc\u001b[38;5;241m.\u001b[39mprint_info())  \u001b[38;5;66;03m# Print the gsfc object to see its contents\u001b[39;00m\n\u001b[1;32m      5\u001b[0m \u001b[38;5;28mprint\u001b[39m(\u001b[38;5;28mvars\u001b[39m(gsfc))\n",
      "File \u001b[0;32m~/Documents/GitHub/CmCt/cmct/calving.py:73\u001b[0m, in \u001b[0;36mGSFCcalving.print_info\u001b[0;34m(self)\u001b[0m\n\u001b[1;32m     71\u001b[0m \u001b[38;5;28mprint\u001b[39m(\u001b[38;5;124mf\u001b[39m\u001b[38;5;124m\"\u001b[39m\u001b[38;5;124mLatitude: \u001b[39m\u001b[38;5;132;01m{\u001b[39;00m\u001b[38;5;28mself\u001b[39m\u001b[38;5;241m.\u001b[39mlat\u001b[38;5;241m.\u001b[39mvalues\u001b[38;5;132;01m}\u001b[39;00m\u001b[38;5;124m\"\u001b[39m)\n\u001b[1;32m     72\u001b[0m \u001b[38;5;28mprint\u001b[39m(\u001b[38;5;124mf\u001b[39m\u001b[38;5;124m\"\u001b[39m\u001b[38;5;124mLongitude: \u001b[39m\u001b[38;5;132;01m{\u001b[39;00m\u001b[38;5;28mself\u001b[39m\u001b[38;5;241m.\u001b[39mlon\u001b[38;5;241m.\u001b[39mvalues\u001b[38;5;132;01m}\u001b[39;00m\u001b[38;5;124m\"\u001b[39m)\n\u001b[0;32m---> 73\u001b[0m \u001b[38;5;28mprint\u001b[39m(\u001b[38;5;124mf\u001b[39m\u001b[38;5;124m\"\u001b[39m\u001b[38;5;124mTime: \u001b[39m\u001b[38;5;132;01m{\u001b[39;00m\u001b[38;5;28mself\u001b[39m\u001b[38;5;241m.\u001b[39m_set_times_as_datetimes(\u001b[38;5;28mself\u001b[39m\u001b[38;5;241m.\u001b[39mtime\u001b[38;5;241m.\u001b[39mvalues)\u001b[38;5;132;01m}\u001b[39;00m\u001b[38;5;124m\"\u001b[39m)\n\u001b[1;32m     74\u001b[0m \u001b[38;5;28mprint\u001b[39m(\u001b[38;5;124mf\u001b[39m\u001b[38;5;124m\"\u001b[39m\u001b[38;5;124mSFTGIF: \u001b[39m\u001b[38;5;132;01m{\u001b[39;00m\u001b[38;5;28mself\u001b[39m\u001b[38;5;241m.\u001b[39msftgif\u001b[38;5;241m.\u001b[39mvalues\u001b[38;5;132;01m}\u001b[39;00m\u001b[38;5;124m\"\u001b[39m)\n\u001b[1;32m     75\u001b[0m \u001b[38;5;28mprint\u001b[39m(\u001b[38;5;124mf\u001b[39m\u001b[38;5;124m\"\u001b[39m\u001b[38;5;124mX coordinates: \u001b[39m\u001b[38;5;132;01m{\u001b[39;00m\u001b[38;5;28mself\u001b[39m\u001b[38;5;241m.\u001b[39mx\u001b[38;5;241m.\u001b[39mvalues\u001b[38;5;132;01m}\u001b[39;00m\u001b[38;5;124m\"\u001b[39m)\n",
      "File \u001b[0;32m~/Documents/GitHub/CmCt/cmct/calving.py:66\u001b[0m, in \u001b[0;36mGSFCcalving._set_times_as_datetimes\u001b[0;34m(self, days)\u001b[0m\n\u001b[1;32m     64\u001b[0m \u001b[38;5;28;01mdef\u001b[39;00m \u001b[38;5;21m_set_times_as_datetimes\u001b[39m(\u001b[38;5;28mself\u001b[39m, days):\n\u001b[1;32m     65\u001b[0m     \u001b[38;5;28;01mreturn\u001b[39;00m np\u001b[38;5;241m.\u001b[39mdatetime64(\u001b[38;5;124m\"\u001b[39m\u001b[38;5;124m2002-01-01T00:00:00\u001b[39m\u001b[38;5;124m\"\u001b[39m) \u001b[38;5;241m+\u001b[39m np\u001b[38;5;241m.\u001b[39marray(\n\u001b[0;32m---> 66\u001b[0m         [\u001b[38;5;28mint\u001b[39m(d \u001b[38;5;241m*\u001b[39m \u001b[38;5;241m24\u001b[39m) \u001b[38;5;28;01mfor\u001b[39;00m d \u001b[38;5;129;01min\u001b[39;00m days], dtype\u001b[38;5;241m=\u001b[39m\u001b[38;5;124m\"\u001b[39m\u001b[38;5;124mtimedelta64[h]\u001b[39m\u001b[38;5;124m\"\u001b[39m\n\u001b[1;32m     67\u001b[0m     )\n",
      "\u001b[0;31mTypeError\u001b[0m: unsupported operand type(s) for *: 'cftime._cftime.DatetimeNoLeap' and 'int'"
     ]
    }
   ],
   "source": [
    "print(obs_filename)\n",
    "gsfc = load_gsfc_calving(obs_filename)\n",
    "print(type(gsfc))\n",
    "print(gsfc.print_info())  # Print the gsfc object to see its contents\n",
    "print(vars(gsfc))  # Print the attributes of the gsfc object"
   ]
  },
  {
   "cell_type": "code",
   "execution_count": null,
   "id": "3612a81d",
   "metadata": {},
   "outputs": [],
   "source": []
  }
 ],
 "metadata": {
  "kernelspec": {
   "display_name": "CmCt",
   "language": "python",
   "name": "python3"
  },
  "language_info": {
   "codemirror_mode": {
    "name": "ipython",
    "version": 3
   },
   "file_extension": ".py",
   "mimetype": "text/x-python",
   "name": "python",
   "nbconvert_exporter": "python",
   "pygments_lexer": "ipython3",
   "version": "3.12.7"
  }
 },
 "nbformat": 4,
 "nbformat_minor": 5
}
