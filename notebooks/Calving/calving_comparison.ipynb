{
 "cells": [
  {
   "cell_type": "markdown",
   "id": "4e5b46ce",
   "metadata": {},
   "source": [
    "# Cryosphere model Comparison tool (CmCt) --- Calving"
   ]
  },
  {
   "cell_type": "markdown",
   "id": "d16254a6",
   "metadata": {},
   "source": [
    "The CmCt Calving tool compares user uploaded ice sheet model to satellite calving data, derived from the   satellite missions. The CmCt reprojects modeled ice sheet mass change into calving space and performs a direct quantitative comparison, calculating model-observation discrepancies, therefore bringing the ice sheet model and calving data to the same spatial resolution for comparison."
   ]
  },
  {
   "cell_type": "markdown",
   "id": "5bfbf8b4",
   "metadata": {},
   "source": [
    "## Calving dataset description"
   ]
  },
  {
   "cell_type": "markdown",
   "id": "9af5ce74",
   "metadata": {},
   "source": [
    "For comparison to the user's model, the tool uses the NASA GSFC GRACE mascon product, which can be downloaded from [here](https://earth.gsfc.nasa.gov/geo/data/grace-mascons/). Future developments will include adding the functionality to automatically check the product distribution website for an updated dataset."
   ]
  },
  {
   "cell_type": "markdown",
   "id": "6545a82d",
   "metadata": {},
   "source": [
    "## Input data requirements"
   ]
  },
  {
   "cell_type": "markdown",
   "id": "501f7611",
   "metadata": {},
   "source": [
    "The input ice sheet model needs to be provided as a netCDF file. The user may upload a single input file that includes multiple years; future enhancements to this tool will allow users to upload model ensembles.\n",
    "\n",
    "There are several requirements for the comparison:\n",
    "\n",
    "### `Lithk` variable\n",
    "\n",
    "The CmCt Grace Mascon tool expects the uploaded model to contain thickness data (the `lithk` variable) for the comparison.\n",
    "\n",
    "### Rectangular grid\n",
    "\n",
    "At time of writing, models *must* be defined on a rectangular X-Y grid in the ISMIP6 standard projected polar-stereographic space. (Note, NOT a lat-lon grid!) The ISMIP6 standard projection is defined [here](https://theghub.org/groups/ismip6/wiki). \n",
    "\n",
    "### Date range\n",
    "\n",
    "The NASA GSFC GRACE mascon dataset starts on 04/2002 and is updated ~quarterly. The user can select start and end dates within this span as part of the setup for the tool."
   ]
  },
  {
   "cell_type": "code",
   "execution_count": 1,
   "id": "c2ce1b13",
   "metadata": {},
   "outputs": [
    {
     "name": "stderr",
     "output_type": "stream",
     "text": [
      "2025-06-20 16:51:52,049 - INFO - NumExpr defaulting to 10 threads.\n"
     ]
    }
   ],
   "source": [
    "## Import modules\n",
    "import os,sys\n",
    "import numpy as np\n",
    "import cftime \n",
    "import json \n",
    "import matplotlib.pyplot as plt\n",
    "# Add the directory containing 'cmct' to the Python path\n",
    "# Navigate two levels up to reach main CmCt dir\n",
    "cmct_dir = os.path.abspath(os.path.join(os.getcwd(), os.pardir, os.pardir))\n",
    "\n",
    "# Initialising Logger \n",
    "import logging\n",
    "logging.basicConfig(level=logging.INFO, format='%(asctime)s - %(levelname)s - %(message)s')\n",
    "logger = logging.getLogger(__name__)\n",
    "\n",
    "\n",
    "# Import utilities for this comparison\n",
    "sys.path.insert(0,cmct_dir)\n",
    "from cmct.time_utils import check_datarange\n",
    "from cmct.calving import *\n",
    "from cmct.calving_modules.interpolation import *\n",
    "from cmct.calving_modules.json_to_netcdf import *\n",
    "\n",
    "from cmct.gravimetry import *\n",
    "from cmct.projection import *\n"
   ]
  },
  {
   "cell_type": "markdown",
   "id": "73419c80",
   "metadata": {},
   "source": [
    "### [Configuration] Finding the Dataset"
   ]
  },
  {
   "cell_type": "code",
   "execution_count": 2,
   "id": "8aace065",
   "metadata": {},
   "outputs": [],
   "source": [
    "# Ice sheet\n",
    "loc = 'GIS' # 'GIS' or 'AIS'\n",
    "\n",
    "# Set time range for comparison\n",
    "start_year = 2006\n",
    "end_year = 2006\n",
    "\n",
    "# Set the observation data dir path\n",
    "obs_filename = cmct_dir + '/data/calving/observed_icemask_ismip_annual.nc'\n",
    "\n",
    "\n",
    "# Set the Model Data dir path\n",
    "model_filename = cmct_dir + \"/test/calving/sftgif_GIS_JPL_ISSM_historical.nc\"\n",
    "\n",
    "# Output filetype and filename\n",
    "filetype = 'netcdf' # netcdf or json or None\n",
    "filename = 'calving_comparison'"
   ]
  },
  {
   "cell_type": "code",
   "execution_count": 3,
   "id": "81960632",
   "metadata": {},
   "outputs": [],
   "source": [
    "# Check if observation file exist\n",
    "if not os.path.exists(obs_filename):\n",
    "    raise FileNotFoundError(f\"Observation file not found: {obs_filename}\")\n",
    "\n",
    "# # Check if model file exist\n",
    "if not os.path.exists(model_filename):\n",
    "    raise FileNotFoundError(f\"Model file not found: {model_filename}\")\n"
   ]
  },
  {
   "cell_type": "code",
   "execution_count": null,
   "id": "f951d5e9",
   "metadata": {},
   "outputs": [],
   "source": []
  },
  {
   "cell_type": "markdown",
   "id": "a9c3d00a",
   "metadata": {},
   "source": [
    "## Set polar sterographic projection definition\n",
    "Currently, the CmCt expects the model data to be provided in a specific polar stereographic projection. This is hardcoded in the notebook. As a future enhancement, the projection can be obtained from the loaded model."
   ]
  },
  {
   "cell_type": "code",
   "execution_count": 4,
   "id": "4b251792",
   "metadata": {},
   "outputs": [],
   "source": [
    "polar_stereographic = set_projection(loc)"
   ]
  },
  {
   "cell_type": "markdown",
   "id": "76d8cc86",
   "metadata": {},
   "source": [
    "## Process Observation Data"
   ]
  },
  {
   "cell_type": "code",
   "execution_count": 5,
   "id": "031adc04",
   "metadata": {},
   "outputs": [
    {
     "name": "stdout",
     "output_type": "stream",
     "text": [
      "/Users/aditya_pachpande/Documents/GitHub/CmCt/data/calving/observed_icemask_ismip_annual.nc\n"
     ]
    }
   ],
   "source": [
    "print(obs_filename)\n",
    "gsfc = load_gsfc_calving(obs_filename)\n"
   ]
  },
  {
   "cell_type": "markdown",
   "id": "912ecbfd",
   "metadata": {},
   "source": [
    "## Process Model Data "
   ]
  },
  {
   "cell_type": "code",
   "execution_count": 6,
   "id": "5e5e793c",
   "metadata": {},
   "outputs": [
    {
     "name": "stdout",
     "output_type": "stream",
     "text": [
      "/Users/aditya_pachpande/Documents/GitHub/CmCt/test/calving/sftgif_GIS_JPL_ISSM_historical.nc\n",
      "<class 'cmct.calving.Modelcalving'>\n",
      "{'ds': <xarray.Dataset> Size: 72MB\n",
      "Dimensions:   (y: 577, x: 337, nv4: 4, time: 36)\n",
      "Coordinates:\n",
      "    lon       (y, x) float64 2MB ...\n",
      "    lat       (y, x) float64 2MB ...\n",
      "  * time      (time) object 288B 1980-01-01 00:00:00 ... 2015-01-01 00:00:00\n",
      "  * x         (x) float64 3kB -7.2e+05 -7.15e+05 -7.1e+05 ... 9.55e+05 9.6e+05\n",
      "  * y         (y) float64 5kB -3.45e+06 -3.445e+06 ... -5.75e+05 -5.7e+05\n",
      "Dimensions without coordinates: nv4\n",
      "Data variables:\n",
      "    lon_bnds  (y, x, nv4) float64 6MB ...\n",
      "    lat_bnds  (y, x, nv4) float64 6MB ...\n",
      "    sftgif    (time, y, x) float64 56MB ...\n",
      "Attributes:\n",
      "    Conventions:  CF-1.6\n",
      "    title:        ISMIP6 Projections Greenland model output\n",
      "    institution:  NASA Jet Propulsion Laboratory, Pasadena, USA\n",
      "    source:       ISSM\n",
      "    references:   https://doi.org/10.5194/tc-14-3071-2020\n",
      "    contact:      Name = Helene Seroussi, Nicole Schlegel, Email = helene.ser...\n",
      "    comment:      JPL, ISSM}\n"
     ]
    }
   ],
   "source": [
    "print(model_filename)\n",
    "model_res = load_model_calving(model_filename)\n",
    "print(type(model_res))\n",
    "# print(gsfc.print_info())  # Print the gsfc object to see its contents\n",
    "print(vars(model_res)) \n",
    "  # Print the attributes of the gsfc object"
   ]
  },
  {
   "cell_type": "markdown",
   "id": "f4958676",
   "metadata": {},
   "source": [
    "# Putting them in a general format"
   ]
  },
  {
   "cell_type": "code",
   "execution_count": 7,
   "id": "7860997e",
   "metadata": {},
   "outputs": [
    {
     "name": "stdout",
     "output_type": "stream",
     "text": [
      "<class 'numpy.ndarray'> <class 'numpy.ndarray'> <class 'int'> <class 'int'>\n",
      "The selected dates 2006 and 2006 are within the range of the model data. These are accepted.\n"
     ]
    }
   ],
   "source": [
    "# Simplifying date data type\n",
    "gsfc.ds[\"time\"] = gsfc.time\n",
    "\n",
    "model_res.ds[\"time\"] = [dt.year for dt in model_res.time.values]\n",
    "\n",
    "# Handelling Time Range\n",
    "check_data_daterange(gsfc.time.values, model_res.time.values, start_year, end_year)\n"
   ]
  },
  {
   "cell_type": "markdown",
   "id": "95cd9d31",
   "metadata": {},
   "source": [
    "# Interpolation"
   ]
  },
  {
   "cell_type": "code",
   "execution_count": 8,
   "id": "3bc8c3db",
   "metadata": {},
   "outputs": [
    {
     "name": "stderr",
     "output_type": "stream",
     "text": [
      "2025-06-20 16:51:54,530 - INFO - Input x range: -719500.0 to 959500.0\n",
      "2025-06-20 16:51:54,531 - INFO - Input y range: -3449500.0 to -570500.0\n",
      "2025-06-20 16:51:54,532 - INFO - Target x range: -720000.0 to 960000.0, size: 337\n",
      "2025-06-20 16:51:54,533 - INFO - Target y range: -3450000.0 to -570000.0, size: 577\n",
      "2025-06-20 16:51:54,533 - INFO - Interpolating to target grid...\n",
      "2025-06-20 16:52:02,523 - INFO - Resampling completed successfully.\n"
     ]
    }
   ],
   "source": [
    "resampler = Resampling(gsfc, model_res, 'lanczos3d')\n",
    "resampled_data = resampler.resample()\n",
    "\n",
    "# Update the gsfc object with the resampled data\n",
    "gsfc.ds = resampled_data\n",
    "\n",
    "# Save the resampled data to a new NetCDF file\n",
    "# output_netcdf_filename = cmct_dir + '/notebooks/Calving/resampled_calving_obs_data.nc'\n",
    "# resampled_data.to_netcdf(output_netcdf_filename, mode='w', format='NETCDF4')"
   ]
  },
  {
   "cell_type": "code",
   "execution_count": 9,
   "id": "a41df29e",
   "metadata": {},
   "outputs": [
    {
     "name": "stdout",
     "output_type": "stream",
     "text": [
      "<class 'float'>\n"
     ]
    }
   ],
   "source": [
    "# TESTING ONLY\n",
    "# TESTING ONLY\n",
    "x = gsfc.x.values[0]\n",
    "y = gsfc.y.values[0]\n",
    "year = 2006 \n",
    "gsfc_year = gsfc.ds.sel(year=year)\n",
    "print(type(gsfc_year.ice_mask.sel(x=x, y=y).values.tolist()))"
   ]
  },
  {
   "cell_type": "markdown",
   "id": "fa9f4a5e",
   "metadata": {},
   "source": [
    "# Comparison     "
   ]
  },
  {
   "cell_type": "code",
   "execution_count": 10,
   "id": "30bc0f45",
   "metadata": {},
   "outputs": [
    {
     "name": "stderr",
     "output_type": "stream",
     "text": [
      "2025-06-20 16:52:02,641 - INFO - Starting residual calculation for years 2006 to 2006\n",
      "2025-06-20 16:52:02,642 - INFO - Processing year 2006\n",
      "2025-06-20 16:52:02,643 - INFO - Both datasets have data for year 2006\n",
      "2025-06-20 16:52:02,643 - INFO - Finding absolute calving data for year 2006 using parallel processing\n",
      "2025-06-20 16:52:02,645 - INFO - Selected data for year 2006 from both datasets\n",
      "2025-06-20 16:52:02,646 - INFO - Total grid points to process: 194449\n",
      "2025-06-20 16:52:02,646 - INFO - Batch size: 50\n",
      "2025-06-20 16:52:02,647 - INFO - Created 84 batches\n",
      "2025-06-20 16:52:02,649 - INFO - Using 8 worker processes\n",
      "2025-06-20 16:52:12,826 - INFO - Completed 20/84 batches\n",
      "2025-06-20 16:52:20,668 - INFO - Completed 40/84 batches\n",
      "2025-06-20 16:52:29,506 - INFO - Completed 60/84 batches\n",
      "2025-06-20 16:52:37,151 - INFO - Completed 80/84 batches\n",
      "2025-06-20 16:52:39,156 - INFO - Processing completed in 36.51 seconds\n",
      "2025-06-20 16:52:39,159 - INFO - Found 194449 valid points out of 194449 total points\n",
      "2025-06-20 16:52:39,160 - INFO - Returning 194449 calving data records\n",
      "2025-06-20 16:52:39,176 - INFO - Added 2 residual records for year 2006\n",
      "2025-06-20 16:52:39,181 - INFO - Completed processing. Total years with data: 1\n",
      "2025-06-20 16:52:39,182 - INFO - Saving residuals to JSON file\n",
      "2025-06-20 16:52:39,184 - INFO - Successfully saved residuals to JSON file\n"
     ]
    },
    {
     "name": "stdout",
     "output_type": "stream",
     "text": [
      "Comparison for 2006: 2 data points\n"
     ]
    }
   ],
   "source": [
    "import logging\n",
    "import json\n",
    "\n",
    "logging.info(f\"Starting residual calculation for years {start_year} to {end_year}\")\n",
    "residuals_list = []\n",
    "analyses = []\n",
    "\n",
    "for year in range(start_year, end_year + 1):\n",
    "    logging.info(f\"Processing year {year}\")\n",
    "\n",
    "    # Check if both datasets have data for the current year\n",
    "    if gsfc is not None and model_res is not None:\n",
    "        logging.info(f\"Both datasets have data for year {year}\")\n",
    "        residual, analysis = find_absolute_calving_per_year_parallel(gsfc, model_res, year, num_workers=8, batch_size=50)\n",
    "        residual = {'time': year, 'data': residual}  # Ensure 'data' is a key in the dictionary\n",
    "        residuals_list.append(residual)\n",
    "        analyses.append(analysis)\n",
    "        logging.info(f\"Added {len(residual)} residual records for year {year}\")\n",
    "        \n",
    "\n",
    "        # Print or log the comparison results\n",
    "        print(f\"Comparison for {year}: {len(residual)} data points\")\n",
    "    else:\n",
    "        logging.warning(f\"No data available for {year} in one or both datasets\")\n",
    "        print(f\"No data available for {year} in one or both datasets.\")\n",
    "        continue\n",
    "\n",
    "logging.info(f\"Completed processing. Total years with data: {len(residuals_list)}\")\n",
    "logging.info(\"Saving residuals to JSON file\")\n",
    "\n",
    "json.dump(analyses, open(cmct_dir + '/notebooks/Calving/analyses.json', 'w'))\n",
    "\n",
    "logging.info(\"Successfully saved residuals to JSON file\")\n"
   ]
  },
  {
   "cell_type": "markdown",
   "id": "9f077686",
   "metadata": {},
   "source": [
    "# Json Conversion to NetCDF "
   ]
  },
  {
   "cell_type": "code",
   "execution_count": 11,
   "id": "d40a8af5",
   "metadata": {},
   "outputs": [
    {
     "name": "stdout",
     "output_type": "stream",
     "text": [
      "Creating NetCDF dataset...\n"
     ]
    }
   ],
   "source": [
    "from cmct.calving_modules.json_to_netcdf import json_to_netcdf\n",
    "# If you would like to get an output file, set it up in the configuration code.\n",
    "if filetype == 'json':\n",
    "    output_filename = cmct_dir + f'/notebooks/Calving/{filename}.json'\n",
    "    json.dump(residuals_list, open(cmct_dir + '/notebooks/Calving/residuals.json', 'w'))\n",
    "elif filetype == 'netcdf':\n",
    "    output_filename = cmct_dir + f'/notebooks/Calving/{filename}.nc'\n",
    "    \n",
    "    # GSFC Residual is a version of gsfc with the residuals\n",
    "    gsfc_ds_residual = json_to_netcdf(residuals_list)\n",
    "    gsfc_ds_residual.to_netcdf(output_filename, mode='w', format='NETCDF4')"
   ]
  },
  {
   "cell_type": "markdown",
   "id": "481a6c34",
   "metadata": {},
   "source": [
    "# Plot Generation\n",
    "\n",
    "## Configuration\n",
    "- gsfc_ds_residual required for plot generation"
   ]
  },
  {
   "cell_type": "code",
   "execution_count": 20,
   "id": "23ffb546",
   "metadata": {},
   "outputs": [
    {
     "data": {
      "text/plain": [
       "<Figure size 1000x600 with 0 Axes>"
      ]
     },
     "execution_count": 20,
     "metadata": {},
     "output_type": "execute_result"
    },
    {
     "data": {
      "text/plain": [
       "<Figure size 1000x600 with 0 Axes>"
      ]
     },
     "metadata": {},
     "output_type": "display_data"
    }
   ],
   "source": [
    "# Which year do you want plots for?\n",
    "year = 2006\n",
    "\n",
    "\n",
    "\n",
    "# Plot config\n",
    "plt.figure(figsize=(10, 6))\n",
    "# plt.cm.viridis.set_bad('lightblue')  # Set color for NaN values"
   ]
  },
  {
   "cell_type": "code",
   "execution_count": 25,
   "id": "c1ba6613",
   "metadata": {},
   "outputs": [
    {
     "data": {
      "text/plain": [
       "<matplotlib.colorbar.Colorbar at 0x321fad2e0>"
      ]
     },
     "execution_count": 25,
     "metadata": {},
     "output_type": "execute_result"
    },
    {
     "data": {
      "image/png": "[encoded data removed]",
      "text/plain": [
       "<Figure size 640x480 with 2 Axes>"
      ]
     },
     "metadata": {},
     "output_type": "display_data"
    }
   ],
   "source": [
    "# Plotting the resdiual for the specified year]\n",
    "plt.imshow(gsfc_ds_residual.sel(year=year).residual.values, cmap='ocean', origin='lower')\n",
    "plt.title(f\"GSFC Ice Mask for {year} at x={x}, y={y}\")\n",
    "plt.colorbar(label='Ice Mask Value')"
   ]
  },
  {
   "cell_type": "code",
   "execution_count": null,
   "id": "63f95131",
   "metadata": {},
   "outputs": [],
   "source": []
  }
 ],
 "metadata": {
  "kernelspec": {
   "display_name": "CmCt",
   "language": "python",
   "name": "python3"
  },
  "language_info": {
   "codemirror_mode": {
    "name": "ipython",
    "version": 3
   },
   "file_extension": ".py",
   "mimetype": "text/x-python",
   "name": "python",
   "nbconvert_exporter": "python",
   "pygments_lexer": "ipython3",
   "version": "3.12.7"
  }
 },
 "nbformat": 4,
 "nbformat_minor": 5
}
