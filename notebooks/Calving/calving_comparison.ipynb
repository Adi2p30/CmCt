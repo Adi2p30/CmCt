{
 "cells": [
  {
   "cell_type": "markdown",
   "id": "4e5b46ce",
   "metadata": {},
   "source": [
    "# Cryosphere model Comparison tool (CmCt) --- Calving"
   ]
  },
  {
   "cell_type": "markdown",
   "id": "d16254a6",
   "metadata": {},
   "source": [
    "The CmCt Calving tool compares user uploaded ice sheet model to satellite calving data, derived from the   satellite missions. The CmCt reprojects modeled ice sheet mass change into calving space and performs a direct quantitative comparison, calculating model-observation discrepancies, therefore bringing the ice sheet model and calving data to the same spatial resolution for comparison."
   ]
  },
  {
   "cell_type": "markdown",
   "id": "5bfbf8b4",
   "metadata": {},
   "source": [
    "## Calving dataset description"
   ]
  },
  {
   "cell_type": "markdown",
   "id": "9af5ce74",
   "metadata": {},
   "source": [
    "For comparison to the user's model, the tool uses the NASA GSFC GRACE mascon product, which can be downloaded from [here](https://earth.gsfc.nasa.gov/geo/data/grace-mascons/). Future developments will include adding the functionality to automatically check the product distribution website for an updated dataset."
   ]
  },
  {
   "cell_type": "markdown",
   "id": "6545a82d",
   "metadata": {},
   "source": [
    "## Input data requirements"
   ]
  },
  {
   "cell_type": "markdown",
   "id": "501f7611",
   "metadata": {},
   "source": [
    "The input ice sheet model needs to be provided as a netCDF file. The user may upload a single input file that includes multiple years; future enhancements to this tool will allow users to upload model ensembles.\n",
    "\n",
    "There are several requirements for the comparison:\n",
    "\n",
    "### `Lithk` variable\n",
    "\n",
    "The CmCt Grace Mascon tool expects the uploaded model to contain thickness data (the `lithk` variable) for the comparison.\n",
    "\n",
    "### Rectangular grid\n",
    "\n",
    "At time of writing, models *must* be defined on a rectangular X-Y grid in the ISMIP6 standard projected polar-stereographic space. (Note, NOT a lat-lon grid!) The ISMIP6 standard projection is defined [here](https://theghub.org/groups/ismip6/wiki). \n",
    "\n",
    "### Date range\n",
    "\n",
    "The NASA GSFC GRACE mascon dataset starts on 04/2002 and is updated ~quarterly. The user can select start and end dates within this span as part of the setup for the tool."
   ]
  },
  {
   "cell_type": "code",
   "execution_count": 2,
   "id": "c2ce1b13",
   "metadata": {},
   "outputs": [],
   "source": [
    "## Import modules\n",
    "import os,sys\n",
    "import numpy as np\n",
    "import cftime \n",
    "\n",
    "# Add the directory containing 'cmct' to the Python path\n",
    "# Navigate two levels up to reach main CmCt dir\n",
    "cmct_dir = os.path.abspath(os.path.join(os.getcwd(), os.pardir, os.pardir))\n",
    "\n",
    "# Import utilities for this comparison\n",
    "sys.path.insert(0,cmct_dir)\n",
    "from cmct.time_utils import check_datarange\n",
    "from cmct.calving import *\n",
    "from cmct.gravimetry import *\n",
    "from cmct.projection import *\n"
   ]
  },
  {
   "cell_type": "markdown",
   "id": "73419c80",
   "metadata": {},
   "source": [
    "### Finding the Dataset"
   ]
  },
  {
   "cell_type": "code",
   "execution_count": 3,
   "id": "8aace065",
   "metadata": {},
   "outputs": [],
   "source": [
    "# Ice sheet\n",
    "loc = 'GIS' # 'GIS' or 'AIS'\n",
    "\n",
    "# Set time range for comparison\n",
    "start_date = '2006-01-01' \n",
    "end_date = '2014-12-31' \n",
    "\n",
    "# Set the observation data dir path\n",
    "obs_filename = cmct_dir + '/data/calving/sftgif_GIS_JPL_ISSM_historical.nc'\n",
    "\n",
    "\n",
    "# LEGACY Gravimetry data paths\n",
    "\n",
    "# # Set the model data dir path\n",
    "# if loc == \"GIS\":\n",
    "#     # Greenland\n",
    "#     nc_filename = cmct_dir + '/test/gris_dmdt_filt.nc'\n",
    "# elif loc == \"AIS\":    \n",
    "#     # Antartica\n",
    "#     nc_filename = cmct_dir + '/test/ais_dmdt_grounded_filt.nc'\n",
    "\n",
    "# # Set the output plot file names\n",
    "# plot_filename = os.path.splitext(os.path.basename(nc_filename))[0] + '_calving_comp'\n",
    "# output_plot_filename = cmct_dir + '/notebooks/Calving/'+ plot_filename + '.png'\n",
    "# output_netcdf_filename = cmct_dir + '/notebooks/Calving/'+ plot_filename + '.nc'\n"
   ]
  },
  {
   "cell_type": "code",
   "execution_count": 4,
   "id": "81960632",
   "metadata": {},
   "outputs": [],
   "source": [
    "# Check if observation file exist\n",
    "if not os.path.exists(obs_filename):\n",
    "    raise FileNotFoundError(f\"Observation file not found: {obs_filename}\")\n",
    "\n",
    "# # Check if model file exist\n",
    "# if not os.path.exists(nc_filename):\n",
    "#     raise FileNotFoundError(f\"Model file not found: {nc_filename}\")\n"
   ]
  },
  {
   "cell_type": "markdown",
   "id": "a9c3d00a",
   "metadata": {},
   "source": [
    "## Set polar sterographic projection definition\n",
    "Currently, the CmCt expects the model data to be provided in a specific polar stereographic projection. This is hardcoded in the notebook. As a future enhancement, the projection can be obtained from the loaded model."
   ]
  },
  {
   "cell_type": "code",
   "execution_count": 5,
   "id": "4b251792",
   "metadata": {},
   "outputs": [],
   "source": [
    "polar_stereographic = set_projection(loc)"
   ]
  },
  {
   "cell_type": "markdown",
   "id": "912ecbfd",
   "metadata": {},
   "source": [
    "## Process observation"
   ]
  },
  {
   "cell_type": "code",
   "execution_count": null,
   "id": "5e5e793c",
   "metadata": {},
   "outputs": [
    {
     "name": "stdout",
     "output_type": "stream",
     "text": [
      "/Users/aditya_pachpande/Documents/GitHub/CmCt/data/calving/sftgif_GIS_JPL_ISSM_historical.nc\n",
      "<class 'cmct.calving.GSFCcalving'>\n",
      "{'ds': <xarray.Dataset>\n",
      "Dimensions:   (y: 577, x: 337, nv4: 4, time: 36)\n",
      "Coordinates:\n",
      "    lon       (y, x) float64 ...\n",
      "    lat       (y, x) float64 ...\n",
      "  * time      (time) object 1980-01-01 00:00:00 ... 2015-01-01 00:00:00\n",
      "  * x         (x) float64 -7.2e+05 -7.15e+05 -7.1e+05 ... 9.55e+05 9.6e+05\n",
      "  * y         (y) float64 -3.45e+06 -3.445e+06 -3.44e+06 ... -5.75e+05 -5.7e+05\n",
      "Dimensions without coordinates: nv4\n",
      "Data variables:\n",
      "    lon_bnds  (y, x, nv4) float64 ...\n",
      "    lat_bnds  (y, x, nv4) float64 ...\n",
      "    sftgif    (time, y, x) float64 ...\n",
      "Attributes:\n",
      "    Conventions:  CF-1.6\n",
      "    title:        ISMIP6 Projections Greenland model output\n",
      "    institution:  NASA Jet Propulsion Laboratory, Pasadena, USA\n",
      "    source:       ISSM\n",
      "    references:   https://doi.org/10.5194/tc-14-3071-2020\n",
      "    contact:      Name = Helene Seroussi, Nicole Schlegel, Email = helene.ser...\n",
      "    comment:      JPL, ISSM, 'lat': <xarray.DataArray 'lat' (y: 577, x: 337)>\n",
      "[194449 values with dtype=float64]\n",
      "Coordinates:\n",
      "    lon      (y, x) float64 ...\n",
      "    lat      (y, x) float64 ...\n",
      "  * x        (x) float64 -7.2e+05 -7.15e+05 -7.1e+05 ... 9.55e+05 9.6e+05\n",
      "  * y        (y) float64 -3.45e+06 -3.445e+06 -3.44e+06 ... -5.75e+05 -5.7e+05\n",
      "Attributes:\n",
      "    standard_name:  latitude\n",
      "    long_name:      latitude\n",
      "    units:          degrees_north\n",
      "    bounds:         lat_bnds, 'lat_bnds': <xarray.DataArray 'lat_bnds' (y: 577, x: 337, nv4: 4)>\n",
      "[777796 values with dtype=float64]\n",
      "Coordinates:\n",
      "    lon      (y, x) float64 ...\n",
      "    lat      (y, x) float64 ...\n",
      "  * x        (x) float64 -7.2e+05 -7.15e+05 -7.1e+05 ... 9.55e+05 9.6e+05\n",
      "  * y        (y) float64 -3.45e+06 -3.445e+06 -3.44e+06 ... -5.75e+05 -5.7e+05\n",
      "Dimensions without coordinates: nv4, 'lon': <xarray.DataArray 'lon' (y: 577, x: 337)>\n",
      "[194449 values with dtype=float64]\n",
      "Coordinates:\n",
      "    lon      (y, x) float64 ...\n",
      "    lat      (y, x) float64 ...\n",
      "  * x        (x) float64 -7.2e+05 -7.15e+05 -7.1e+05 ... 9.55e+05 9.6e+05\n",
      "  * y        (y) float64 -3.45e+06 -3.445e+06 -3.44e+06 ... -5.75e+05 -5.7e+05\n",
      "Attributes:\n",
      "    standard_name:  longitude\n",
      "    long_name:      longitude\n",
      "    units:          degrees_east\n",
      "    bounds:         lon_bnds, 'lon_bnds': <xarray.DataArray 'lon_bnds' (y: 577, x: 337, nv4: 4)>\n",
      "[777796 values with dtype=float64]\n",
      "Coordinates:\n",
      "    lon      (y, x) float64 ...\n",
      "    lat      (y, x) float64 ...\n",
      "  * x        (x) float64 -7.2e+05 -7.15e+05 -7.1e+05 ... 9.55e+05 9.6e+05\n",
      "  * y        (y) float64 -3.45e+06 -3.445e+06 -3.44e+06 ... -5.75e+05 -5.7e+05\n",
      "Dimensions without coordinates: nv4, 'time': <xarray.DataArray 'time' (time: 36)>\n",
      "array([cftime.DatetimeNoLeap(1980, 1, 1, 0, 0, 0, 0, has_year_zero=True),\n",
      "       cftime.DatetimeNoLeap(1981, 1, 1, 0, 0, 0, 0, has_year_zero=True),\n",
      "       cftime.DatetimeNoLeap(1982, 1, 1, 0, 0, 0, 0, has_year_zero=True),\n",
      "       cftime.DatetimeNoLeap(1983, 1, 1, 0, 0, 0, 0, has_year_zero=True),\n",
      "       cftime.DatetimeNoLeap(1984, 1, 1, 0, 0, 0, 0, has_year_zero=True),\n",
      "       cftime.DatetimeNoLeap(1985, 1, 1, 0, 0, 0, 0, has_year_zero=True),\n",
      "       cftime.DatetimeNoLeap(1986, 1, 1, 0, 0, 0, 0, has_year_zero=True),\n",
      "       cftime.DatetimeNoLeap(1987, 1, 1, 0, 0, 0, 0, has_year_zero=True),\n",
      "       cftime.DatetimeNoLeap(1988, 1, 1, 0, 0, 0, 0, has_year_zero=True),\n",
      "       cftime.DatetimeNoLeap(1989, 1, 1, 0, 0, 0, 0, has_year_zero=True),\n",
      "       cftime.DatetimeNoLeap(1990, 1, 1, 0, 0, 0, 0, has_year_zero=True),\n",
      "       cftime.DatetimeNoLeap(1991, 1, 1, 0, 0, 0, 0, has_year_zero=True),\n",
      "       cftime.DatetimeNoLeap(1992, 1, 1, 0, 0, 0, 0, has_year_zero=True),\n",
      "       cftime.DatetimeNoLeap(1993, 1, 1, 0, 0, 0, 0, has_year_zero=True),\n",
      "       cftime.DatetimeNoLeap(1994, 1, 1, 0, 0, 0, 0, has_year_zero=True),\n",
      "       cftime.DatetimeNoLeap(1995, 1, 1, 0, 0, 0, 0, has_year_zero=True),\n",
      "       cftime.DatetimeNoLeap(1996, 1, 1, 0, 0, 0, 0, has_year_zero=True),\n",
      "       cftime.DatetimeNoLeap(1997, 1, 1, 0, 0, 0, 0, has_year_zero=True),\n",
      "       cftime.DatetimeNoLeap(1998, 1, 1, 0, 0, 0, 0, has_year_zero=True),\n",
      "       cftime.DatetimeNoLeap(1999, 1, 1, 0, 0, 0, 0, has_year_zero=True),\n",
      "       cftime.DatetimeNoLeap(2000, 1, 1, 0, 0, 0, 0, has_year_zero=True),\n",
      "       cftime.DatetimeNoLeap(2001, 1, 1, 0, 0, 0, 0, has_year_zero=True),\n",
      "       cftime.DatetimeNoLeap(2002, 1, 1, 0, 0, 0, 0, has_year_zero=True),\n",
      "       cftime.DatetimeNoLeap(2003, 1, 1, 0, 0, 0, 0, has_year_zero=True),\n",
      "       cftime.DatetimeNoLeap(2004, 1, 1, 0, 0, 0, 0, has_year_zero=True),\n",
      "       cftime.DatetimeNoLeap(2005, 1, 1, 0, 0, 0, 0, has_year_zero=True),\n",
      "       cftime.DatetimeNoLeap(2006, 1, 1, 0, 0, 0, 0, has_year_zero=True),\n",
      "       cftime.DatetimeNoLeap(2007, 1, 1, 0, 0, 0, 0, has_year_zero=True),\n",
      "       cftime.DatetimeNoLeap(2008, 1, 1, 0, 0, 0, 0, has_year_zero=True),\n",
      "       cftime.DatetimeNoLeap(2009, 1, 1, 0, 0, 0, 0, has_year_zero=True),\n",
      "       cftime.DatetimeNoLeap(2010, 1, 1, 0, 0, 0, 0, has_year_zero=True),\n",
      "       cftime.DatetimeNoLeap(2011, 1, 1, 0, 0, 0, 0, has_year_zero=True),\n",
      "       cftime.DatetimeNoLeap(2012, 1, 1, 0, 0, 0, 0, has_year_zero=True),\n",
      "       cftime.DatetimeNoLeap(2013, 1, 1, 0, 0, 0, 0, has_year_zero=True),\n",
      "       cftime.DatetimeNoLeap(2014, 1, 1, 0, 0, 0, 0, has_year_zero=True),\n",
      "       cftime.DatetimeNoLeap(2015, 1, 1, 0, 0, 0, 0, has_year_zero=True)],\n",
      "      dtype=object)\n",
      "Coordinates:\n",
      "  * time     (time) object 1980-01-01 00:00:00 ... 2015-01-01 00:00:00\n",
      "Attributes:\n",
      "    standard_name:  time\n",
      "    long_name:      time\n",
      "    axis:           T, 'sftgif': <xarray.DataArray 'sftgif' (time: 36, y: 577, x: 337)>\n",
      "[7000164 values with dtype=float64]\n",
      "Coordinates:\n",
      "    lon      (y, x) float64 ...\n",
      "    lat      (y, x) float64 ...\n",
      "  * time     (time) object 1980-01-01 00:00:00 ... 2015-01-01 00:00:00\n",
      "  * x        (x) float64 -7.2e+05 -7.15e+05 -7.1e+05 ... 9.55e+05 9.6e+05\n",
      "  * y        (y) float64 -3.45e+06 -3.445e+06 -3.44e+06 ... -5.75e+05 -5.7e+05\n",
      "Attributes:\n",
      "    long_name:      land ice area fraction\n",
      "    standard_name:  land_ice_area_fraction\n",
      "    units:          1, 'x': <xarray.DataArray 'x' (x: 337)>\n",
      "array([-720000., -715000., -710000., ...,  950000.,  955000.,  960000.])\n",
      "Coordinates:\n",
      "  * x        (x) float64 -7.2e+05 -7.15e+05 -7.1e+05 ... 9.55e+05 9.6e+05\n",
      "Attributes:\n",
      "    long_name:  cartesian_x_coordinate\n",
      "    units:      m\n",
      "    axis:       X, 'y': <xarray.DataArray 'y' (y: 577)>\n",
      "array([-3450000., -3445000., -3440000., ...,  -580000.,  -575000.,  -570000.])\n",
      "Coordinates:\n",
      "  * y        (y) float64 -3.45e+06 -3.445e+06 -3.44e+06 ... -5.75e+05 -5.7e+05\n",
      "Attributes:\n",
      "    long_name:  cartesian_y_coordinate\n",
      "    units:      m\n",
      "    axis:       Y}\n",
      "<xarray.DataArray 'sftgif' (time: 36, y: 577, x: 337)>\n",
      "[7000164 values with dtype=float64]\n",
      "Coordinates:\n",
      "    lon      (y, x) float64 ...\n",
      "    lat      (y, x) float64 ...\n",
      "  * time     (time) object 1980-01-01 00:00:00 ... 2015-01-01 00:00:00\n",
      "  * x        (x) float64 -7.2e+05 -7.15e+05 -7.1e+05 ... 9.55e+05 9.6e+05\n",
      "  * y        (y) float64 -3.45e+06 -3.445e+06 -3.44e+06 ... -5.75e+05 -5.7e+05\n",
      "Attributes:\n",
      "    long_name:      land ice area fraction\n",
      "    standard_name:  land_ice_area_fraction\n",
      "    units:          1\n"
     ]
    }
   ],
   "source": [
    "print(obs_filename)\n",
    "gsfc = load_gsfc_calving(obs_filename)\n",
    "print(type(gsfc))\n",
    "# print(gsfc.print_info())  # Print the gsfc object to see its contents\n",
    "print(vars(gsfc)) \n",
    "  # Print the attributes of the gsfc object"
   ]
  },
  {
   "cell_type": "code",
   "execution_count": 86,
   "id": "3612a81d",
   "metadata": {},
   "outputs": [
    {
     "name": "stdout",
     "output_type": "stream",
     "text": [
      "-720000.0\n",
      "-3450000.0\n"
     ]
    }
   ],
   "source": [
    "# To get the specific value\n",
    "print(gsfc.sftgif[0][:][0][0][\"x\"].values)\n",
    "print(gsfc.sftgif[0][:][0][0][\"y\"].values)"
   ]
  },
  {
   "cell_type": "code",
   "execution_count": 105,
   "id": "7860997e",
   "metadata": {},
   "outputs": [
    {
     "name": "stdout",
     "output_type": "stream",
     "text": [
      "<xarray.DataArray 'x' ()>\n",
      "array(-720000.)\n",
      "Coordinates:\n",
      "    lon      float64 ...\n",
      "    lat      float64 ...\n",
      "    time     object 1981-01-01 00:00:00\n",
      "    x        float64 -7.2e+05\n",
      "    y        float64 -3.445e+06\n",
      "Attributes:\n",
      "    long_name:  cartesian_x_coordinate\n",
      "    units:      m\n",
      "    axis:       X\n",
      "<xarray.DataArray 'sftgif' ()>\n",
      "[1 values with dtype=float64]\n",
      "Coordinates:\n",
      "    lon      float64 ...\n",
      "    lat      float64 ...\n",
      "    time     object 1981-01-01 00:00:00\n",
      "    x        float64 -7.15e+05\n",
      "    y        float64 -3.445e+06\n",
      "Attributes:\n",
      "    long_name:      land ice area fraction\n",
      "    standard_name:  land_ice_area_fraction\n",
      "    units:          1\n"
     ]
    }
   ],
   "source": [
    "# To get the range\n",
    "# The way it is structured is, time, y, x \n",
    "print(gsfc.sftgif[1][1][0][\"x\"])\n",
    "\n",
    "print(gsfc.sftgif[1][1][1])\n"
   ]
  }
 ],
 "metadata": {
  "kernelspec": {
   "display_name": "CmCt",
   "language": "python",
   "name": "python3"
  },
  "language_info": {
   "codemirror_mode": {
    "name": "ipython",
    "version": 3
   },
   "file_extension": ".py",
   "mimetype": "text/x-python",
   "name": "python",
   "nbconvert_exporter": "python",
   "pygments_lexer": "ipython3",
   "version": "3.12.7"
  }
 },
 "nbformat": 4,
 "nbformat_minor": 5
}
